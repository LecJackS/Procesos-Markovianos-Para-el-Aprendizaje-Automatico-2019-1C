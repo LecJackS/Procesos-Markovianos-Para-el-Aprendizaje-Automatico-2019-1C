{
 "cells": [
  {
   "cell_type": "markdown",
   "metadata": {
    "colab_type": "text",
    "id": "8NxgP4gIN5eF"
   },
   "source": [
    "**Recycling robot example** (from Sutton, page 42)\n",
    "References:\n",
    "  - Gym documentation: https://gym.openai.com/\n",
    "\n",
    "  "
   ]
  },
  {
   "cell_type": "code",
   "execution_count": 252,
   "metadata": {
    "colab": {},
    "colab_type": "code",
    "id": "fQ-0sEtFFcTM"
   },
   "outputs": [],
   "source": [
    "import numpy as np\n",
    "from gym.envs.toy_text import discrete\n",
    "import random\n",
    "import matplotlib.pyplot as plt"
   ]
  },
  {
   "cell_type": "markdown",
   "metadata": {
    "colab": {},
    "colab_type": "code",
    "id": "i3dzvy9s6aX3"
   },
   "source": [
    "##### TODO: Describir coloquialmente el modelo de sutton\n",
    "Dos estados: high y low\n",
    "Tres acciones: search, wait, recharge\n",
    "\n",
    "##### TODO: Explicar lo básico de GYM"
   ]
  },
  {
   "cell_type": "markdown",
   "metadata": {
    "colab_type": "text",
    "id": "GPaZiYtu6aX6"
   },
   "source": [
    "# Considere el modelo del robot de reciclaje descríto en Sutton Example 3.2"
   ]
  },
  {
   "cell_type": "markdown",
   "metadata": {},
   "source": [
    "<img src=\"img/example3.2-1.png\" width=\"500\" align=\"left\">"
   ]
  },
  {
   "cell_type": "markdown",
   "metadata": {},
   "source": [
    "<img src=\"img/example3.2-2.png\" width=\"500\" align=\"left\">"
   ]
  },
  {
   "cell_type": "code",
   "execution_count": 253,
   "metadata": {
    "colab": {},
    "colab_type": "code",
    "id": "U96qJdswGBFr"
   },
   "outputs": [],
   "source": [
    "states = [\"high\", \"low\"]\n",
    "actions = [\"wait\", \"search\", \"recharge\"]\n",
    "\n",
    "P = {}\n",
    "\n",
    "P[0] = {}\n",
    "P[1] = {}\n",
    "\n",
    "alpha = 0.8\n",
    "beta = 0.1\n",
    "r_wait = 0.5\n",
    "r_search = 2.0\n",
    "\n",
    "# definimos un ambiente discreto con las transiciones según el gráfico\n",
    "def generar_ambiente(alpha=alpha, beta=beta, r_wait=r_wait, r_search=r_search):\n",
    "    P[0][0] = [(1.0, 0, r_wait, False)]\n",
    "    P[0][1] = [(alpha, 0, r_search, False),\n",
    "               (1-alpha, 1, r_search, False)]\n",
    "    P[0][2] = [(1,0,0,False)]\n",
    "\n",
    "    P[1][0] = [(1.0, 1, r_wait, False)]\n",
    "    P[1][1] = [(beta, 1, r_search, False), \n",
    "               (1-beta, 0, -3.0, False)]\n",
    "    P[1][2] = [(1.0, 0, 0.0, False)]\n",
    "    env = discrete.DiscreteEnv(2, 3, P, [0.0, 1.0])\n",
    "    return(env)\n",
    "env = generar_ambiente()"
   ]
  },
  {
   "cell_type": "markdown",
   "metadata": {
    "colab_type": "text",
    "id": "vvcF7--Z6aX8"
   },
   "source": [
    "# Implemente la estrategia random para veinte episodios. \n"
   ]
  },
  {
   "cell_type": "markdown",
   "metadata": {
    "colab_type": "text",
    "id": "XoNiKgvOIC3n"
   },
   "source": [
    "Definir una acción aleatoria y ver que reward produce"
   ]
  },
  {
   "cell_type": "code",
   "execution_count": 254,
   "metadata": {},
   "outputs": [
    {
     "name": "stdout",
     "output_type": "stream",
     "text": [
      "Obs\tDone\tReward\tC.Reward\tAction\n",
      "1 \t False \t 0.5 \t 0.500 \t\t 0\n",
      "1 \t False \t 0.5 \t 1.000 \t\t 0\n",
      "1 \t False \t 0.5 \t 1.500 \t\t 0\n",
      "0 \t False \t 0.0 \t 1.500 \t\t 2\n",
      "0 \t False \t 0.5 \t 2.000 \t\t 0\n",
      "0 \t False \t 0.5 \t 2.500 \t\t 0\n",
      "0 \t False \t 0.5 \t 3.000 \t\t 0\n",
      "0 \t False \t 2.0 \t 5.000 \t\t 1\n",
      "0 \t False \t 0.5 \t 5.500 \t\t 0\n",
      "0 \t False \t 2.0 \t 7.500 \t\t 1\n",
      "0 \t False \t 0.5 \t 8.000 \t\t 0\n",
      "0 \t False \t 2.0 \t 10.000 \t\t 1\n",
      "0 \t False \t 2.0 \t 12.000 \t\t 1\n",
      "0 \t False \t 2.0 \t 14.000 \t\t 1\n",
      "0 \t False \t 2.0 \t 16.000 \t\t 1\n",
      "0 \t False \t 0.5 \t 16.500 \t\t 0\n",
      "0 \t False \t 2.0 \t 18.500 \t\t 1\n",
      "0 \t False \t 0.5 \t 19.000 \t\t 0\n",
      "0 \t False \t 0.5 \t 19.500 \t\t 0\n",
      "0 \t False \t 2.0 \t 21.500 \t\t 1\n",
      "0 \t False \t 0.5 \t 22.000 \t\t 0\n",
      "0 \t False \t 0.5 \t 22.500 \t\t 0\n",
      "0 \t False \t 0.5 \t 23.000 \t\t 0\n",
      "0 \t False \t 2.0 \t 25.000 \t\t 1\n",
      "0 \t False \t 0.5 \t 25.500 \t\t 0\n",
      "0 \t False \t 2.0 \t 27.500 \t\t 1\n",
      "0 \t False \t 0.5 \t 28.000 \t\t 0\n",
      "0 \t False \t 0.5 \t 28.500 \t\t 0\n",
      "0 \t False \t 2.0 \t 30.500 \t\t 1\n",
      "0 \t False \t 2.0 \t 32.500 \t\t 1\n",
      "0 \t False \t 0.5 \t 33.000 \t\t 0\n",
      "0 \t False \t 2.0 \t 35.000 \t\t 1\n",
      "0 \t False \t 0.5 \t 35.500 \t\t 0\n",
      "1 \t False \t 2.0 \t 37.500 \t\t 1\n",
      "0 \t False \t 0.0 \t 37.500 \t\t 2\n",
      "0 \t False \t 2.0 \t 39.500 \t\t 1\n",
      "0 \t False \t 0.5 \t 40.000 \t\t 0\n",
      "0 \t False \t 2.0 \t 42.000 \t\t 1\n",
      "1 \t False \t 2.0 \t 44.000 \t\t 1\n",
      "0 \t False \t 0.0 \t 44.000 \t\t 2\n",
      "0 \t False \t 2.0 \t 46.000 \t\t 1\n",
      "0 \t False \t 0.5 \t 46.500 \t\t 0\n",
      "1 \t False \t 2.0 \t 48.500 \t\t 1\n",
      "0 \t False \t 0.0 \t 48.500 \t\t 2\n",
      "0 \t False \t 0.5 \t 49.000 \t\t 0\n",
      "0 \t False \t 0.5 \t 49.500 \t\t 0\n",
      "0 \t False \t 2.0 \t 51.500 \t\t 1\n",
      "0 \t False \t 0.5 \t 52.000 \t\t 0\n",
      "0 \t False \t 0.5 \t 52.500 \t\t 0\n",
      "0 \t False \t 0.5 \t 53.000 \t\t 0\n"
     ]
    }
   ],
   "source": [
    "env = generar_ambiente()\n",
    "print(\"Obs\\tDone\\tReward\\tC.Reward\\tAction\")\n",
    "verbose=True\n",
    "history = []\n",
    "rewardAcum = 0\n",
    "state=1 # < starting state\n",
    "for i in range(50):\n",
    "    #action = env.action_space.sample()\n",
    "    if state == 1:\n",
    "        action = np.random.choice([0,1,2])\n",
    "    else:\n",
    "        action = np.random.choice([0,1])\n",
    "    #print(action)\n",
    "    state, reward, done, info = env.step(action)\n",
    "    if done:\n",
    "        observation = env.reset()\n",
    "    rewardAcum += reward\n",
    "    elemHist = np.array([i, reward, rewardAcum])\n",
    "    history.append(elemHist)\n",
    "    if verbose:\n",
    "        print(state,\"\\t\", done,\"\\t\", reward, \"\\t\", \"%.3f\" % rewardAcum, \"\\t\\t\", action)\n",
    "    env.close()"
   ]
  },
  {
   "cell_type": "markdown",
   "metadata": {
    "colab_type": "text",
    "id": "u9kpyAEk6aYB"
   },
   "source": [
    "# Grafique la recompensa acumulada"
   ]
  },
  {
   "cell_type": "code",
   "execution_count": 255,
   "metadata": {},
   "outputs": [
    {
     "data": {
      "text/plain": [
       "array([[0. , 0.5, 0.5],\n",
       "       [1. , 0.5, 1. ],\n",
       "       [2. , 0.5, 1.5],\n",
       "       [3. , 0. , 1.5],\n",
       "       [4. , 0.5, 2. ],\n",
       "       [5. , 0.5, 2.5]])"
      ]
     },
     "execution_count": 255,
     "metadata": {},
     "output_type": "execute_result"
    }
   ],
   "source": [
    "# to numpy\n",
    "history = np.array(history)\n",
    "history[0:6]"
   ]
  },
  {
   "cell_type": "code",
   "execution_count": 256,
   "metadata": {},
   "outputs": [
    {
     "data": {
      "text/plain": [
       "array([0.5, 0.5, 0.5, 0. , 0.5, 0.5])"
      ]
     },
     "execution_count": 256,
     "metadata": {},
     "output_type": "execute_result"
    }
   ],
   "source": [
    "# so I can do this\n",
    "history[0:6, 1]"
   ]
  },
  {
   "cell_type": "code",
   "execution_count": 257,
   "metadata": {},
   "outputs": [
    {
     "data": {
      "text/plain": [
       "<matplotlib.legend.Legend at 0x7fab03f73ef0>"
      ]
     },
     "execution_count": 257,
     "metadata": {},
     "output_type": "execute_result"
    },
    {
     "data": {
      "image/png": "[encoded data removed]",
      "text/plain": [
       "<matplotlib.figure.Figure at 0x7fab04063ef0>"
      ]
     },
     "metadata": {
      "needs_background": "light"
     },
     "output_type": "display_data"
    }
   ],
   "source": [
    "plt.grid()\n",
    "plt.xlabel(\"time step\")\n",
    "plt.ylabel(\"reward\")\n",
    "plt.xticks(np.arange(0,len(history),1))\n",
    "plt.plot(history[:,0], history[:,2], 'ro', label='Reward acumulado')\n",
    "plt.plot(history[:,0], history[:,1], 'b.', label='Reward instantaneo')\n",
    "\n",
    "plt.legend()"
   ]
  },
  {
   "cell_type": "markdown",
   "metadata": {
    "colab_type": "text",
    "id": "qC0PJOkV6aYH"
   },
   "source": [
    "# Calcule de forma teórica V, la value function optima para cada estado"
   ]
  },
  {
   "cell_type": "markdown",
   "metadata": {},
   "source": [
    "<span style=\"color:red\">**PREGUNTAR v !!!**</span>"
   ]
  },
  {
   "cell_type": "markdown",
   "metadata": {},
   "source": [
    "    #x: actual state\n",
    "    #y's: next states\n",
    "\n",
    "    V(x) = reward + gamma (sum_y( p(y|a,x) * V(y) ))"
   ]
  },
  {
   "cell_type": "markdown",
   "metadata": {},
   "source": [
    "$V^*(x) = R + \\gamma * \\sum_{y \\in S'}\\ p(y\\ |\\ a,x) * V(y)$"
   ]
  },
  {
   "cell_type": "markdown",
   "metadata": {
    "colab_type": "text",
    "id": "ZRz0uMX1LbXz"
   },
   "source": [
    "# Implemente el algoritmo de iteración de valor (Value iteration)"
   ]
  },
  {
   "cell_type": "markdown",
   "metadata": {},
   "source": [
    "<img src=\"img/value-iteration-4.4.png\" width=\"500\" align=\"left\">"
   ]
  },
  {
   "cell_type": "markdown",
   "metadata": {
    "colab_type": "text",
    "id": "bVuBLOrWL1ru"
   },
   "source": [
    "  Evaluate the optimal value function given a full description of the environment dynamics\n",
    "  \n",
    "  \n",
    "\n",
    "```\n",
    " Args:\n",
    "\n",
    "        env: OpenAI env. env.P represents the transition probabilities of the environment.\n",
    "            env.P[s][a] is a list of transition tuples (prob, next_state, reward, done).\n",
    "            env.nS is a number of states in the environment. \n",
    "            env.nA is a number of actions in the environment.\n",
    "        theta: We stop evaluation once our value function change is less than theta for all states.\n",
    "        discount_factor: Gamma discount factor.\n",
    "  \n",
    "  Returns:\n",
    "        Vector of length env.nS representing the value function.\n",
    "```\n",
    "\n",
    "\n",
    "  \n",
    "   "
   ]
  },
  {
   "cell_type": "code",
   "execution_count": 258,
   "metadata": {},
   "outputs": [
    {
     "name": "stdout",
     "output_type": "stream",
     "text": [
      "state: 0 , action: 0  ->  [(1.0, 0, 0.5, False)]\n",
      "state: 0 , action: 1  ->  [(0.8, 0, 2.0, False), (0.19999999999999996, 1, 2.0, False)]\n",
      "state: 0 , action: 2  ->  [(1, 0, 0, False)]\n",
      "state: 1 , action: 0  ->  [(1.0, 1, 0.5, False)]\n",
      "state: 1 , action: 1  ->  [(0.1, 1, 2.0, False), (0.9, 0, -3.0, False)]\n",
      "state: 1 , action: 2  ->  [(1.0, 0, 0.0, False)]\n"
     ]
    }
   ],
   "source": [
    "for s in range(env.nS):\n",
    "    for a in range(env.nA):\n",
    "        print(\"state:\",s, \", action:\",a, \" -> \" ,env.P[s][a])"
   ]
  },
  {
   "cell_type": "code",
   "execution_count": 259,
   "metadata": {},
   "outputs": [],
   "source": [
    "# en cada estado, quiero calcular la value function optima;\n",
    "# uso ecuacion de bellman, tomando el reward instantaneo y\n",
    "# estimando futuros posibles rewards a partir de las acciones.\n",
    "def valueIteration(env, theta=0.1, gamma=0.9, verbose=False):\n",
    "    if verbose:\n",
    "        print(\"epoch\\tvalue V^pi_i\")\n",
    "    update=float('inf')\n",
    "    #V = np.zeros((env.nS, env.nA))\n",
    "    V = np.zeros(env.nS)\n",
    "    policyPi = np.zeros((env.nS, env.nA))\n",
    "    epoch=0\n",
    "    while(update > theta):\n",
    "        # bellman eq, for each state\n",
    "        for s in range(env.nS):\n",
    "            vPrev = V[s]\n",
    "            maxReward = -float('inf')\n",
    "            for a in range(env.nA):\n",
    "                sumFutureRewards = 0\n",
    "                for prob, next_state, reward, done in env.P[s][a]:\n",
    "                    #sum rewards over all possible next states\n",
    "                    sumFutureRewards += prob * (reward + gamma*V[next_state])\n",
    "\n",
    "                # me quedo con el mayor reward entre todas las actions a posibles en\n",
    "                # el estado s\n",
    "                if(maxReward < sumFutureRewards):\n",
    "                    maxReward = sumFutureRewards\n",
    "                    maxAction = a\n",
    "\n",
    "            # me comporto greedy al elegir el valor maximo entre los obtenidos \n",
    "            V[s] = maxReward\n",
    "            policyPi[s][maxAction] = 1\n",
    "            update = abs(V[s] - vPrev)\n",
    "            #print(update)\n",
    "        epoch += 1\n",
    "        if verbose:\n",
    "            print(epoch, \":\", V)\n",
    "    print(\"Value Function after\", epoch, \"epochs:\",V)\n",
    "    return policyPi"
   ]
  },
  {
   "cell_type": "code",
   "execution_count": 260,
   "metadata": {},
   "outputs": [
    {
     "name": "stdout",
     "output_type": "stream",
     "text": [
      "Value Function after 25 epochs: [16.21487099 14.59338389]\n"
     ]
    },
    {
     "data": {
      "text/plain": [
       "array([[0., 1., 0.],\n",
       "       [0., 0., 1.]])"
      ]
     },
     "execution_count": 260,
     "metadata": {},
     "output_type": "execute_result"
    }
   ],
   "source": [
    "valueIteration(env)"
   ]
  },
  {
   "cell_type": "code",
   "execution_count": null,
   "metadata": {},
   "outputs": [],
   "source": []
  },
  {
   "cell_type": "markdown",
   "metadata": {
    "colab_type": "text",
    "id": "KGWxWGNA6aYJ"
   },
   "source": [
    "# Implemente el algoritmo de policy iteration"
   ]
  },
  {
   "cell_type": "markdown",
   "metadata": {
    "colab_type": "text",
    "id": "f9o3S2kaKQKX"
   },
   "source": [
    "Definir primero una funcion de evaluación de politica,\n",
    "\n",
    "```\n",
    "Evaluate a policy given an environment and a full description of the environment's dynamics.\n",
    "    \n",
    "    Args:\n",
    "        policy: [S, A] shaped matrix representing the policy.\n",
    "        env: OpenAI env. env.P represents the transition probabilities of the environment.\n",
    "            env.P[s][a] is a list of transition tuples (prob, next_state, reward, done).\n",
    "            env.nS is a number of states in the environment. \n",
    "            env.nA is a number of actions in the environment.\n",
    "        theta: We stop evaluation once our value function change is less than theta for all states.\n",
    "        discount_factor: Gamma discount factor.\n",
    "    \n",
    "    Returns:\n",
    "        Vector of length env.nS representing the value function.\n",
    "        \n",
    "```\n",
    "\n",
    "Despues una funcion de optimisacion de la politica:\n",
    "\n",
    "\n",
    "```\n",
    " Policy Improvement Algorithm. Iteratively evaluates and improves a policy\n",
    "    until an optimal policy is found.\n",
    "    \n",
    "    Args:\n",
    "        env: The OpenAI envrionment.\n",
    "        policy_eval_fn: Policy Evaluation function that takes 3 arguments:\n",
    "            policy, env, discount_factor.\n",
    "        discount_factor: gamma discount factor.\n",
    "        \n",
    "    Returns:\n",
    "        A tuple (policy, V). \n",
    "        policy is the optimal policy, a matrix of shape [S, A] where each state s\n",
    "        contains a valid probability distribution over actions.\n",
    "        V is the value function for the optimal policy.\n",
    "        \n",
    "```\n",
    "\n",
    "\n",
    "\n"
   ]
  },
  {
   "cell_type": "markdown",
   "metadata": {},
   "source": [
    "<img src=\"img/policy-evaluation-4.1.png\" width=\"500\" align=\"left\">"
   ]
  },
  {
   "cell_type": "markdown",
   "metadata": {},
   "source": [
    "<img src=\"img/value-vs-policy.png\" width=\"500\" align=\"left\">"
   ]
  },
  {
   "cell_type": "code",
   "execution_count": 261,
   "metadata": {},
   "outputs": [],
   "source": [
    "# Policy Evaluation \n",
    "# copypasteo la de value iteration:\n",
    "# en cada estado, quiero calcular la value function PARA UNA POLICY PI;\n",
    "# uso ecuacion de bellman, tomando el reward instantaneo y\n",
    "# estimando futuros posibles rewards a partir de las acciones, que son elegidas\n",
    "# a partir de la policy pi.\n",
    "def policyEvaluation(env, policy, theta=0.1, gamma=0.9, verbose=False):\n",
    "    if verbose:\n",
    "        print(\"epoch\\tvalue V^pi_i\")\n",
    "    update=float('inf')\n",
    "    \n",
    "    #V = np.zeros((env.nS, env.nA))\n",
    "\n",
    "    V = np.zeros(env.nS)\n",
    "    epoch=0\n",
    "    while(update > theta):\n",
    "        # bellman eq, for each state\n",
    "        for s in range(env.nS):\n",
    "            vPrev = V[s]\n",
    "            piReward = -float('inf')\n",
    "            #for a in policy[s,:]:\n",
    "            #sumFutureRewards = 0\n",
    "            piReward=0\n",
    "            a = np.random.choice([0,1,2], p=policy[s])\n",
    "            for prob, next_state, reward, done in env.P[s][a]:\n",
    "                # cada una de las acciones que realiza la policy en el estado s\n",
    "                # sums rewards ONLY OVER policy's actions\n",
    "                #sumFutureRewards += prob * (reward + gamma*V[next_state])\n",
    "                piReward += prob * (reward + gamma*V[next_state])\n",
    "                # me quedo con el mayor reward entre todas las actions a posibles en\n",
    "                # el estado s\n",
    "                #maxReward = max(maxReward, sumFutureRewards)\n",
    "                #piReward += sumFutureRewards\n",
    "            # me comporto greedy al elegir el valor maximo entre los obtenidos \n",
    "            V[s] = piReward\n",
    "            update = abs(V[s] - vPrev)\n",
    "            #print(update)\n",
    "        epoch += 1\n",
    "        if verbose:\n",
    "            print(epoch, \":\", V)\n",
    "    print(\"Value Function of policy Pi after\", epoch, \"epochs:\",V)\n",
    "    return V"
   ]
  },
  {
   "cell_type": "code",
   "execution_count": 262,
   "metadata": {},
   "outputs": [
    {
     "name": "stdout",
     "output_type": "stream",
     "text": [
      "epoch\tvalue V^pi_i\n",
      "1 : [2.  0.5]\n",
      "2 : [3.53 0.95]\n",
      "3 : [4.7126 1.355 ]\n",
      "4 : [5.636972 1.7195  ]\n",
      "5 : [6.36812984 2.04755   ]\n",
      "6 : [6.95361248 2.342795  ]\n",
      "7 : [7.42830409 2.6085155 ]\n",
      "8 : [7.81791173 2.84766395]\n",
      "9 : [8.14147596 3.06289756]\n",
      "10 : [8.41318425 3.2566078 ]\n",
      "11 : [8.64368206 3.43094702]\n",
      "12 : [8.84102155 3.58785232]\n",
      "13 : [9.01134893 3.72906709]\n",
      "14 : [9.15940331 3.85616038]\n",
      "15 : [9.28887925 3.97054434]\n",
      "16 : [9.40269104 4.07348991]\n",
      "17 : [9.50316573 4.16614092]\n",
      "Value Function of policy Pi after 17 epochs: [9.50316573 4.16614092]\n"
     ]
    },
    {
     "data": {
      "text/plain": [
       "array([9.50316573, 4.16614092])"
      ]
     },
     "execution_count": 262,
     "metadata": {},
     "output_type": "execute_result"
    }
   ],
   "source": [
    "policy=np.zeros((env.nS, env.nA))#[S,A]\n",
    "#le doy dos valores para que la suma ed las probas ed 1 y no\n",
    "# explote el random.choice([], p=[probas])\n",
    "policy[0][1] = 1\n",
    "policy[1][0] = 1\n",
    "policyEvaluation(env, policy, verbose=True)"
   ]
  },
  {
   "cell_type": "markdown",
   "metadata": {},
   "source": [
    "<img src=\"img/policy-iteration-4.3.png\" width=\"500\" align=\"left\">"
   ]
  },
  {
   "cell_type": "markdown",
   "metadata": {},
   "source": [
    "<img src=\"img/value-iteration-4.4.png\" width=\"500\" align=\"left\">"
   ]
  },
  {
   "cell_type": "code",
   "execution_count": 263,
   "metadata": {},
   "outputs": [
    {
     "data": {
      "text/plain": [
       "array([[0., 1., 0.],\n",
       "       [0., 0., 1.]])"
      ]
     },
     "execution_count": 263,
     "metadata": {},
     "output_type": "execute_result"
    }
   ],
   "source": [
    "policyPi"
   ]
  },
  {
   "cell_type": "code",
   "execution_count": 271,
   "metadata": {},
   "outputs": [],
   "source": [
    "#temporal!!\n",
    "def valueSearch(env, theta=0.1, gamma=0.9, verbose=False):\n",
    "    if verbose:\n",
    "        print(\"epoch\\tvalue V^pi_i\")\n",
    "    update=float('inf')\n",
    "    #V = np.zeros((env.nS, env.nA))\n",
    "    V = np.zeros(env.nS)\n",
    "    policyPi = np.zeros((env.nS, env.nA))\n",
    "    epoch=0\n",
    "    while(update > theta):\n",
    "        # bellman eq, for each state\n",
    "        for s in range(env.nS):\n",
    "            vPrev = V[s]\n",
    "            maxReward = -float('inf')\n",
    "            for a in range(env.nA):\n",
    "                sumFutureRewards = 0\n",
    "                for prob, next_state, reward, done in env.P[s][a]:\n",
    "                    #sum rewards over all possible next states\n",
    "                    sumFutureRewards += prob * (reward + gamma*V[next_state])\n",
    "\n",
    "                # me quedo con el mayor reward entre todas las actions a posibles en\n",
    "                # el estado s\n",
    "                if(maxReward < sumFutureRewards):\n",
    "                    maxReward = sumFutureRewards\n",
    "                    maxAction = a\n",
    "\n",
    "            # me comporto greedy al elegir el valor maximo entre los obtenidos \n",
    "            V[s] = maxReward\n",
    "            policyPi[s][maxAction] = 1\n",
    "            update = abs(V[s] - vPrev)\n",
    "            #print(update)\n",
    "        epoch += 1\n",
    "        if verbose:\n",
    "            print(epoch, \":\", V)\n",
    "    print(\"Value Function after\", epoch, \"epochs:\",V)\n",
    "    return policyPi"
   ]
  },
  {
   "cell_type": "code",
   "execution_count": 282,
   "metadata": {},
   "outputs": [],
   "source": [
    "def policyImprovement(env, policy, gamma=0.9):\n",
    "    print(policy)\n",
    "    policyStable = False\n",
    "    V = policyEvaluation(env, policy, gamma=0.9, verbose=False)\n",
    "    while(not policyStable):\n",
    "        policyStable = True\n",
    "        for s in range(env.nS):\n",
    "            print(\"For state s:\", s)\n",
    "            #oldA = np.random.choice(policy[s], policy[s])\n",
    "            oldA = np.array(policy[s])\n",
    "            \n",
    "            # action siguiendo policy Pi en state s\n",
    "            #if state == 1:\n",
    "            #    a = np.random.choice([0,1,2], p=policy[s])\n",
    "            #else:\n",
    "            #    a = np.random.choice([0,1,2], p=policy[s])\n",
    "            \n",
    "            #print(maxReward, sumFutureRewards)\n",
    "            maxReward = -float('inf')\n",
    "            maxAction = 0;\n",
    "            for a in range(env.nA):\n",
    "                sumFutureRewards = 0\n",
    "                for prob, next_state, reward, done in env.P[s][a]:\n",
    "                    #sum rewards over all possible next states\n",
    "                    sumFutureRewards += prob * (reward + gamma*V[next_state])\n",
    "                #print(maxReward, sumFutureRewards)\n",
    "\n",
    "                # me quedo con el mayor reward entre todas las actions a posibles en\n",
    "                # el estado s\n",
    "                if(maxReward < sumFutureRewards):\n",
    "                    maxReward = sumFutureRewards\n",
    "                    maxAction = a\n",
    "            #policyPi = valueIteration(env, gamma=0.9, verbose=False)\n",
    "            oneHot = np.zeros(3)\n",
    "            oneHot[maxAction] = 1\n",
    "            policy[s] = oneHot\n",
    "            #if oldA != policy[s]:\n",
    "            #print(oldA, policy[s])\n",
    "            if not np.array_equal(oldA, policy[s]):\n",
    "                print(\"policyStable to:\", policyStable)\n",
    "                policyStable = False\n",
    "        if policyStable:\n",
    "            return (policy, V)\n",
    "        else:\n",
    "            print(policy)\n",
    "            V = policyEvaluation(env, policy, gamma=0.9, verbose=False)\n",
    "            #como lo comparo? que mido?\n"
   ]
  },
  {
   "cell_type": "code",
   "execution_count": null,
   "metadata": {},
   "outputs": [],
   "source": [
    "# el algoritmo corta antes cuando llega algo estable, eso puede ser que cause qe el valor no sea el optimo\n",
    "# TODO\n",
    "# usar una diferencia ed la misma forma que con la value iteration\n",
    "# los valores deberian ser los mismos"
   ]
  },
  {
   "cell_type": "code",
   "execution_count": 283,
   "metadata": {},
   "outputs": [
    {
     "name": "stdout",
     "output_type": "stream",
     "text": [
      "[[1. 0. 0.]\n",
      " [1. 0. 0.]]\n",
      "[[1. 0. 0.]\n",
      " [1. 0. 0.]]\n",
      "Value Function of policy Pi after 17 epochs: [4.16614092 4.16614092]\n",
      "For state s: 0\n",
      "policyStable to: True\n",
      "For state s: 1\n",
      "[[0. 1. 0.]\n",
      " [1. 0. 0.]]\n",
      "Value Function of policy Pi after 17 epochs: [6.72452818 4.16614092]\n",
      "For state s: 0\n",
      "For state s: 1\n",
      "policyStable to: True\n",
      "[[0. 1. 0.]\n",
      " [0. 0. 1.]]\n",
      "Value Function of policy Pi after 21 epochs: [8.36147152 7.52532436]\n",
      "For state s: 0\n",
      "For state s: 1\n",
      "(array([[0., 1., 0.],\n",
      "       [0., 0., 1.]]), array([8.36147152, 7.52532436]))\n"
     ]
    }
   ],
   "source": [
    "policyRand=np.zeros((env.nS, env.nA))#[S,A]\n",
    "#le doy dos valores para que la suma ed las probas ed 1 y no\n",
    "# explote el random.choice([], p=[probas])\n",
    "policyRand[0][0] = 1\n",
    "policyRand[1][0] = 1\n",
    "print(policyRand)\n",
    "print(policyImprovement(env, policy=policyRand))"
   ]
  },
  {
   "cell_type": "code",
   "execution_count": 267,
   "metadata": {},
   "outputs": [
    {
     "data": {
      "text/plain": [
       "array([6.72452818, 4.16614092])"
      ]
     },
     "execution_count": 267,
     "metadata": {},
     "output_type": "execute_result"
    }
   ],
   "source": [
    "V"
   ]
  },
  {
   "cell_type": "markdown",
   "metadata": {
    "colab_type": "text",
    "id": "brOjUJvE6aYV"
   },
   "source": [
    "# Utilizando los 3 algoritmos, realice los experimentos para las siguientes configuraciones del ambiente."
   ]
  },
  {
   "cell_type": "code",
   "execution_count": 284,
   "metadata": {
    "colab": {},
    "colab_type": "code",
    "id": "jVKvrm0t6aYV"
   },
   "outputs": [],
   "source": [
    "exp1 = generar_ambiente(alpha=0.9, beta=0.9, r_search=3, r_wait=2)\n",
    "exp2 = generar_ambiente(alpha=0.8, beta=0.5, r_search=3, r_wait=2)\n",
    "exp3 = generar_ambiente(alpha=0.5, beta=0.5, r_search=3, r_wait=2)\n",
    "exp4 = generar_ambiente(alpha=0.9, beta=0.6, r_search=1, r_wait=0.9)\n",
    "exp5 = generar_ambiente(alpha=0.9, beta=0.6, r_search=1, r_wait=0.5)\n"
   ]
  },
  {
   "cell_type": "markdown",
   "metadata": {
    "colab_type": "text",
    "id": "IAT_YZq56aYY"
   },
   "source": [
    "# Utilizando el grafico de recompensa, compare las estrategias óptimas generadas con los experimentos anteriores contra la estrategia al azar."
   ]
  },
  {
   "cell_type": "code",
   "execution_count": null,
   "metadata": {},
   "outputs": [],
   "source": []
  },
  {
   "cell_type": "code",
   "execution_count": null,
   "metadata": {},
   "outputs": [],
   "source": []
  }
 ],
 "metadata": {
  "colab": {
   "name": "TP1 - (Sin solucion).ipynb",
   "provenance": [],
   "version": "0.3.2"
  },
  "kernelspec": {
   "display_name": "Python 3",
   "language": "python",
   "name": "python3"
  },
  "language_info": {
   "codemirror_mode": {
    "name": "ipython",
    "version": 3
   },
   "file_extension": ".py",
   "mimetype": "text/x-python",
   "name": "python",
   "nbconvert_exporter": "python",
   "pygments_lexer": "ipython3",
   "version": "3.6.7"
  }
 },
 "nbformat": 4,
 "nbformat_minor": 1
}
