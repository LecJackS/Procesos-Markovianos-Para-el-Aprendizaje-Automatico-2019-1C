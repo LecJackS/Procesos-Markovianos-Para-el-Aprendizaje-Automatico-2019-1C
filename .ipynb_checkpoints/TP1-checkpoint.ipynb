{
 "cells": [
  {
   "cell_type": "markdown",
   "metadata": {
    "colab_type": "text",
    "id": "8NxgP4gIN5eF"
   },
   "source": [
    "**Recycling robot example** (from Sutton, page 42)\n",
    "References:\n",
    "  - Gym documentation: https://gym.openai.com/\n",
    "\n",
    "  "
   ]
  },
  {
   "cell_type": "code",
   "execution_count": 1,
   "metadata": {
    "colab": {},
    "colab_type": "code",
    "id": "fQ-0sEtFFcTM"
   },
   "outputs": [],
   "source": [
    "import numpy as np\n",
    "from gym.envs.toy_text import discrete\n",
    "import random\n",
    "import matplotlib.pyplot as plt"
   ]
  },
  {
   "cell_type": "markdown",
   "metadata": {
    "colab": {},
    "colab_type": "code",
    "id": "i3dzvy9s6aX3"
   },
   "source": [
    "##### TODO: Describir coloquialmente el modelo de sutton\n",
    "Dos estados: high y low\n",
    "Tres acciones: search, wait, recharge\n",
    "\n",
    "##### TODO: Explicar lo básico de GYM"
   ]
  },
  {
   "cell_type": "markdown",
   "metadata": {
    "colab_type": "text",
    "id": "GPaZiYtu6aX6"
   },
   "source": [
    "# Considere el modelo del robot de reciclaje descríto en Sutton Example 3.2"
   ]
  },
  {
   "cell_type": "markdown",
   "metadata": {},
   "source": [
    "<img src=\"img/example3.2-1.png\" width=\"500\" align=\"left\">"
   ]
  },
  {
   "cell_type": "markdown",
   "metadata": {},
   "source": [
    "<img src=\"img/example3.2-2.png\" width=\"500\" align=\"left\">"
   ]
  },
  {
   "cell_type": "code",
   "execution_count": 31,
   "metadata": {
    "colab": {},
    "colab_type": "code",
    "id": "U96qJdswGBFr"
   },
   "outputs": [
    {
     "name": "stderr",
     "output_type": "stream",
     "text": [
      "c:\\users\\jack\\gym\\gym\\__init__.py:22: UserWarning: DEPRECATION WARNING: to improve load times, gym no longer automatically loads gym.spaces. Please run \"import gym.spaces\" to load gym.spaces on your own. This warning will turn into an error in a future version of gym.\n",
      "  warnings.warn('DEPRECATION WARNING: to improve load times, gym no longer automatically loads gym.spaces. Please run \"import gym.spaces\" to load gym.spaces on your own. This warning will turn into an error in a future version of gym.')\n"
     ]
    }
   ],
   "source": [
    "states = [\"high\", \"low\"]\n",
    "actions = [\"wait\", \"search\", \"recharge\"]\n",
    "\n",
    "P = {}\n",
    "\n",
    "P[0] = {}\n",
    "P[1] = {}\n",
    "\n",
    "alpha = 0.9\n",
    "beta = 1\n",
    "r_wait = 0.5\n",
    "r_search = 2.0\n",
    "\n",
    "# definimos un ambiente discreto con las transiciones según el gráfico\n",
    "def generar_ambiente(alpha=alpha, beta=beta, r_wait=r_wait, r_search=r_wait):\n",
    "    P[0][0] = [(1.0, 0, r_wait, False)]\n",
    "    P[0][1] = [(alpha, 0, r_search, False),\n",
    "               (1-alpha, 1, r_search, False)]\n",
    "    P[0][2] = [(1,0,0,False)]\n",
    "\n",
    "    P[1][0] = [(1.0, 1, r_wait, False)]\n",
    "    P[1][1] = [(beta, 1, r_search, False), \n",
    "               (1-beta, 0, -3.0, False)]\n",
    "    P[1][2] = [(1.0, 0, 0.0, False)]\n",
    "    env = discrete.DiscreteEnv(2, 3, P, [0.0, 1.0])\n",
    "    return(env)\n",
    "env = generar_ambiente()"
   ]
  },
  {
   "cell_type": "markdown",
   "metadata": {
    "colab_type": "text",
    "id": "vvcF7--Z6aX8"
   },
   "source": [
    "# Implemente la estrategia random para veinte episodios. \n"
   ]
  },
  {
   "cell_type": "markdown",
   "metadata": {
    "colab_type": "text",
    "id": "XoNiKgvOIC3n"
   },
   "source": [
    "Definir una acción aleatoria y ver que reward produce"
   ]
  },
  {
   "cell_type": "code",
   "execution_count": 32,
   "metadata": {},
   "outputs": [
    {
     "name": "stdout",
     "output_type": "stream",
     "text": [
      "Obs\tDone\tReward\tC.Reward\tAction\n",
      "1 \t False \t 0.5 \t 0.500 \t\t 0\n",
      "0 \t False \t 0.0 \t 0.250 \t\t 2\n",
      "0 \t False \t 0.5 \t 0.333 \t\t 0\n",
      "0 \t False \t 0.5 \t 0.375 \t\t 0\n",
      "0 \t False \t 0.5 \t 0.400 \t\t 0\n",
      "0 \t False \t 0.5 \t 0.417 \t\t 1\n",
      "0 \t False \t 0.5 \t 0.429 \t\t 1\n",
      "0 \t False \t 0 \t 0.375 \t\t 2\n",
      "0 \t False \t 0.5 \t 0.389 \t\t 0\n",
      "0 \t False \t 0.5 \t 0.400 \t\t 0\n",
      "0 \t False \t 0.5 \t 0.409 \t\t 1\n",
      "0 \t False \t 0.5 \t 0.417 \t\t 0\n",
      "0 \t False \t 0.5 \t 0.423 \t\t 1\n",
      "0 \t False \t 0 \t 0.393 \t\t 2\n",
      "0 \t False \t 0 \t 0.367 \t\t 2\n",
      "0 \t False \t 0.5 \t 0.375 \t\t 0\n",
      "0 \t False \t 0.5 \t 0.382 \t\t 1\n",
      "0 \t False \t 0.5 \t 0.389 \t\t 1\n",
      "0 \t False \t 0.5 \t 0.395 \t\t 1\n",
      "0 \t False \t 0.5 \t 0.400 \t\t 1\n"
     ]
    }
   ],
   "source": [
    "print(\"Obs\\tDone\\tReward\\tC.Reward\\tAction\")\n",
    "verbose=True\n",
    "history = []\n",
    "rewardAcum = 0\n",
    "for i in range(20):\n",
    "    action = env.action_space.sample()\n",
    "    observation, reward, done, info = env.step(action)\n",
    "    if done:\n",
    "        observation = env.reset()\n",
    "    rewardAcum += reward\n",
    "    elemHist = np.array([i, reward, rewardAcum])\n",
    "    history.append(elemHist)\n",
    "    if verbose:\n",
    "        print(observation,\"\\t\", done,\"\\t\", reward, \"\\t\", \"%.3f\" % (rewardAcum/(i+1)), \"\\t\\t\", action)\n",
    "    env.close()"
   ]
  },
  {
   "cell_type": "markdown",
   "metadata": {
    "colab_type": "text",
    "id": "u9kpyAEk6aYB"
   },
   "source": [
    "# Grafique la recompensa acumulada"
   ]
  },
  {
   "cell_type": "code",
   "execution_count": 33,
   "metadata": {},
   "outputs": [
    {
     "data": {
      "text/plain": [
       "array([[0. , 0.5, 0.5],\n",
       "       [1. , 0. , 0.5],\n",
       "       [2. , 0.5, 1. ],\n",
       "       [3. , 0.5, 1.5],\n",
       "       [4. , 0.5, 2. ],\n",
       "       [5. , 0.5, 2.5]])"
      ]
     },
     "execution_count": 33,
     "metadata": {},
     "output_type": "execute_result"
    }
   ],
   "source": [
    "# to numpy\n",
    "history = np.array(history)\n",
    "history[0:6]"
   ]
  },
  {
   "cell_type": "code",
   "execution_count": 34,
   "metadata": {},
   "outputs": [
    {
     "data": {
      "text/plain": [
       "array([0.5, 0. , 0.5, 0.5, 0.5, 0.5])"
      ]
     },
     "execution_count": 34,
     "metadata": {},
     "output_type": "execute_result"
    }
   ],
   "source": [
    "# so I can do this\n",
    "history[0:6, 1]"
   ]
  },
  {
   "cell_type": "code",
   "execution_count": 35,
   "metadata": {},
   "outputs": [
    {
     "data": {
      "text/plain": [
       "<matplotlib.legend.Legend at 0x172c8fdeb70>"
      ]
     },
     "execution_count": 35,
     "metadata": {},
     "output_type": "execute_result"
    },
    {
     "data": {
      "image/png": "[encoded data removed]",
      "text/plain": [
       "<Figure size 432x288 with 1 Axes>"
      ]
     },
     "metadata": {},
     "output_type": "display_data"
    }
   ],
   "source": [
    "plt.grid()\n",
    "plt.xlabel(\"time step\")\n",
    "plt.ylabel(\"reward\")\n",
    "plt.xticks(np.arange(0,len(history),1))\n",
    "plt.plot(history[:,0], history[:,2], 'ro', label='Reward acumulado')\n",
    "plt.plot(history[:,0], history[:,1], 'b.', label='Reward instantáneo')\n",
    "\n",
    "plt.legend()"
   ]
  },
  {
   "cell_type": "markdown",
   "metadata": {
    "colab_type": "text",
    "id": "qC0PJOkV6aYH"
   },
   "source": [
    "# Calcule de forma teórica V, la value function optima para cada estado"
   ]
  },
  {
   "cell_type": "code",
   "execution_count": 36,
   "metadata": {},
   "outputs": [
    {
     "ename": "SyntaxError",
     "evalue": "can't assign to function call (<ipython-input-36-0da05067ccdd>, line 3)",
     "output_type": "error",
     "traceback": [
      "\u001b[1;36m  File \u001b[1;32m\"<ipython-input-36-0da05067ccdd>\"\u001b[1;36m, line \u001b[1;32m3\u001b[0m\n\u001b[1;33m    V(x) = reward + gamma (sum_y( p(y|a,x) * V(y) ))\u001b[0m\n\u001b[1;37m                                                    ^\u001b[0m\n\u001b[1;31mSyntaxError\u001b[0m\u001b[1;31m:\u001b[0m can't assign to function call\n"
     ]
    }
   ],
   "source": [
    "#x: actual state\n",
    "#y's: next states\n",
    "V(x) = reward + gamma (sum_y( p(y|a,x) * V(y) ))"
   ]
  },
  {
   "cell_type": "markdown",
   "metadata": {
    "colab_type": "text",
    "id": "ZRz0uMX1LbXz"
   },
   "source": [
    "# Implemente el algoritmo de iteración de valor (Value iteration)"
   ]
  },
  {
   "cell_type": "markdown",
   "metadata": {},
   "source": [
    "<img src=\"img/value-iteration-4.4.png\" width=\"500\" align=\"left\">"
   ]
  },
  {
   "cell_type": "markdown",
   "metadata": {
    "colab_type": "text",
    "id": "bVuBLOrWL1ru"
   },
   "source": [
    "  Evaluate the optimal value function given a full description of the environment dynamics\n",
    "  \n",
    "  \n",
    "\n",
    "```\n",
    " Args:\n",
    "\n",
    "        env: OpenAI env. env.P represents the transition probabilities of the environment.\n",
    "            env.P[s][a] is a list of transition tuples (prob, next_state, reward, done).\n",
    "            env.nS is a number of states in the environment. \n",
    "            env.nA is a number of actions in the environment.\n",
    "        theta: We stop evaluation once our value function change is less than theta for all states.\n",
    "        discount_factor: Gamma discount factor.\n",
    "  \n",
    "  Returns:\n",
    "        Vector of length env.nS representing the value function.\n",
    "```\n",
    "\n",
    "\n",
    "  \n",
    "   "
   ]
  },
  {
   "cell_type": "code",
   "execution_count": 37,
   "metadata": {},
   "outputs": [
    {
     "name": "stdout",
     "output_type": "stream",
     "text": [
      "state: 0 , action: 0  ->  [(1.0, 0, 0.5, False)]\n",
      "state: 0 , action: 1  ->  [(0.9, 0, 0.5, False), (0.09999999999999998, 1, 0.5, False)]\n",
      "state: 0 , action: 2  ->  [(1, 0, 0, False)]\n",
      "state: 1 , action: 0  ->  [(1.0, 1, 0.5, False)]\n",
      "state: 1 , action: 1  ->  [(1, 1, 0.5, False), (0, 0, -3.0, False)]\n",
      "state: 1 , action: 2  ->  [(1.0, 0, 0.0, False)]\n"
     ]
    }
   ],
   "source": [
    "for s in range(env.nS):\n",
    "    for a in range(env.nA):\n",
    "        print(\"state:\",s, \", action:\",a, \" -> \" ,env.P[s][a])"
   ]
  },
  {
   "cell_type": "code",
   "execution_count": 55,
   "metadata": {},
   "outputs": [
    {
     "name": "stdout",
     "output_type": "stream",
     "text": [
      "Obs\tDone\tReward\tC.Reward\tAction\n",
      "0 : [0. 0.]\n",
      "0 : [0.5 0. ]\n",
      "1 : [0.5 0.5]\n",
      "1 : [0.95 0.5 ]\n",
      "2 : [0.95 0.95]\n",
      "2 : [1.355 0.95 ]\n",
      "3 : [1.355 1.355]\n",
      "3 : [1.7195 1.355 ]\n",
      "4 : [1.7195 1.7195]\n",
      "4 : [2.04755 1.7195 ]\n",
      "5 : [2.04755 2.04755]\n",
      "5 : [2.342795 2.04755 ]\n",
      "6 : [2.342795 2.342795]\n",
      "6 : [2.6085155 2.342795 ]\n",
      "7 : [2.6085155 2.6085155]\n",
      "7 : [2.84766395 2.6085155 ]\n",
      "8 : [2.84766395 2.84766395]\n",
      "8 : [3.06289756 2.84766395]\n",
      "9 : [3.06289756 3.06289756]\n",
      "9 : [3.2566078  3.06289756]\n",
      "10 : [3.2566078 3.2566078]\n",
      "10 : [3.43094702 3.2566078 ]\n",
      "11 : [3.43094702 3.43094702]\n",
      "11 : [3.58785232 3.43094702]\n",
      "12 : [3.58785232 3.58785232]\n",
      "12 : [3.72906709 3.58785232]\n",
      "13 : [3.72906709 3.72906709]\n",
      "13 : [3.85616038 3.72906709]\n",
      "14 : [3.85616038 3.85616038]\n",
      "14 : [3.97054434 3.85616038]\n",
      "15 : [3.97054434 3.97054434]\n",
      "15 : [4.07348991 3.97054434]\n",
      "16 : [4.07348991 4.07348991]\n",
      "16 : [4.16614092 4.07348991]\n",
      "[4.16614092 4.16614092]\n"
     ]
    }
   ],
   "source": [
    "# en cada estado, quiero calcular la value function optima;\n",
    "# uso ecuacion de bellman, tomando el reward instantaneo y\n",
    "# estimando futuros posibles rewards a partir de las acciones.\n",
    "\n",
    "print(\"Obs\\tDone\\tReward\\tC.Reward\\tAction\")\n",
    "verbose=True\n",
    "gamma=0.9 #discount factor\n",
    "theta=0.1 #stop evaluation when updates are less than theta\n",
    "update=10\n",
    "#V = np.zeros((env.nS, env.nA))\n",
    "V = np.zeros(env.nS)\n",
    "epoch=0\n",
    "while(update > theta):\n",
    "    # bellman eq, for each state\n",
    "    for s in range(env.nS):\n",
    "        vPrev = V[s]\n",
    "        maxReward = -float('inf')\n",
    "        for a in range(env.nA):\n",
    "            sumFutureRewards = 0\n",
    "            for prob, next_state, reward, done in env.P[s][a]:\n",
    "                #sum rewards over all possible next states\n",
    "                sumFutureRewards += prob * (reward + gamma*V[next_state])\n",
    "            \n",
    "            # me quedo con el mayor reward entre todas las actions a posibles en\n",
    "            # el estado s\n",
    "            maxReward = max(maxReward, sumFutureRewards)\n",
    "        print(epoch, \":\", V)\n",
    "        # me comporto greedy al elegir el valor maximo entre los obtenidos \n",
    "        V[s] = maxReward\n",
    "        update = abs(V[s] - vPrev)\n",
    "        #print(update)\n",
    "    epoch += 1\n",
    "print(V)\n"
   ]
  },
  {
   "cell_type": "markdown",
   "metadata": {
    "colab_type": "text",
    "id": "KGWxWGNA6aYJ"
   },
   "source": [
    "# Implemente el algoritmo de policy iteration"
   ]
  },
  {
   "cell_type": "markdown",
   "metadata": {
    "colab_type": "text",
    "id": "f9o3S2kaKQKX"
   },
   "source": [
    "Definir primero una funcion de evaluación de politica,\n",
    "\n",
    "```\n",
    "Evaluate a policy given an environment and a full description of the environment's dynamics.\n",
    "    \n",
    "    Args:\n",
    "        policy: [S, A] shaped matrix representing the policy.\n",
    "        env: OpenAI env. env.P represents the transition probabilities of the environment.\n",
    "            env.P[s][a] is a list of transition tuples (prob, next_state, reward, done).\n",
    "            env.nS is a number of states in the environment. \n",
    "            env.nA is a number of actions in the environment.\n",
    "        theta: We stop evaluation once our value function change is less than theta for all states.\n",
    "        discount_factor: Gamma discount factor.\n",
    "    \n",
    "    Returns:\n",
    "        Vector of length env.nS representing the value function.\n",
    "        \n",
    "```\n",
    "\n",
    "Despues una funcion de optimisacion de la politica:\n",
    "\n",
    "\n",
    "```\n",
    " Policy Improvement Algorithm. Iteratively evaluates and improves a policy\n",
    "    until an optimal policy is found.\n",
    "    \n",
    "    Args:\n",
    "        env: The OpenAI envrionment.\n",
    "        policy_eval_fn: Policy Evaluation function that takes 3 arguments:\n",
    "            policy, env, discount_factor.\n",
    "        discount_factor: gamma discount factor.\n",
    "        \n",
    "    Returns:\n",
    "        A tuple (policy, V). \n",
    "        policy is the optimal policy, a matrix of shape [S, A] where each state s\n",
    "        contains a valid probability distribution over actions.\n",
    "        V is the value function for the optimal policy.\n",
    "        \n",
    "```\n",
    "\n",
    "\n",
    "\n"
   ]
  },
  {
   "cell_type": "markdown",
   "metadata": {
    "colab_type": "text",
    "id": "brOjUJvE6aYV"
   },
   "source": [
    "# Utilizando los 3 algoritmos, realice los experimentos para las siguientes configuraciones del ambiente."
   ]
  },
  {
   "cell_type": "code",
   "execution_count": 0,
   "metadata": {
    "colab": {},
    "colab_type": "code",
    "id": "jVKvrm0t6aYV"
   },
   "outputs": [],
   "source": [
    "exp1 = generar_ambiente(alpha=0.9, beta=0.9, r_search=3, r_wait=2)\n",
    "exp2 = generar_ambiente(alpha=0.8, beta=0.5, r_search=3, r_wait=2)\n",
    "exp3 = generar_ambiente(alpha=0.5, beta=0.5, r_search=3, r_wait=2)\n",
    "exp4 = generar_ambiente(alpha=0.9, beta=0.6, r_search=1, r_wait=0.9)\n",
    "exp5 = generar_ambiente(alpha=0.9, beta=0.6, r_search=1, r_wait=0.5)\n"
   ]
  },
  {
   "cell_type": "markdown",
   "metadata": {
    "colab_type": "text",
    "id": "IAT_YZq56aYY"
   },
   "source": [
    "# Utilizando el grafico de recompensa, compare las estrategias óptimas generadas con los experimentos anteriores contra la estrategia al azar."
   ]
  }
 ],
 "metadata": {
  "colab": {
   "name": "TP1 - (Sin solucion).ipynb",
   "provenance": [],
   "version": "0.3.2"
  },
  "kernelspec": {
   "display_name": "Python 3",
   "language": "python",
   "name": "python3"
  },
  "language_info": {
   "codemirror_mode": {
    "name": "ipython",
    "version": 3
   },
   "file_extension": ".py",
   "mimetype": "text/x-python",
   "name": "python",
   "nbconvert_exporter": "python",
   "pygments_lexer": "ipython3",
   "version": "3.6.5"
  }
 },
 "nbformat": 4,
 "nbformat_minor": 1
}
