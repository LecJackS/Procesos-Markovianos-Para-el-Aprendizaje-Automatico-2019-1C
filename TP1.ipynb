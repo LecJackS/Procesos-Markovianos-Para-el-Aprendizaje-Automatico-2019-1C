{
 "cells": [
  {
   "cell_type": "markdown",
   "metadata": {
    "colab_type": "text",
    "id": "8NxgP4gIN5eF"
   },
   "source": [
    "**Recycling robot example** (from Sutton, page 42)\n",
    "References:\n",
    "  - Gym documentation: https://gym.openai.com/\n",
    "\n",
    "  "
   ]
  },
  {
   "cell_type": "code",
   "execution_count": 28,
   "metadata": {
    "colab": {},
    "colab_type": "code",
    "id": "fQ-0sEtFFcTM"
   },
   "outputs": [],
   "source": [
    "from gym.envs.toy_text import discrete\n",
    "#from gym import spaces\n",
    "import random\n",
    "import matplotlib.pyplot as plt\n",
    "import numpy as np"
   ]
  },
  {
   "cell_type": "markdown",
   "metadata": {
    "colab": {},
    "colab_type": "code",
    "id": "i3dzvy9s6aX3"
   },
   "source": [
    "##### TODO: Describir coloquialmente el modelo de sutton\n",
    "Dos estados: high y low\n",
    "Tres acciones: search, wait, recharge\n",
    "\n",
    "##### TODO: Explicar lo básico de GYM"
   ]
  },
  {
   "cell_type": "markdown",
   "metadata": {
    "colab_type": "text",
    "id": "GPaZiYtu6aX6"
   },
   "source": [
    "# Considere el modelo del robot de reciclaje descríto en Sutton Example 3.2"
   ]
  },
  {
   "cell_type": "markdown",
   "metadata": {},
   "source": [
    "<img src=\"img/example3.2-1.png\" width=\"500\" align=\"left\">"
   ]
  },
  {
   "cell_type": "markdown",
   "metadata": {},
   "source": [
    "<img src=\"img/example3.2-2.png\" width=\"500\" align=\"left\">"
   ]
  },
  {
   "cell_type": "code",
   "execution_count": 29,
   "metadata": {
    "colab": {},
    "colab_type": "code",
    "id": "U96qJdswGBFr"
   },
   "outputs": [
    {
     "name": "stderr",
     "output_type": "stream",
     "text": [
      "c:\\users\\jack\\gym\\gym\\__init__.py:22: UserWarning: DEPRECATION WARNING: to improve load times, gym no longer automatically loads gym.spaces. Please run \"import gym.spaces\" to load gym.spaces on your own. This warning will turn into an error in a future version of gym.\n",
      "  warnings.warn('DEPRECATION WARNING: to improve load times, gym no longer automatically loads gym.spaces. Please run \"import gym.spaces\" to load gym.spaces on your own. This warning will turn into an error in a future version of gym.')\n"
     ]
    }
   ],
   "source": [
    "states = [\"high\", \"low\"]\n",
    "actions = [\"wait\", \"search\", \"recharge\"]\n",
    "\n",
    "P = {}\n",
    "\n",
    "P[0] = {}\n",
    "P[1] = {}\n",
    "\n",
    "alpha = 0.8\n",
    "beta = 0.1\n",
    "r_wait = 0.5\n",
    "r_search = 2.0\n",
    "\n",
    "# definimos un ambiente discreto con las transiciones según el gráfico\n",
    "def generar_ambiente(alpha=alpha, beta=beta, r_wait=r_wait, r_search=r_search):\n",
    "    P[0][0] = [(1.0, 0, r_wait, False)]\n",
    "    P[0][1] = [(alpha, 0, r_search, False),\n",
    "               (1-alpha, 1, r_search, False)]\n",
    "    P[0][2] = [(1,0,0,False)]\n",
    "\n",
    "    P[1][0] = [(1.0, 1, r_wait, False)]\n",
    "    P[1][1] = [(beta, 1, r_search, False), \n",
    "               (1-beta, 0, -3.0, False)]\n",
    "    P[1][2] = [(1.0, 0, 0.0, False)]\n",
    "    env = discrete.DiscreteEnv(2, 3, P, [0.0, 1.0])\n",
    "    return(env)\n",
    "env = generar_ambiente()"
   ]
  },
  {
   "cell_type": "markdown",
   "metadata": {
    "colab_type": "text",
    "id": "vvcF7--Z6aX8"
   },
   "source": [
    "# Implemente la estrategia random para veinte episodios. \n"
   ]
  },
  {
   "cell_type": "markdown",
   "metadata": {
    "colab_type": "text",
    "id": "XoNiKgvOIC3n"
   },
   "source": [
    "Definir una acción aleatoria y ver que reward produce"
   ]
  },
  {
   "cell_type": "code",
   "execution_count": 30,
   "metadata": {},
   "outputs": [],
   "source": [
    "def randomExperiment(env):\n",
    "    print(\"Obs\\tDone\\tReward\\tC.Reward\\tAction\")\n",
    "    verbose=True\n",
    "    history = []\n",
    "    rewardAcum = 0\n",
    "    state=1 # < starting state\n",
    "    for i in range(50):\n",
    "        #action = env.action_space.sample()\n",
    "        if state == 1:\n",
    "            action = np.random.choice([0,1,2])\n",
    "        else:\n",
    "            action = np.random.choice([0,1])\n",
    "        state, reward, done, info = env.step(action)\n",
    "        if done:\n",
    "            observation = env.reset()\n",
    "        rewardAcum += reward\n",
    "        elemHist = np.array([i, reward, rewardAcum])\n",
    "        history.append(elemHist)\n",
    "        if verbose:\n",
    "            print(state,\"\\t\", done,\"\\t\", reward, \"\\t\", \"%.4f\" % rewardAcum, \"\\t\", action)\n",
    "        env.close()\n",
    "    return history"
   ]
  },
  {
   "cell_type": "code",
   "execution_count": 31,
   "metadata": {
    "scrolled": true
   },
   "outputs": [
    {
     "name": "stdout",
     "output_type": "stream",
     "text": [
      "Obs\tDone\tReward\tC.Reward\tAction\n",
      "0 \t False \t 0.0 \t 0.0000 \t 2\n",
      "0 \t False \t 2.0 \t 2.0000 \t 1\n",
      "0 \t False \t 0.5 \t 2.5000 \t 0\n",
      "0 \t False \t 0.5 \t 3.0000 \t 0\n",
      "0 \t False \t 0.5 \t 3.5000 \t 0\n",
      "0 \t False \t 2.0 \t 5.5000 \t 1\n",
      "1 \t False \t 2.0 \t 7.5000 \t 1\n",
      "0 \t False \t -3.0 \t 4.5000 \t 1\n",
      "0 \t False \t 0.5 \t 5.0000 \t 0\n",
      "0 \t False \t 0.5 \t 5.5000 \t 0\n",
      "0 \t False \t 0.5 \t 6.0000 \t 0\n",
      "1 \t False \t 2.0 \t 8.0000 \t 1\n",
      "0 \t False \t -3.0 \t 5.0000 \t 1\n",
      "0 \t False \t 2.0 \t 7.0000 \t 1\n",
      "0 \t False \t 0.5 \t 7.5000 \t 0\n",
      "0 \t False \t 0.5 \t 8.0000 \t 0\n",
      "0 \t False \t 0.5 \t 8.5000 \t 0\n",
      "0 \t False \t 2.0 \t 10.5000 \t 1\n",
      "0 \t False \t 0.5 \t 11.0000 \t 0\n",
      "0 \t False \t 0.5 \t 11.5000 \t 0\n",
      "0 \t False \t 2.0 \t 13.5000 \t 1\n",
      "1 \t False \t 2.0 \t 15.5000 \t 1\n",
      "0 \t False \t 0.0 \t 15.5000 \t 2\n",
      "0 \t False \t 2.0 \t 17.5000 \t 1\n",
      "0 \t False \t 2.0 \t 19.5000 \t 1\n",
      "0 \t False \t 0.5 \t 20.0000 \t 0\n",
      "0 \t False \t 2.0 \t 22.0000 \t 1\n",
      "0 \t False \t 0.5 \t 22.5000 \t 0\n",
      "0 \t False \t 2.0 \t 24.5000 \t 1\n",
      "0 \t False \t 0.5 \t 25.0000 \t 0\n",
      "0 \t False \t 0.5 \t 25.5000 \t 0\n",
      "0 \t False \t 0.5 \t 26.0000 \t 0\n",
      "0 \t False \t 0.5 \t 26.5000 \t 0\n",
      "1 \t False \t 2.0 \t 28.5000 \t 1\n",
      "0 \t False \t 0.0 \t 28.5000 \t 2\n",
      "0 \t False \t 0.5 \t 29.0000 \t 0\n",
      "0 \t False \t 0.5 \t 29.5000 \t 0\n",
      "0 \t False \t 2.0 \t 31.5000 \t 1\n",
      "0 \t False \t 0.5 \t 32.0000 \t 0\n",
      "0 \t False \t 0.5 \t 32.5000 \t 0\n",
      "0 \t False \t 2.0 \t 34.5000 \t 1\n",
      "0 \t False \t 2.0 \t 36.5000 \t 1\n",
      "0 \t False \t 0.5 \t 37.0000 \t 0\n",
      "0 \t False \t 0.5 \t 37.5000 \t 0\n",
      "0 \t False \t 2.0 \t 39.5000 \t 1\n",
      "0 \t False \t 2.0 \t 41.5000 \t 1\n",
      "0 \t False \t 0.5 \t 42.0000 \t 0\n",
      "0 \t False \t 2.0 \t 44.0000 \t 1\n",
      "0 \t False \t 0.5 \t 44.5000 \t 0\n",
      "1 \t False \t 2.0 \t 46.5000 \t 1\n"
     ]
    },
    {
     "name": "stderr",
     "output_type": "stream",
     "text": [
      "c:\\users\\jack\\gym\\gym\\__init__.py:22: UserWarning: DEPRECATION WARNING: to improve load times, gym no longer automatically loads gym.spaces. Please run \"import gym.spaces\" to load gym.spaces on your own. This warning will turn into an error in a future version of gym.\n",
      "  warnings.warn('DEPRECATION WARNING: to improve load times, gym no longer automatically loads gym.spaces. Please run \"import gym.spaces\" to load gym.spaces on your own. This warning will turn into an error in a future version of gym.')\n"
     ]
    }
   ],
   "source": [
    "env = generar_ambiente()\n",
    "data = randomExperiment(env)"
   ]
  },
  {
   "cell_type": "markdown",
   "metadata": {
    "colab_type": "text",
    "id": "u9kpyAEk6aYB"
   },
   "source": [
    "# Grafique la recompensa acumulada"
   ]
  },
  {
   "cell_type": "code",
   "execution_count": 32,
   "metadata": {},
   "outputs": [
    {
     "data": {
      "text/plain": [
       "array([[0. , 0. , 0. ],\n",
       "       [1. , 2. , 2. ],\n",
       "       [2. , 0.5, 2.5],\n",
       "       [3. , 0.5, 3. ],\n",
       "       [4. , 0.5, 3.5],\n",
       "       [5. , 2. , 5.5]])"
      ]
     },
     "execution_count": 32,
     "metadata": {},
     "output_type": "execute_result"
    }
   ],
   "source": [
    "# history data to numpy,\n",
    "data = np.array(data)\n",
    "data[0:6]"
   ]
  },
  {
   "cell_type": "code",
   "execution_count": 33,
   "metadata": {},
   "outputs": [
    {
     "data": {
      "text/plain": [
       "array([0. , 2. , 0.5, 0.5, 0.5, 2. ])"
      ]
     },
     "execution_count": 33,
     "metadata": {},
     "output_type": "execute_result"
    }
   ],
   "source": [
    "# so I can do this\n",
    "data[0:6, 1]"
   ]
  },
  {
   "cell_type": "code",
   "execution_count": 34,
   "metadata": {},
   "outputs": [
    {
     "data": {
      "text/plain": [
       "<matplotlib.legend.Legend at 0x1bae1135128>"
      ]
     },
     "execution_count": 34,
     "metadata": {},
     "output_type": "execute_result"
    },
    {
     "data": {
      "image/png": "[encoded data removed]",
      "text/plain": [
       "<Figure size 432x288 with 1 Axes>"
      ]
     },
     "metadata": {},
     "output_type": "display_data"
    }
   ],
   "source": [
    "plt.grid()\n",
    "plt.xlabel(\"time step\")\n",
    "plt.ylabel(\"reward\")\n",
    "plt.xticks(np.arange(0,len(data),1))\n",
    "plt.plot(data[:,0], data[:,2], 'ro', label='Reward acumulado')\n",
    "plt.plot(data[:,0], data[:,1], 'b.', label='Reward instantaneo')\n",
    "\n",
    "plt.legend()"
   ]
  },
  {
   "cell_type": "markdown",
   "metadata": {
    "colab_type": "text",
    "id": "qC0PJOkV6aYH"
   },
   "source": [
    "# Calcule de forma teórica V, la value function optima para cada estado"
   ]
  },
  {
   "cell_type": "markdown",
   "metadata": {},
   "source": [
    "<span style=\"color:red\">**PREGUNTAR v !!!**</span>"
   ]
  },
  {
   "cell_type": "markdown",
   "metadata": {},
   "source": [
    "    #x: actual state\n",
    "    #y's: next states\n",
    "\n",
    "    V(x) = reward + gamma (sum_y( p(y|a,x) * V(y) ))"
   ]
  },
  {
   "cell_type": "markdown",
   "metadata": {},
   "source": [
    "$V^*(x) = R + \\gamma * \\sum_{y \\in S'}\\ p(y\\ |\\ a,x) * V(y)$"
   ]
  },
  {
   "cell_type": "markdown",
   "metadata": {
    "colab_type": "text",
    "id": "ZRz0uMX1LbXz"
   },
   "source": [
    "# Implemente el algoritmo de iteración de valor (Value iteration)"
   ]
  },
  {
   "cell_type": "markdown",
   "metadata": {},
   "source": [
    "<img src=\"img/value-iteration-4.4.png\" width=\"500\" align=\"left\">"
   ]
  },
  {
   "cell_type": "markdown",
   "metadata": {
    "colab_type": "text",
    "id": "bVuBLOrWL1ru"
   },
   "source": [
    "  Evaluate the optimal value function given a full description of the environment dynamics\n",
    "  \n",
    "  \n",
    "\n",
    "```\n",
    " Args:\n",
    "\n",
    "        env: OpenAI env. env.P represents the transition probabilities of the environment.\n",
    "            env.P[s][a] is a list of transition tuples (prob, next_state, reward, done).\n",
    "            env.nS is a number of states in the environment. \n",
    "            env.nA is a number of actions in the environment.\n",
    "        theta: We stop evaluation once our value function change is less than theta for all states.\n",
    "        discount_factor: Gamma discount factor.\n",
    "  \n",
    "  Returns:\n",
    "        Vector of length env.nS representing the value function.\n",
    "```\n",
    "\n",
    "\n",
    "  \n",
    "   "
   ]
  },
  {
   "cell_type": "code",
   "execution_count": 83,
   "metadata": {},
   "outputs": [],
   "source": [
    "# En cada estado, quiero calcular la value function optima;\n",
    "# uso ecuacion de bellman, tomando el reward instantaneo y\n",
    "# estimando futuros posibles rewards a partir de las acciones.\n",
    "def valueIteration(env, theta=0.1, gamma=0.9, verbose=False):\n",
    "    if verbose:\n",
    "        print(\"epoch\\tvalue V\")\n",
    "    update=float('inf')\n",
    "    V = np.zeros(env.nS)\n",
    "    epoch=0\n",
    "    while(update > theta):\n",
    "        # bellman eq; for each state:\n",
    "        for s in range(env.nS):\n",
    "            vPrev = V[s]\n",
    "            maxReward = -float('inf')\n",
    "            for a in range(env.nA):\n",
    "                sumFutureRewards = 0\n",
    "                for prob, next_state, reward, done in env.P[s][a]:\n",
    "                    # sum rewards over all possible next states\n",
    "                    # (an action may result in many outcomes)\n",
    "                    sumFutureRewards += prob * (reward + gamma*V[next_state])\n",
    "                # selecting max reward from all possible actions 'a' at that state 's'\n",
    "                if(maxReward < sumFutureRewards):\n",
    "                    maxReward = sumFutureRewards\n",
    "            # updating value function\n",
    "            V[s] = maxReward\n",
    "            #we stop when update < theta\n",
    "            update = abs(V[s] - vPrev)\n",
    "        epoch += 1\n",
    "        if verbose:\n",
    "            print(epoch, \":\", V)\n",
    "    return V"
   ]
  },
  {
   "cell_type": "code",
   "execution_count": 84,
   "metadata": {},
   "outputs": [
    {
     "name": "stdout",
     "output_type": "stream",
     "text": [
      "Value function optima:\n",
      "V = [state-1:    state-2:   ]\n",
      "V = [16.21487099 14.59338389]\n"
     ]
    },
    {
     "name": "stderr",
     "output_type": "stream",
     "text": [
      "c:\\users\\jack\\gym\\gym\\__init__.py:22: UserWarning: DEPRECATION WARNING: to improve load times, gym no longer automatically loads gym.spaces. Please run \"import gym.spaces\" to load gym.spaces on your own. This warning will turn into an error in a future version of gym.\n",
      "  warnings.warn('DEPRECATION WARNING: to improve load times, gym no longer automatically loads gym.spaces. Please run \"import gym.spaces\" to load gym.spaces on your own. This warning will turn into an error in a future version of gym.')\n"
     ]
    }
   ],
   "source": [
    "def testValueIteration():\n",
    "    env = generar_ambiente()\n",
    "    print(\"Value function optima:\")\n",
    "    print(\"V = [state-1:    state-2:   ]\")\n",
    "    print(\"V =\", valueIteration(env))\n",
    "testValueIteration()"
   ]
  },
  {
   "cell_type": "markdown",
   "metadata": {
    "colab_type": "text",
    "id": "KGWxWGNA6aYJ"
   },
   "source": [
    "# Implemente el algoritmo de policy iteration"
   ]
  },
  {
   "cell_type": "markdown",
   "metadata": {
    "colab_type": "text",
    "id": "f9o3S2kaKQKX"
   },
   "source": [
    "Definir primero una funcion de evaluación de politica,\n",
    "\n",
    "```\n",
    "Evaluate a policy given an environment and a full description of the environment's dynamics.\n",
    "    \n",
    "    Args:\n",
    "        policy: [S, A] shaped matrix representing the policy.\n",
    "        env: OpenAI env. env.P represents the transition probabilities of the environment.\n",
    "            env.P[s][a] is a list of transition tuples (prob, next_state, reward, done).\n",
    "            env.nS is a number of states in the environment. \n",
    "            env.nA is a number of actions in the environment.\n",
    "        theta: We stop evaluation once our value function change is less than theta for all states.\n",
    "        discount_factor: Gamma discount factor.\n",
    "    \n",
    "    Returns:\n",
    "        Vector of length env.nS representing the value function.\n",
    "        \n",
    "```\n",
    "\n",
    "Despues una funcion de optimisacion de la politica:\n",
    "\n",
    "\n",
    "```\n",
    " Policy Improvement Algorithm. Iteratively evaluates and improves a policy\n",
    "    until an optimal policy is found.\n",
    "    \n",
    "    Args:\n",
    "        env: The OpenAI envrionment.\n",
    "        policy_eval_fn: Policy Evaluation function that takes 3 arguments:\n",
    "            policy, env, discount_factor.\n",
    "        discount_factor: gamma discount factor.\n",
    "        \n",
    "    Returns:\n",
    "        A tuple (policy, V). \n",
    "        policy is the optimal policy, a matrix of shape [S, A] where each state s\n",
    "        contains a valid probability distribution over actions.\n",
    "        V is the value function for the optimal policy.\n",
    "        \n",
    "```\n",
    "\n",
    "\n",
    "\n"
   ]
  },
  {
   "cell_type": "markdown",
   "metadata": {},
   "source": [
    "<img src=\"img/policy-evaluation-4.1.png\" width=\"500\" align=\"left\">"
   ]
  },
  {
   "cell_type": "markdown",
   "metadata": {},
   "source": [
    "<img src=\"img/value-vs-policy.png\" width=\"500\" align=\"left\">"
   ]
  },
  {
   "cell_type": "code",
   "execution_count": 64,
   "metadata": {},
   "outputs": [],
   "source": [
    "# Policy Evaluation \n",
    "# en cada estado, quiero calcular la value function PARA UNA POLICY PI;\n",
    "# uso ecuacion de bellman, tomando el reward instantaneo y\n",
    "# estimando futuros posibles rewards a partir de las acciones, que son elegidas\n",
    "# siguiendo la policy pi.\n",
    "def policyEvaluation(env, policy, theta=0.1, gamma=0.9, verbose=False):\n",
    "    if verbose:\n",
    "        print(\"epoch\\tvalue V^pi_i\")\n",
    "    update=float('inf')\n",
    "    Vpi = np.zeros(env.nS)\n",
    "    epoch=0\n",
    "    while(update > theta):\n",
    "        # bellman eq; for each state:\n",
    "        for s in range(env.nS):\n",
    "            vPrev = Vpi[s]\n",
    "            piReward = -float('inf')\n",
    "            piReward = 0\n",
    "            # the policy is deterministic, so it always choose the same action\n",
    "            a = np.random.choice([0,1,2], p=policy[s])\n",
    "            for prob, next_state, reward, done in env.P[s][a]:\n",
    "                # sums possible rewards ONLY OVER policy's actions\n",
    "                piReward += prob * (reward + gamma*Vpi[next_state])\n",
    "            # this action at this state costs/reward us 'piReward'\n",
    "            Vpi[s] = piReward\n",
    "            update = abs(Vpi[s] - vPrev)\n",
    "        epoch += 1\n",
    "        if verbose:\n",
    "            print(epoch, \":\", Vpi)\n",
    "    return Vpi"
   ]
  },
  {
   "cell_type": "code",
   "execution_count": 65,
   "metadata": {},
   "outputs": [],
   "source": [
    "def testPoliEval():\n",
    "    env = generar_ambiente()\n",
    "    # discrete random policy\n",
    "    policy=np.zeros((env.nS, env.nA))#[S,A]\n",
    "    policy[0][np.random.choice([0,1])] = 1\n",
    "    policy[1][np.random.choice([0,1,2])] = 1\n",
    "    # run policy evaluation and returns its value \n",
    "    return policyEvaluation(env, policy, verbose=True)"
   ]
  },
  {
   "cell_type": "code",
   "execution_count": 66,
   "metadata": {},
   "outputs": [
    {
     "name": "stdout",
     "output_type": "stream",
     "text": [
      "epoch\tvalue V^pi_i\n",
      "1 : [2.  0.5]\n",
      "2 : [3.53 0.95]\n",
      "3 : [4.7126 1.355 ]\n",
      "4 : [5.636972 1.7195  ]\n",
      "5 : [6.36812984 2.04755   ]\n",
      "6 : [6.95361248 2.342795  ]\n",
      "7 : [7.42830409 2.6085155 ]\n",
      "8 : [7.81791173 2.84766395]\n",
      "9 : [8.14147596 3.06289756]\n",
      "10 : [8.41318425 3.2566078 ]\n",
      "11 : [8.64368206 3.43094702]\n",
      "12 : [8.84102155 3.58785232]\n",
      "13 : [9.01134893 3.72906709]\n",
      "14 : [9.15940331 3.85616038]\n",
      "15 : [9.28887925 3.97054434]\n",
      "16 : [9.40269104 4.07348991]\n",
      "17 : [9.50316573 4.16614092]\n",
      "[9.50316573 4.16614092]\n"
     ]
    },
    {
     "name": "stderr",
     "output_type": "stream",
     "text": [
      "c:\\users\\jack\\gym\\gym\\__init__.py:22: UserWarning: DEPRECATION WARNING: to improve load times, gym no longer automatically loads gym.spaces. Please run \"import gym.spaces\" to load gym.spaces on your own. This warning will turn into an error in a future version of gym.\n",
      "  warnings.warn('DEPRECATION WARNING: to improve load times, gym no longer automatically loads gym.spaces. Please run \"import gym.spaces\" to load gym.spaces on your own. This warning will turn into an error in a future version of gym.')\n"
     ]
    }
   ],
   "source": [
    "# Policy Evaluation test with random policy\n",
    "print(testPoliEval())"
   ]
  },
  {
   "cell_type": "markdown",
   "metadata": {},
   "source": [
    "<img src=\"img/policy-iteration-4.3.png\" width=\"500\" align=\"left\">"
   ]
  },
  {
   "cell_type": "markdown",
   "metadata": {},
   "source": [
    "<img src=\"img/value-iteration-4.4.png\" width=\"500\" align=\"left\">"
   ]
  },
  {
   "cell_type": "code",
   "execution_count": 89,
   "metadata": {},
   "outputs": [],
   "source": [
    "def policyImprovement(env, policy, gamma=0.9):\n",
    "    policyStable = False\n",
    "    theta=0.1\n",
    "    V = policyEvaluation(env, policy, gamma=0.9, verbose=False)\n",
    "    update=float('inf')\n",
    "    while(not policyStable):\n",
    "        policyStable = True\n",
    "        for s in range(env.nS):\n",
    "            vPrev = V\n",
    "            oldA = np.array(policy[s])\n",
    "            maxReward = -float('inf')\n",
    "            maxAction = 0;\n",
    "            for a in range(env.nA):\n",
    "                sumFutureRewards = 0\n",
    "                for prob, next_state, reward, done in env.P[s][a]:\n",
    "                    # we weight our future reward estimation with our\n",
    "                    # estimated value function\n",
    "                    sumFutureRewards += prob * (reward + gamma*V[next_state])\n",
    "                # me quedo con el mayor reward entre todas las actions 'a' posibles\n",
    "                # en el estado s\n",
    "                if(maxReward < sumFutureRewards):\n",
    "                    maxReward = sumFutureRewards\n",
    "                    maxAction = a\n",
    "            oneHot = np.zeros(3)\n",
    "            oneHot[maxAction] = 1\n",
    "            policy[s] = oneHot\n",
    "            if not np.array_equal(oldA, policy[s]):\n",
    "                policyStable = False\n",
    "        if policyStable:\n",
    "            return (policy, V)\n",
    "        else:\n",
    "            V = policyEvaluation(env, policy, gamma=0.9, verbose=False)\n",
    "            #como lo comparo? que mido?\n",
    "        #update = np.mean(abs(V[s] - vPrev))\n",
    "        #print(update)"
   ]
  },
  {
   "cell_type": "code",
   "execution_count": 90,
   "metadata": {},
   "outputs": [],
   "source": [
    "def testPolicyImprovement():\n",
    "    env = generar_ambiente()\n",
    "    # discrete random policy\n",
    "    policy=np.zeros((env.nS, env.nA))#[S,A]\n",
    "    policy[0][np.random.choice([0,1])] = 1\n",
    "    policy[1][np.random.choice([0,1,2])] = 1\n",
    "    # run policy evaluation and returns its value\n",
    "    print(\"Policy to improve:\")\n",
    "    print(policy)\n",
    "    return policyImprovement(env, policy=policy)"
   ]
  },
  {
   "cell_type": "code",
   "execution_count": 91,
   "metadata": {},
   "outputs": [
    {
     "name": "stdout",
     "output_type": "stream",
     "text": [
      "Policy to improve:\n",
      "[[0. 1. 0.]\n",
      " [1. 0. 0.]]\n",
      "Optimal policy: \n",
      " [[0. 1. 0.]\n",
      " [0. 0. 1.]] \n",
      "Value: \n",
      " [16.21487099 14.59338389]\n"
     ]
    },
    {
     "name": "stderr",
     "output_type": "stream",
     "text": [
      "c:\\users\\jack\\gym\\gym\\__init__.py:22: UserWarning: DEPRECATION WARNING: to improve load times, gym no longer automatically loads gym.spaces. Please run \"import gym.spaces\" to load gym.spaces on your own. This warning will turn into an error in a future version of gym.\n",
      "  warnings.warn('DEPRECATION WARNING: to improve load times, gym no longer automatically loads gym.spaces. Please run \"import gym.spaces\" to load gym.spaces on your own. This warning will turn into an error in a future version of gym.')\n"
     ]
    }
   ],
   "source": [
    "policy, V = testPolicyImprovement()\n",
    "print(\"Optimal policy: \\n\",policy,\"\\nValue: \\n\",V)"
   ]
  },
  {
   "cell_type": "markdown",
   "metadata": {
    "colab_type": "text",
    "id": "brOjUJvE6aYV"
   },
   "source": [
    "# Utilizando los 3 algoritmos, realice los experimentos para las siguientes configuraciones del ambiente."
   ]
  },
  {
   "cell_type": "code",
   "execution_count": 92,
   "metadata": {
    "colab": {},
    "colab_type": "code",
    "id": "jVKvrm0t6aYV"
   },
   "outputs": [
    {
     "name": "stderr",
     "output_type": "stream",
     "text": [
      "c:\\users\\jack\\gym\\gym\\__init__.py:22: UserWarning: DEPRECATION WARNING: to improve load times, gym no longer automatically loads gym.spaces. Please run \"import gym.spaces\" to load gym.spaces on your own. This warning will turn into an error in a future version of gym.\n",
      "  warnings.warn('DEPRECATION WARNING: to improve load times, gym no longer automatically loads gym.spaces. Please run \"import gym.spaces\" to load gym.spaces on your own. This warning will turn into an error in a future version of gym.')\n"
     ]
    }
   ],
   "source": [
    "exp1 = generar_ambiente(alpha=0.9, beta=0.9, r_search=3, r_wait=2)\n",
    "exp2 = generar_ambiente(alpha=0.8, beta=0.5, r_search=3, r_wait=2)\n",
    "exp3 = generar_ambiente(alpha=0.5, beta=0.5, r_search=3, r_wait=2)\n",
    "exp4 = generar_ambiente(alpha=0.9, beta=0.6, r_search=1, r_wait=0.9)\n",
    "exp5 = generar_ambiente(alpha=0.9, beta=0.6, r_search=1, r_wait=0.5)\n"
   ]
  },
  {
   "cell_type": "markdown",
   "metadata": {
    "colab_type": "text",
    "id": "IAT_YZq56aYY"
   },
   "source": [
    "# Utilizando el grafico de recompensa, compare las estrategias óptimas generadas con los experimentos anteriores contra la estrategia al azar."
   ]
  },
  {
   "cell_type": "code",
   "execution_count": 93,
   "metadata": {},
   "outputs": [
    {
     "name": "stdout",
     "output_type": "stream",
     "text": [
      "epoch\tvalue V\n",
      "1 : [3.  2.7]\n",
      "2 : [5.673  5.1057]\n",
      "3 : [8.054643   7.26053487]\n",
      "4 : [10.17770897  9.19702705]\n",
      "5 : [12.0716767  10.93604281]\n",
      "6 : [13.76230198 12.49680186]\n",
      "7 : [15.27217677 13.89690541]\n",
      "8 : [16.62118467 15.15240001]\n",
      "9 : [17.82687558 16.27786281]\n",
      "10 : [18.90477688 17.28649879]\n",
      "11 : [19.86865416 18.1902429 ]\n",
      "12 : [20.73073173 18.9998626 ]\n",
      "13 : [21.50188034 19.72505794]\n",
      "14 : [22.19177829 20.37455698]\n",
      "15 : [22.80905054 20.9562057 ]\n",
      "16 : [23.36138945 21.47705167]\n",
      "17 : [23.8556601  21.94342126]\n",
      "18 : [24.2979926  22.36099055]\n",
      "19 : [24.69386315 22.73485003]\n",
      "20 : [25.04816566 23.06956344]\n",
      "21 : [25.36527489 23.36922112]\n",
      "22 : [25.64910256 23.63748834]\n",
      "23 : [25.90314703 23.87764879]\n",
      "24 : [26.13053748 24.09264389]\n",
      "25 : [26.33407331 24.28510815]\n",
      "26 : [26.51625912 24.45740092]\n",
      "27 : [26.67933597 24.61163498]\n",
      "28 : [26.82530928 24.74970217]\n",
      "29 : [26.95597371 24.87329639]\n",
      "30 : [27.07293538 24.98393426]\n",
      "31 : [27.17763174 25.08297361]\n"
     ]
    },
    {
     "name": "stderr",
     "output_type": "stream",
     "text": [
      "c:\\users\\jack\\gym\\gym\\__init__.py:22: UserWarning: DEPRECATION WARNING: to improve load times, gym no longer automatically loads gym.spaces. Please run \"import gym.spaces\" to load gym.spaces on your own. This warning will turn into an error in a future version of gym.\n",
      "  warnings.warn('DEPRECATION WARNING: to improve load times, gym no longer automatically loads gym.spaces. Please run \"import gym.spaces\" to load gym.spaces on your own. This warning will turn into an error in a future version of gym.')\n"
     ]
    },
    {
     "data": {
      "text/plain": [
       "array([27.17763174, 25.08297361])"
      ]
     },
     "execution_count": 93,
     "metadata": {},
     "output_type": "execute_result"
    }
   ],
   "source": [
    "env = generar_ambiente(alpha=0.9, beta=0.9, r_search=3, r_wait=2)\n",
    "valueIteration(env=exp3, verbose=True)"
   ]
  },
  {
   "cell_type": "code",
   "execution_count": 94,
   "metadata": {},
   "outputs": [
    {
     "name": "stdout",
     "output_type": "stream",
     "text": [
      "epoch\tvalue V\n",
      "1 : [3.  2.7]\n",
      "2 : [5.673  5.1057]\n",
      "3 : [8.054643   7.26053487]\n",
      "4 : [10.17770897  9.19702705]\n",
      "5 : [12.0716767  10.93604281]\n",
      "6 : [13.76230198 12.49680186]\n",
      "7 : [15.27217677 13.89690541]\n",
      "8 : [16.62118467 15.15240001]\n",
      "9 : [17.82687558 16.27786281]\n",
      "10 : [18.90477688 17.28649879]\n",
      "11 : [19.86865416 18.1902429 ]\n",
      "12 : [20.73073173 18.9998626 ]\n",
      "13 : [21.50188034 19.72505794]\n",
      "14 : [22.19177829 20.37455698]\n",
      "15 : [22.80905054 20.9562057 ]\n",
      "16 : [23.36138945 21.47705167]\n",
      "17 : [23.8556601  21.94342126]\n",
      "18 : [24.2979926  22.36099055]\n",
      "19 : [24.69386315 22.73485003]\n",
      "20 : [25.04816566 23.06956344]\n",
      "21 : [25.36527489 23.36922112]\n",
      "22 : [25.64910256 23.63748834]\n",
      "23 : [25.90314703 23.87764879]\n",
      "24 : [26.13053748 24.09264389]\n",
      "25 : [26.33407331 24.28510815]\n",
      "26 : [26.51625912 24.45740092]\n",
      "27 : [26.67933597 24.61163498]\n",
      "28 : [26.82530928 24.74970217]\n",
      "29 : [26.95597371 24.87329639]\n",
      "30 : [27.07293538 24.98393426]\n",
      "31 : [27.17763174 25.08297361]\n"
     ]
    },
    {
     "data": {
      "text/plain": [
       "array([27.17763174, 25.08297361])"
      ]
     },
     "execution_count": 94,
     "metadata": {},
     "output_type": "execute_result"
    }
   ],
   "source": [
    "valueIteration(exp1, verbose=True)"
   ]
  },
  {
   "cell_type": "code",
   "execution_count": 95,
   "metadata": {},
   "outputs": [
    {
     "name": "stdout",
     "output_type": "stream",
     "text": [
      "epoch\tvalue V\n",
      "1 : [3.  2.7]\n",
      "2 : [5.673  5.1057]\n",
      "3 : [8.054643   7.26053487]\n",
      "4 : [10.17770897  9.19702705]\n",
      "5 : [12.0716767  10.93604281]\n",
      "6 : [13.76230198 12.49680186]\n",
      "7 : [15.27217677 13.89690541]\n",
      "8 : [16.62118467 15.15240001]\n",
      "9 : [17.82687558 16.27786281]\n",
      "10 : [18.90477688 17.28649879]\n",
      "11 : [19.86865416 18.1902429 ]\n",
      "12 : [20.73073173 18.9998626 ]\n",
      "13 : [21.50188034 19.72505794]\n",
      "14 : [22.19177829 20.37455698]\n",
      "15 : [22.80905054 20.9562057 ]\n",
      "16 : [23.36138945 21.47705167]\n",
      "17 : [23.8556601  21.94342126]\n",
      "18 : [24.2979926  22.36099055]\n",
      "19 : [24.69386315 22.73485003]\n",
      "20 : [25.04816566 23.06956344]\n",
      "21 : [25.36527489 23.36922112]\n",
      "22 : [25.64910256 23.63748834]\n",
      "23 : [25.90314703 23.87764879]\n",
      "24 : [26.13053748 24.09264389]\n",
      "25 : [26.33407331 24.28510815]\n",
      "26 : [26.51625912 24.45740092]\n",
      "27 : [26.67933597 24.61163498]\n",
      "28 : [26.82530928 24.74970217]\n",
      "29 : [26.95597371 24.87329639]\n",
      "30 : [27.07293538 24.98393426]\n",
      "31 : [27.17763174 25.08297361]\n"
     ]
    },
    {
     "data": {
      "text/plain": [
       "array([27.17763174, 25.08297361])"
      ]
     },
     "execution_count": 95,
     "metadata": {},
     "output_type": "execute_result"
    }
   ],
   "source": [
    "valueIteration(exp2, verbose=True)"
   ]
  },
  {
   "cell_type": "code",
   "execution_count": 96,
   "metadata": {},
   "outputs": [
    {
     "name": "stdout",
     "output_type": "stream",
     "text": [
      "epoch\tvalue V\n",
      "1 : [3.  2.7]\n",
      "2 : [5.673  5.1057]\n",
      "3 : [8.054643   7.26053487]\n",
      "4 : [10.17770897  9.19702705]\n",
      "5 : [12.0716767  10.93604281]\n",
      "6 : [13.76230198 12.49680186]\n",
      "7 : [15.27217677 13.89690541]\n",
      "8 : [16.62118467 15.15240001]\n",
      "9 : [17.82687558 16.27786281]\n",
      "10 : [18.90477688 17.28649879]\n",
      "11 : [19.86865416 18.1902429 ]\n",
      "12 : [20.73073173 18.9998626 ]\n",
      "13 : [21.50188034 19.72505794]\n",
      "14 : [22.19177829 20.37455698]\n",
      "15 : [22.80905054 20.9562057 ]\n",
      "16 : [23.36138945 21.47705167]\n",
      "17 : [23.8556601  21.94342126]\n",
      "18 : [24.2979926  22.36099055]\n",
      "19 : [24.69386315 22.73485003]\n",
      "20 : [25.04816566 23.06956344]\n",
      "21 : [25.36527489 23.36922112]\n",
      "22 : [25.64910256 23.63748834]\n",
      "23 : [25.90314703 23.87764879]\n",
      "24 : [26.13053748 24.09264389]\n",
      "25 : [26.33407331 24.28510815]\n",
      "26 : [26.51625912 24.45740092]\n",
      "27 : [26.67933597 24.61163498]\n",
      "28 : [26.82530928 24.74970217]\n",
      "29 : [26.95597371 24.87329639]\n",
      "30 : [27.07293538 24.98393426]\n",
      "31 : [27.17763174 25.08297361]\n"
     ]
    },
    {
     "data": {
      "text/plain": [
       "array([27.17763174, 25.08297361])"
      ]
     },
     "execution_count": 96,
     "metadata": {},
     "output_type": "execute_result"
    }
   ],
   "source": [
    "valueIteration(exp3, verbose=True)"
   ]
  },
  {
   "cell_type": "code",
   "execution_count": 97,
   "metadata": {},
   "outputs": [
    {
     "name": "stdout",
     "output_type": "stream",
     "text": [
      "epoch\tvalue V\n",
      "1 : [3.  2.7]\n",
      "2 : [5.673  5.1057]\n",
      "3 : [8.054643   7.26053487]\n",
      "4 : [10.17770897  9.19702705]\n",
      "5 : [12.0716767  10.93604281]\n",
      "6 : [13.76230198 12.49680186]\n",
      "7 : [15.27217677 13.89690541]\n",
      "8 : [16.62118467 15.15240001]\n",
      "9 : [17.82687558 16.27786281]\n",
      "10 : [18.90477688 17.28649879]\n",
      "11 : [19.86865416 18.1902429 ]\n",
      "12 : [20.73073173 18.9998626 ]\n",
      "13 : [21.50188034 19.72505794]\n",
      "14 : [22.19177829 20.37455698]\n",
      "15 : [22.80905054 20.9562057 ]\n",
      "16 : [23.36138945 21.47705167]\n",
      "17 : [23.8556601  21.94342126]\n",
      "18 : [24.2979926  22.36099055]\n",
      "19 : [24.69386315 22.73485003]\n",
      "20 : [25.04816566 23.06956344]\n",
      "21 : [25.36527489 23.36922112]\n",
      "22 : [25.64910256 23.63748834]\n",
      "23 : [25.90314703 23.87764879]\n",
      "24 : [26.13053748 24.09264389]\n",
      "25 : [26.33407331 24.28510815]\n",
      "26 : [26.51625912 24.45740092]\n",
      "27 : [26.67933597 24.61163498]\n",
      "28 : [26.82530928 24.74970217]\n",
      "29 : [26.95597371 24.87329639]\n",
      "30 : [27.07293538 24.98393426]\n",
      "31 : [27.17763174 25.08297361]\n"
     ]
    },
    {
     "data": {
      "text/plain": [
       "array([27.17763174, 25.08297361])"
      ]
     },
     "execution_count": 97,
     "metadata": {},
     "output_type": "execute_result"
    }
   ],
   "source": [
    "valueIteration(exp4, verbose=True)"
   ]
  },
  {
   "cell_type": "code",
   "execution_count": 98,
   "metadata": {},
   "outputs": [
    {
     "name": "stdout",
     "output_type": "stream",
     "text": [
      "epoch\tvalue V\n",
      "1 : [3.  2.7]\n",
      "2 : [5.673  5.1057]\n",
      "3 : [8.054643   7.26053487]\n",
      "4 : [10.17770897  9.19702705]\n",
      "5 : [12.0716767  10.93604281]\n",
      "6 : [13.76230198 12.49680186]\n",
      "7 : [15.27217677 13.89690541]\n",
      "8 : [16.62118467 15.15240001]\n",
      "9 : [17.82687558 16.27786281]\n",
      "10 : [18.90477688 17.28649879]\n",
      "11 : [19.86865416 18.1902429 ]\n",
      "12 : [20.73073173 18.9998626 ]\n",
      "13 : [21.50188034 19.72505794]\n",
      "14 : [22.19177829 20.37455698]\n",
      "15 : [22.80905054 20.9562057 ]\n",
      "16 : [23.36138945 21.47705167]\n",
      "17 : [23.8556601  21.94342126]\n",
      "18 : [24.2979926  22.36099055]\n",
      "19 : [24.69386315 22.73485003]\n",
      "20 : [25.04816566 23.06956344]\n",
      "21 : [25.36527489 23.36922112]\n",
      "22 : [25.64910256 23.63748834]\n",
      "23 : [25.90314703 23.87764879]\n",
      "24 : [26.13053748 24.09264389]\n",
      "25 : [26.33407331 24.28510815]\n",
      "26 : [26.51625912 24.45740092]\n",
      "27 : [26.67933597 24.61163498]\n",
      "28 : [26.82530928 24.74970217]\n",
      "29 : [26.95597371 24.87329639]\n",
      "30 : [27.07293538 24.98393426]\n",
      "31 : [27.17763174 25.08297361]\n"
     ]
    },
    {
     "data": {
      "text/plain": [
       "array([27.17763174, 25.08297361])"
      ]
     },
     "execution_count": 98,
     "metadata": {},
     "output_type": "execute_result"
    }
   ],
   "source": [
    "valueIteration(exp5, verbose=True)"
   ]
  },
  {
   "cell_type": "code",
   "execution_count": 100,
   "metadata": {},
   "outputs": [
    {
     "data": {
      "text/plain": [
       "array([27.17763174, 25.08297361])"
      ]
     },
     "execution_count": 100,
     "metadata": {},
     "output_type": "execute_result"
    }
   ],
   "source": [
    "valueIteration(exp1)"
   ]
  },
  {
   "cell_type": "code",
   "execution_count": 106,
   "metadata": {},
   "outputs": [
    {
     "name": "stderr",
     "output_type": "stream",
     "text": [
      "c:\\users\\jack\\gym\\gym\\__init__.py:22: UserWarning: DEPRECATION WARNING: to improve load times, gym no longer automatically loads gym.spaces. Please run \"import gym.spaces\" to load gym.spaces on your own. This warning will turn into an error in a future version of gym.\n",
      "  warnings.warn('DEPRECATION WARNING: to improve load times, gym no longer automatically loads gym.spaces. Please run \"import gym.spaces\" to load gym.spaces on your own. This warning will turn into an error in a future version of gym.')\n"
     ]
    },
    {
     "data": {
      "text/plain": [
       "array([24.66801105, 22.20120994])"
      ]
     },
     "execution_count": 106,
     "metadata": {},
     "output_type": "execute_result"
    }
   ],
   "source": [
    "from gym import spaces\n",
    "exp2 = generar_ambiente(alpha=0.8, beta=0.5, r_search=3, r_wait=2)\n",
    "valueIteration(exp2)"
   ]
  },
  {
   "cell_type": "code",
   "execution_count": null,
   "metadata": {},
   "outputs": [],
   "source": []
  }
 ],
 "metadata": {
  "colab": {
   "name": "TP1 - (Sin solucion).ipynb",
   "provenance": [],
   "version": "0.3.2"
  },
  "kernelspec": {
   "display_name": "Python 3",
   "language": "python",
   "name": "python3"
  },
  "language_info": {
   "codemirror_mode": {
    "name": "ipython",
    "version": 3
   },
   "file_extension": ".py",
   "mimetype": "text/x-python",
   "name": "python",
   "nbconvert_exporter": "python",
   "pygments_lexer": "ipython3",
   "version": "3.6.5"
  }
 },
 "nbformat": 4,
 "nbformat_minor": 1
}
