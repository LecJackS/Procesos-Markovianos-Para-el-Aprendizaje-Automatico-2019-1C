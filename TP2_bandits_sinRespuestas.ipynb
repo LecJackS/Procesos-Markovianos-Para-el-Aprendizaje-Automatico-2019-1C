{
 "cells": [
  {
   "cell_type": "code",
   "execution_count": 1,
   "metadata": {},
   "outputs": [],
   "source": [
    "import numpy as np\n",
    "import matplotlib.pyplot as plt\n",
    "%matplotlib inline"
   ]
  },
  {
   "cell_type": "code",
   "execution_count": 2,
   "metadata": {},
   "outputs": [],
   "source": [
    "class BernoulliBanditEnv(object): \n",
    "    # Clase que define el environment donde el reward es 0 o 1 dependiendo de una probabilidad p.\n",
    "\n",
    "    def __init__(self, num_arms=10, p=None):\n",
    "        self.num_arms = num_arms\n",
    "        self.actions = np.arange(num_arms)     # define set of actions\n",
    "\n",
    "        if len(p)==1:\n",
    "            self.p = np.random.beta(0.5, 0.5, size=num_arms)\n",
    "        elif len(p) == num_arms:\n",
    "            self.p = p\n",
    "        else:\n",
    "            raise Exception('Number of probabilities ({}) does not correspond to number of arms ({}).'.format(len(q), num_arms))\n",
    "        self.best_action = np.argmax(self.p)   # La mejor accion dado el enviroenment\n",
    "\n",
    "    def reward(self, action):\n",
    "        return np.random.binomial(1, p=self.p[action])\n"
   ]
  },
  {
   "cell_type": "code",
   "execution_count": 3,
   "metadata": {},
   "outputs": [],
   "source": [
    "class Agent(object):\n",
    "    # Clase que define al agente. Cada agente cuenta con una regla de decisión y una regla de aprendizaje.\n",
    "    \n",
    "    def __init__(self, learning_rule, decision_rule, param=None):\n",
    "        self.decision_rule = decision_rule\n",
    "        self.learning_rule = learning_rule\n",
    "\n",
    "        if decision_rule == \"epsilon-greedy\":\n",
    "            self.epsilon = param[\"epsilon\"]\n",
    "        \n",
    "        if decision_rule == \"UCB\":\n",
    "            self.UCB_param = param[\"UCB_param\"]\n",
    "    \n",
    "    def environment(self, env, init_q):\n",
    "        # inicializa el environment\n",
    "        self.env = env                                  \n",
    "        self.k = env.num_arms                           \n",
    "        self.actions = np.arange(self.k)                \n",
    "        self.act_count = np.zeros(self.k)               \n",
    "        self.iteration = 0     \n",
    "        if self.learning_rule == \"BayesianBetaPrior\":\n",
    "            self.alpha = np.random.uniform(size=self.k)\n",
    "            self.beta = np.random.uniform(size=self.k)\n",
    "        if len(init_q) == self.k:\n",
    "            self.q_estimate = init_q\n",
    "        else:\n",
    "            raise Exception('Number of initial values ({}) does not correspond to number of arms ({}).'.format(len(init_q), self.k))\n",
    "\n",
    "    def learn(self, a, r):\n",
    "        # dada una acción y una recompenza, actualiza la value function.\n",
    "        if self.learning_rule == \"averaging\":\n",
    "            self.q_estimate[a] += 1/self.act_count[a] * (r - self.q_estimate[a])\n",
    "            \n",
    "        if self.learning_rule == \"BayesianBetaPrior\":\n",
    "            self.alpha[a] += r\n",
    "            self.beta[a] += 1 - r \n",
    "            \n",
    "    def act(self):\n",
    "        # realiza una acción.\n",
    "        self.iteration += 1 \n",
    "        if self.decision_rule == \"greedy\":\n",
    "            # COMPLETAR\n",
    "            pass\n",
    "\n",
    "        if self.decision_rule == \"epsilon-greedy\":\n",
    "            # COMPLETAR\n",
    "            pass\n",
    "        \n",
    "        if self.decision_rule == \"UCB\":\n",
    "            # COMPLETAR\n",
    "            pass\n",
    "        if self.decision_rule == \"Thompson\":\n",
    "            # COMPLETAR\n",
    "            pass\n",
    "        self.act_count[selected_action] += 1\n",
    "        return selected_action"
   ]
  },
  {
   "cell_type": "code",
   "execution_count": 4,
   "metadata": {},
   "outputs": [],
   "source": [
    "def simulateBandits(agents, narms, initp=None, initq=None, repetitions=1000, N=100):\n",
    "    # función que realiza las simulaciones de los agentes. Se define el número de repeticiones que seran\n",
    "    #  promediadas y el número de pasos N. agents es una lista de agentes.\n",
    "    \n",
    "    rewards = np.zeros((len(agents), repetitions, N))\n",
    "    bestarm = np.zeros((len(agents), repetitions, N))\n",
    "    for i, agent in enumerate(agents):\n",
    "        for j in np.arange(repetitions):\n",
    "            environment = BernoulliBanditEnv(num_arms=narms, p=initp)\n",
    "            agent.environment(environment, initq if not(initq == None) else np.zeros(narms))\n",
    "            for n in np.arange(N):\n",
    "                a = agent.act()\n",
    "                r = environment.reward(a)\n",
    "                agent.learn(a, r)\n",
    "                rewards[i, j, n] = r\n",
    "                bestarm[i, j, n] = 1 if a == environment.best_action else 0\n",
    "    \n",
    "    return np.squeeze(np.mean(rewards, axis=1)), np.squeeze(np.mean(bestarm, axis=1))"
   ]
  },
  {
   "cell_type": "code",
   "execution_count": 5,
   "metadata": {},
   "outputs": [],
   "source": [
    "def plot_results(agents, actions, rewards):\n",
    "    # COMPLETAR\n",
    "    pass"
   ]
  },
  {
   "cell_type": "markdown",
   "metadata": {},
   "source": [
    "# Ejercicios:\n",
    "\n",
    "1) Completar pertinentemente el código donde diga \"COMPLETAR\".\n",
    "\n",
    "2) Realizar simulaciones con un bandit de 2 brazos (P = [0.4, 0.8]) para cada una de las reglas de decisión y graficar la recompensa promedio, la recompensa acumulada y el porcentaje de veces que fue elegido el mejor brazo en función de los pasos. Interprete los resultados.\n",
    "\n",
    "3) Realizar simulaciones con un bandit de 10 brazos (P = [0.2, 0.2, 0.4, 0.2, 0.2, 0.2, 0.2, 0.8, 0.2, 0.2]) para cada una de las reglas de decisión y graficar la recompensa promedio, la recompensa acumulada y el porcentaje de veces que fue elegido el mejor brazo en función de los pasos. Interprete los resultados.\n",
    "\n",
    "4) Estudie la dependencia del hiperparametro epsilon en la regla de decisión epsilon-greedy.\n"
   ]
  },
  {
   "cell_type": "code",
   "execution_count": null,
   "metadata": {},
   "outputs": [],
   "source": []
  }
 ],
 "metadata": {
  "kernelspec": {
   "display_name": "Python 3",
   "language": "python",
   "name": "python3"
  },
  "language_info": {
   "codemirror_mode": {
    "name": "ipython",
    "version": 3
   },
   "file_extension": ".py",
   "mimetype": "text/x-python",
   "name": "python",
   "nbconvert_exporter": "python",
   "pygments_lexer": "ipython3",
   "version": "3.6.8"
  }
 },
 "nbformat": 4,
 "nbformat_minor": 2
}
