{
 "cells": [
  {
   "cell_type": "markdown",
   "metadata": {},
   "source": [
    "# TP3: Model Free"
   ]
  },
  {
   "cell_type": "markdown",
   "metadata": {},
   "source": [
    "### Descripción del código: \n",
    "\n",
    "En este Trabajo se les presenta un juego de mesa (una versión simplificada del Perudo: https://www.youtube.com/watch?v=die0n-eonl8, juego que aparece en la pelicula Piratas Del Caribe 2: El cofre de la Muerte). A partir de las reglas de dicho juego se construye un environment.\n",
    "\n",
    "Además se les brinda un breve código en donde se juega contra dicho environment de forma aleatoria.\n",
    "\n",
    "Por ultimo, también encontraran dos funciones para graficar la Value function y una política respectivamente.\n",
    "\n",
    "### Consignas:\n",
    "\n",
    "1. Implementar el método de Monte Carlo, SARSA y Q-learning para aprender la función valor.\n",
    "\n",
    " Nota: no es necesario, pero si recomendable, usar el esqueleto de funciones que aparecen abajo.\n",
    " \n",
    "\n",
    "2. Para cada uno de los 3 casos, graficar dicha función valor y la política optima encontrada.\n",
    "\n",
    "\n",
    "3. Crear un nuevo environment que tome como parámetro una política (dicho parámetro deberá ser la política realizada por la IA).\n",
    "\n",
    " Luego realizar iteraciones para cualquiera de los 3 métodos mencionados, en donde para cada iteración encuentre una política óptima para un jugador que se enfrenta contra la política óptima del paso anterior.\n",
    "\n",
    " Nuevamente graficar la función valor y la política optima final."
   ]
  },
  {
   "cell_type": "code",
   "execution_count": 355,
   "metadata": {
    "ExecuteTime": {
     "end_time": "2019-05-30T03:42:15.583821Z",
     "start_time": "2019-05-30T03:42:15.579932Z"
    }
   },
   "outputs": [
    {
     "data": {
      "text/html": [
       "<img src=\"https://i.ytimg.com/vi/gMGsAxuWozQ/maxresdefault.jpg\"/>"
      ],
      "text/plain": [
       "<IPython.core.display.Image object>"
      ]
     },
     "execution_count": 355,
     "metadata": {},
     "output_type": "execute_result"
    }
   ],
   "source": [
    "from IPython.display import Image\n",
    "from IPython.core.display import HTML \n",
    "Image(url= \"https://i.ytimg.com/vi/gMGsAxuWozQ/maxresdefault.jpg\")"
   ]
  },
  {
   "cell_type": "code",
   "execution_count": 356,
   "metadata": {
    "ExecuteTime": {
     "end_time": "2019-05-30T03:42:15.711276Z",
     "start_time": "2019-05-30T03:42:15.709047Z"
    }
   },
   "outputs": [],
   "source": [
    "import gym\n",
    "import numpy as np\n",
    "import random\n",
    "from gym import spaces\n",
    "from gym.utils import seeding"
   ]
  },
  {
   "cell_type": "markdown",
   "metadata": {},
   "source": [
    "## El juego"
   ]
  },
  {
   "cell_type": "markdown",
   "metadata": {},
   "source": [
    "Reglas:\n",
    "\n",
    "- 2 jugadores (uno sos vos y una IA)\n",
    "- Cada jugador cuenta con **5 monedas** (cara o cruz). Cada jugador solo ve sus monedas. \n",
    "- Después de tirar las monedas, empieza el juego.\n",
    "- El juego consiste en intentar adivinar al menos **cuantas caras hay en total** entre todas las monedas o en hacer que el **rival adivine incorrectamente**.\n",
    "- La apuesta empieza en 0 caras.\n",
    "- Se tira una moneda para ver quien de los dos jugadores empieza. \n",
    "- Acciones posibles:\n",
    "    * me quedo con la apuesta hasta ahora y paso.\n",
    "    * subo en 1 la cantidad de caras que creo que hay en total.\n",
    "- El juego termina cuando algún jugador pasa.\n",
    "- Si la apuesta fue **mayor** al numero real de caras, **el apostador pierde** (r=-1) y el otro gana.\n",
    "- Si la apuesta es **menor o igual** al numero real, **gana el apostador** (r=1) y pierde el otro.\n",
    "- IA inicial de la computadora: Si la apuesta es menor a 2 + cantidad de caras propias, la computadora apuesta. Sino pasa."
   ]
  },
  {
   "cell_type": "code",
   "execution_count": 357,
   "metadata": {
    "ExecuteTime": {
     "end_time": "2019-05-30T03:42:16.083084Z",
     "start_time": "2019-05-30T03:42:16.074964Z"
    }
   },
   "outputs": [],
   "source": [
    "# Defino nuestro propio environment con las reglas del juego\n",
    "\n",
    "def throw_coin(num_coin, np_random):\n",
    "    return np_random.rand(num_coin)>0.5\n",
    "\n",
    "def total_faces(list_players):\n",
    "    RV=0\n",
    "    for player in list_players:\n",
    "        RV += sum(player)\n",
    "    return RV\n",
    "\n",
    "class PerudoSimplificado(gym.Env):\n",
    "    def __init__(self):\n",
    "        \n",
    "        self.action_space = spaces.Discrete(2)\n",
    "        self.observation_space = spaces.Tuple((\n",
    "            spaces.Discrete(5), #mis monedas\n",
    "            spaces.Discrete(10))) #apuesta actual\n",
    "\n",
    "        self.seed()\n",
    "        # Empieza el juego\n",
    "        self.reset()\n",
    "\n",
    "    def seed(self, seed=None):\n",
    "        self.np_random, seed = seeding.np_random(seed)\n",
    "        return [seed]\n",
    "\n",
    "    def step(self, action):\n",
    "        assert self.action_space.contains(action)\n",
    "        \n",
    "        max_guess_player_2 = total_faces([self.player_2]) + int(len(self.player_1)/2)\n",
    "        faces_tot = total_faces([self.player_1, self.player_2])\n",
    "        \n",
    "        if self.guess > len(self.player_1) + len(self.player_2): #la apuesta es mayor que lo maximo posible\n",
    "            done = True\n",
    "            reward = -1\n",
    "\n",
    "        if action == 0: #action == 0, mantengo la apuesta y paso\n",
    "            done = True\n",
    "            if self.guess <= faces_tot: #tenia razon el rival\n",
    "                reward = -1\n",
    "            else: #tenia razon yo\n",
    "                reward = -1\n",
    "            \n",
    "        else: #action == 1, subo en 1 la apuesta\n",
    "            self.guess += 1\n",
    "            if self.guess < max_guess_player_2: #el rival sube 1 en su turno\n",
    "                self.guess += 1 \n",
    "                done = False\n",
    "                reward = 0\n",
    "            else: # el rival pasa\n",
    "                done = True\n",
    "                if self.guess <= faces_tot: \n",
    "                    reward = 1\n",
    "                else:\n",
    "                    reward = -1\n",
    "            \n",
    "        return self.get_obs(), reward, done, {}\n",
    "\n",
    "    def get_obs(self):\n",
    "        return (sum(self.player_1), self.guess)\n",
    "    \n",
    "    def reset(self):\n",
    "        self.player_1 = throw_coin(5,self.np_random)\n",
    "        self.player_2 = throw_coin(5,self.np_random)\n",
    "        self.guess = 1 if np.random.rand()>0.5 else 0 #al principio se tira una moneda para ver quien empieza. Por eso es 0 (uno empieza) o 1 (empezo el otro y subio)  \n",
    "        return self.get_obs()"
   ]
  },
  {
   "cell_type": "markdown",
   "metadata": {},
   "source": [
    "## Jugando al azar"
   ]
  },
  {
   "cell_type": "code",
   "execution_count": 358,
   "metadata": {
    "ExecuteTime": {
     "end_time": "2019-05-30T03:42:16.349005Z",
     "start_time": "2019-05-30T03:42:16.345623Z"
    }
   },
   "outputs": [
    {
     "name": "stdout",
     "output_type": "stream",
     "text": [
      "Tuple(Discrete(5), Discrete(10))\n",
      "Discrete(2)\n"
     ]
    }
   ],
   "source": [
    "env = PerudoSimplificado()\n",
    "print(env.observation_space)\n",
    "print(env.action_space)"
   ]
  },
  {
   "cell_type": "code",
   "execution_count": 359,
   "metadata": {
    "ExecuteTime": {
     "end_time": "2019-05-30T03:42:16.478429Z",
     "start_time": "2019-05-30T03:42:16.471812Z"
    }
   },
   "outputs": [
    {
     "name": "stdout",
     "output_type": "stream",
     "text": [
      "Starting at state: (2, 0)\n",
      "(2, 2) 1\n",
      "(2, 4) 1\n",
      "(2, 5) 1\n",
      "El juego ha terminado! Su reward:  1\n",
      "Ganaste :)\n",
      "\n"
     ]
    }
   ],
   "source": [
    "#Politica Random:\n",
    "for i_episode in range(1):\n",
    "    state = env.reset()\n",
    "    print(\"Starting at state:\", state)\n",
    "    while True:\n",
    "        #action = env.action_space.sample() # Selecciona una accion random dentro de las posibles\n",
    "        action = 1\n",
    "        state, reward, done, info = env.step(action) # Juega un paso\n",
    "        print(state, action)\n",
    "        if done:\n",
    "            print('El juego ha terminado! Su reward: ', reward)\n",
    "            print('Ganaste :)\\n') if reward > 0 else print('Perdiste :(\\n')\n",
    "            break"
   ]
  },
  {
   "cell_type": "markdown",
   "metadata": {},
   "source": [
    "## Graficos:"
   ]
  },
  {
   "cell_type": "code",
   "execution_count": 360,
   "metadata": {
    "ExecuteTime": {
     "end_time": "2019-05-30T03:42:16.731901Z",
     "start_time": "2019-05-30T03:42:16.727120Z"
    }
   },
   "outputs": [],
   "source": [
    "from mpl_toolkits.mplot3d import Axes3D\n",
    "import matplotlib.pyplot as plt\n",
    "from mpl_toolkits.axes_grid1 import make_axes_locatable\n",
    "\n",
    "def plot_values(V):\n",
    "    \"\"\"\n",
    "    Realiza un grafico en 3 dimensiones de la función valor.\n",
    "        \n",
    "    El parametro V es un diccionario cuyas keys son pares \"caras en mi mano\" \n",
    "    y \"apuesta actual\".\n",
    "    \"\"\"\n",
    "    def get_Z(x, y):\n",
    "        if (x,y) in V:\n",
    "            return V[x,y]\n",
    "        else:\n",
    "            return 0\n",
    "\n",
    "    def get_figure(ax):\n",
    "        x_range = np.arange(0, 6)\n",
    "        y_range = np.arange(1, 11)\n",
    "        X, Y = np.meshgrid(x_range, y_range)\n",
    "        \n",
    "        Z = np.array([get_Z(x,y) for x,y in zip(np.ravel(X), np.ravel(Y))]).reshape(X.shape)\n",
    "\n",
    "        surf = ax.plot_surface(X, Y, Z, rstride=1, cstride=1, cmap=plt.cm.coolwarm, vmin=-1.0, vmax=1.0)\n",
    "        ax.set_xlabel('caras en tu mano')\n",
    "        ax.set_ylabel('apuestas')\n",
    "        ax.set_zlabel('value')\n",
    "        ax.view_init(ax.elev, -120)\n",
    "    fig = plt.figure(figsize=(20, 20))\n",
    "    ax = fig.add_subplot(211, projection='3d')\n",
    "    get_figure(ax)\n",
    "    plt.show()"
   ]
  },
  {
   "cell_type": "code",
   "execution_count": 361,
   "metadata": {
    "ExecuteTime": {
     "end_time": "2019-05-30T03:42:16.863035Z",
     "start_time": "2019-05-30T03:42:16.857833Z"
    }
   },
   "outputs": [],
   "source": [
    "def plot_policy(policy):\n",
    "    \"\"\"\n",
    "    Realiza un grafico en 3 dimensiones de la función valor.\n",
    "    \n",
    "    El parametro policy es un diccionario cuyas keys son pares \"caras en mi mano\" \n",
    "    y \"apuesta actual\" y el valor es la acción a realizar.\n",
    "    \"\"\"\n",
    "    def get_Z(x, y):\n",
    "        if (x,y) in policy:\n",
    "            return policy[x,y]\n",
    "        else:\n",
    "            return 25 # este valor \"25\" es para visualizar que la policy no tiene asignada una acción para dicho estado.\n",
    "\n",
    "    def get_figure( ax):\n",
    "        x_range = np.arange(0, 6)\n",
    "        y_range = np.arange(0, 11)\n",
    "        X, Y = np.meshgrid(x_range, y_range)\n",
    "        Z = np.array([[get_Z(x,y) for x in x_range] for y in y_range])\n",
    "        surf = ax.imshow(np.flip(Z,0), cmap=plt.get_cmap('Pastel2', 3), vmin=0, vmax=2, extent=[-0.5, 5.5, -0.5, 10.5])\n",
    "        plt.xticks(x_range)\n",
    "        plt.yticks(y_range)\n",
    "        plt.gca().invert_yaxis()\n",
    "        ax.set_xlabel('caras en mi mano')\n",
    "        ax.set_ylabel('apuestas')\n",
    "        ax.grid(color='w', linestyle='-', linewidth=1)\n",
    "        divider = make_axes_locatable(ax)\n",
    "        cax = divider.append_axes(\"right\", size=\"5%\", pad=0.1)\n",
    "        cbar = plt.colorbar(surf, ticks=[0,1,2], cax=cax)\n",
    "        cbar.ax.set_yticklabels(['0 (pasar)','1 (subir)', 'desconocido'])\n",
    "        print(Z)\n",
    "            \n",
    "    fig = plt.figure(figsize=(5, 5))\n",
    "    ax = fig.add_subplot(111)\n",
    "    get_figure(ax)\n",
    "    plt.show()"
   ]
  },
  {
   "cell_type": "markdown",
   "metadata": {},
   "source": [
    "## Monte Carlo"
   ]
  },
  {
   "cell_type": "code",
   "execution_count": 362,
   "metadata": {
    "ExecuteTime": {
     "end_time": "2019-05-30T03:42:17.116679Z",
     "start_time": "2019-05-30T03:42:17.111440Z"
    },
    "code_folding": [],
    "run_control": {
     "marked": true
    }
   },
   "outputs": [],
   "source": [
    "# Filling these ones was freaking fun!\n",
    "\n",
    "def get_probs(Q_s, epsilon, nA): \n",
    "    # Completar\n",
    "    # policy:   {(s,s): (r_a1, r_a2)}\n",
    "    # policy_s: [r_a1, r_a2]\n",
    "    policy_s = np.zeros(nA)\n",
    "    A_star = randomArgmax(Q_s)\n",
    "    actions = np.arange(nA)\n",
    "    for a in actions:\n",
    "        if a == A_star:\n",
    "            policy_s[a] = 1-epsilon + epsilon/nA\n",
    "        else:\n",
    "            policy_s[a] = epsilon/nA\n",
    "    \n",
    "#     if np.random.choice([1,0], p=[1-epsilon, epsilon]):\n",
    "#         # Returning policy from Q\n",
    "#         policy_s = Q_s\n",
    "#     else:\n",
    "#         # Returning random policy\n",
    "#         policy_s = np.ones(len(Q_s))/nA\n",
    "    return policy_s\n",
    "  \n",
    "def generate_episode_from_Q(env, Q, epsilon, nA):\n",
    "    # Completar\n",
    "    #episode = {(s,a):r}\n",
    "    episode = {}\n",
    "    state = env.reset()\n",
    "    actions = np.arange(nA)\n",
    "    while True:\n",
    "        action = np.random.choice(actions, p=get_probs(Q[state], epsilon, nA))\n",
    "        state, reward, done, info = env.step(action) # Juega un paso\n",
    "        \n",
    "        if (state, action) not in episode:\n",
    "            # First Visit MC.\n",
    "            episode[(state, action)] = reward\n",
    "        #print(state, action)\n",
    "        if done:\n",
    "#             print('El juego ha terminado! Su reward: ', reward)\n",
    "#             print('Ganaste :)\\n') if reward > 0 else print('Perdiste :(\\n')\n",
    "            break\n",
    "    return episode\n",
    "\n",
    "\n",
    "def update_Q(env, episode, Q, alpha, gamma):\n",
    "    # Completar\n",
    "    nA=2\n",
    "    Returns = {}\n",
    "    Returns = initialize_Returns(Returns, (0), nA)\n",
    "    # Mete en returns los valores de episode\n",
    "    #{ k: Returns.get(k, 0) + Q.get(k, 0) for k in set(Returns) | set(Q) }\n",
    "    #\n",
    "    for (key) in episode:\n",
    "        # Adding episode first values to list of past Returns\n",
    "        np.append(Returns[key], episode[key])\n",
    "        # Now Q(s,a) takes the mean of Returns(s,a)\n",
    "        Q[key] = np.mean(Returns[key])\n",
    "    #print(\"Returns: \",Returns)\n",
    "    #print(\"Q: \", Q)\n",
    "    \n",
    "    return Q"
   ]
  },
  {
   "cell_type": "code",
   "execution_count": 363,
   "metadata": {
    "ExecuteTime": {
     "end_time": "2019-05-30T03:42:17.264867Z",
     "start_time": "2019-05-30T03:42:17.261799Z"
    }
   },
   "outputs": [
    {
     "data": {
      "text/plain": [
       "{'a': 1, 'b': 2, 'c': 3}"
      ]
     },
     "execution_count": 363,
     "metadata": {},
     "output_type": "execute_result"
    }
   ],
   "source": [
    "D = {'a':1, 'b':2, 'c':3}\n",
    "D\n"
   ]
  },
  {
   "cell_type": "code",
   "execution_count": 364,
   "metadata": {
    "ExecuteTime": {
     "end_time": "2019-05-30T03:42:17.401762Z",
     "start_time": "2019-05-30T03:42:17.399207Z"
    }
   },
   "outputs": [
    {
     "name": "stdout",
     "output_type": "stream",
     "text": [
      "Tuple(Discrete(5), Discrete(10))\n",
      "Discrete(2)\n"
     ]
    }
   ],
   "source": [
    "print(env.observation_space)\n",
    "print(env.action_space)"
   ]
  },
  {
   "cell_type": "code",
   "execution_count": 365,
   "metadata": {
    "ExecuteTime": {
     "end_time": "2019-05-30T03:42:17.867257Z",
     "start_time": "2019-05-30T03:42:17.864274Z"
    }
   },
   "outputs": [
    {
     "data": {
      "text/plain": [
       "3"
      ]
     },
     "execution_count": 365,
     "metadata": {},
     "output_type": "execute_result"
    }
   ],
   "source": [
    "randomArgmax((1,2,3,4,4,4))"
   ]
  },
  {
   "cell_type": "code",
   "execution_count": 366,
   "metadata": {
    "ExecuteTime": {
     "end_time": "2019-05-30T03:42:18.123573Z",
     "start_time": "2019-05-30T03:42:18.119959Z"
    }
   },
   "outputs": [],
   "source": [
    "def randomArgmax(v):\n",
    "    \"\"\"Like np.argmax(), but if there are several \"best\" actions,\n",
    "       chooses and returns one randomly\"\"\"\n",
    "    arguments = np.argwhere(v == np.amax(v)).ravel()\n",
    "    arg = np.random.choice(arguments)\n",
    "    return arg\n",
    "\n",
    "def softmax_vect(v):\n",
    "    \"\"\"Returns a vector with all softmax values\"\"\"\n",
    "    exp_vect = np.exp(v)\n",
    "    return exp_vect/np.sum(exp_vect)"
   ]
  },
  {
   "cell_type": "code",
   "execution_count": 367,
   "metadata": {
    "ExecuteTime": {
     "end_time": "2019-05-30T03:42:18.480757Z",
     "start_time": "2019-05-30T03:42:18.478121Z"
    }
   },
   "outputs": [],
   "source": [
    "def initialize_QPol_est(D, default_value, nA):\n",
    "    # states: (c, a) \n",
    "    #           for all c in [0,5]\n",
    "    #           for all a in [0,10]\n",
    "    # actions: (v0, v1) < (0.5, 0.5)\n",
    "    # Q = {(c,a):(v0,v1),...,(d,b):(v0,v1)}\n",
    "    #armo todos los posibles indices, tal vez despues no haga falta\n",
    "    states = np.array(np.meshgrid(np.arange(0, 6 ), np.arange(0, 11))).T.reshape(-1,2)\n",
    "    keystates = tuple(map(tuple, states))\n",
    "    return dict.fromkeys(keystates, default_value)"
   ]
  },
  {
   "cell_type": "code",
   "execution_count": 368,
   "metadata": {
    "ExecuteTime": {
     "end_time": "2019-05-30T03:42:18.854564Z",
     "start_time": "2019-05-30T03:42:18.851802Z"
    }
   },
   "outputs": [],
   "source": [
    "def initialize_Returns(D, default_value, nA):\n",
    "    # Returns = {((s,s),a):(v0,v1,v2, ... ,((d,b),a):(v0)}\n",
    "    #armo todos los posibles indices, tal vez despues no haga falta\n",
    "    states = np.array(np.meshgrid(np.arange(0, 6 ), np.arange(0, 11))).T.reshape(-1,2)\n",
    "    actions = np.arange(nA)\n",
    "    keysD = ()\n",
    "    for a in range(nA):\n",
    "        keysD += tuple(map(lambda s: (tuple(s), a), states))\n",
    "    return dict.fromkeys(keysD, default_value)"
   ]
  },
  {
   "cell_type": "code",
   "execution_count": 369,
   "metadata": {
    "ExecuteTime": {
     "end_time": "2019-05-30T03:42:19.111951Z",
     "start_time": "2019-05-30T03:42:19.105714Z"
    }
   },
   "outputs": [],
   "source": [
    "def mc_control(env, num_episodes, alpha, gamma=1.0, eps_start=1.0, eps_decay=.99999, eps_min=0.05):\n",
    "    # Completar\n",
    "    \"\"\"\n",
    "    Q es un diccionario cuyas keys son pares \n",
    "    <\"caras en mi mano\" y \"apuesta actual\"> (state) \n",
    "    <y el valor de CADA acción ha realizar >(action-value)\n",
    "    Q{(st, ate): (val, ue)}\n",
    "    \"\"\"\n",
    "    nA = 2\n",
    "    Q = {}\n",
    "    policy = {}\n",
    "    # se podra hacer sin inicializar Q para TODO s,a?\n",
    "    Q=initialize_QPol_est(Q, tuple(np.ones(nA)-1), nA)\n",
    "    policy = initialize_QPol_est(policy, tuple(np.ones(nA)/nA), nA)\n",
    "    \n",
    "    for iteration in range(num_episodes):\n",
    "        epsilon = eps_start\n",
    "        episode = generate_episode_from_Q(env, Q, epsilon, nA)\n",
    "        #print(\"episode: \", episode)\n",
    "\n",
    "        Q = update_Q(env, episode, Q, alpha, gamma)\n",
    "\n",
    "        for (state, action) in episode:\n",
    "            policy[state] += get_probs(Q[state], epsilon, nA)\n",
    "    \n",
    "    return policy, Q"
   ]
  },
  {
   "cell_type": "markdown",
   "metadata": {},
   "source": [
    "<img src=\"./img/on-policy-first-visit-mc-control.png\" width=\"500\" align=\"left\" />"
   ]
  },
  {
   "cell_type": "code",
   "execution_count": 370,
   "metadata": {
    "ExecuteTime": {
     "end_time": "2019-05-30T03:46:35.397409Z",
     "start_time": "2019-05-30T03:42:19.522526Z"
    }
   },
   "outputs": [
    {
     "data": {
      "image/png": "[encoded data removed]",
      "text/plain": [
       "<Figure size 1440x1440 with 1 Axes>"
      ]
     },
     "metadata": {
      "needs_background": "light"
     },
     "output_type": "display_data"
    }
   ],
   "source": [
    "# Calcular la politica optima y el value function\n",
    "policy, Q = mc_control(env, 500000, 0.015)\n",
    "V = dict((k, np.max(v)) for k, v in Q.items())\n",
    "plot_values(V)"
   ]
  },
  {
   "cell_type": "code",
   "execution_count": 374,
   "metadata": {
    "ExecuteTime": {
     "end_time": "2019-05-30T03:48:10.026592Z",
     "start_time": "2019-05-30T03:48:09.892858Z"
    }
   },
   "outputs": [
    {
     "ename": "TypeError",
     "evalue": "Invalid dimensions for image data",
     "output_type": "error",
     "traceback": [
      "\u001b[0;31m---------------------------------------------------------------------------\u001b[0m",
      "\u001b[0;31mTypeError\u001b[0m                                 Traceback (most recent call last)",
      "\u001b[0;32m<ipython-input-374-188dc17895a7>\u001b[0m in \u001b[0;36m<module>\u001b[0;34m()\u001b[0m\n\u001b[1;32m      1\u001b[0m \u001b[0;31m# plotear la politica\u001b[0m\u001b[0;34m\u001b[0m\u001b[0;34m\u001b[0m\u001b[0;34m\u001b[0m\u001b[0m\n\u001b[0;32m----> 2\u001b[0;31m \u001b[0mplot_policy\u001b[0m\u001b[0;34m(\u001b[0m\u001b[0mpolicy\u001b[0m\u001b[0;34m)\u001b[0m\u001b[0;34m\u001b[0m\u001b[0;34m\u001b[0m\u001b[0m\n\u001b[0m",
      "\u001b[0;32m<ipython-input-361-cd168184265b>\u001b[0m in \u001b[0;36mplot_policy\u001b[0;34m(policy)\u001b[0m\n\u001b[1;32m     32\u001b[0m     \u001b[0mfig\u001b[0m \u001b[0;34m=\u001b[0m \u001b[0mplt\u001b[0m\u001b[0;34m.\u001b[0m\u001b[0mfigure\u001b[0m\u001b[0;34m(\u001b[0m\u001b[0mfigsize\u001b[0m\u001b[0;34m=\u001b[0m\u001b[0;34m(\u001b[0m\u001b[0;36m5\u001b[0m\u001b[0;34m,\u001b[0m \u001b[0;36m5\u001b[0m\u001b[0;34m)\u001b[0m\u001b[0;34m)\u001b[0m\u001b[0;34m\u001b[0m\u001b[0;34m\u001b[0m\u001b[0m\n\u001b[1;32m     33\u001b[0m     \u001b[0max\u001b[0m \u001b[0;34m=\u001b[0m \u001b[0mfig\u001b[0m\u001b[0;34m.\u001b[0m\u001b[0madd_subplot\u001b[0m\u001b[0;34m(\u001b[0m\u001b[0;36m111\u001b[0m\u001b[0;34m)\u001b[0m\u001b[0;34m\u001b[0m\u001b[0;34m\u001b[0m\u001b[0m\n\u001b[0;32m---> 34\u001b[0;31m     \u001b[0mget_figure\u001b[0m\u001b[0;34m(\u001b[0m\u001b[0max\u001b[0m\u001b[0;34m)\u001b[0m\u001b[0;34m\u001b[0m\u001b[0;34m\u001b[0m\u001b[0m\n\u001b[0m\u001b[1;32m     35\u001b[0m     \u001b[0mplt\u001b[0m\u001b[0;34m.\u001b[0m\u001b[0mshow\u001b[0m\u001b[0;34m(\u001b[0m\u001b[0;34m)\u001b[0m\u001b[0;34m\u001b[0m\u001b[0;34m\u001b[0m\u001b[0m\n",
      "\u001b[0;32m<ipython-input-361-cd168184265b>\u001b[0m in \u001b[0;36mget_figure\u001b[0;34m(ax)\u001b[0m\n\u001b[1;32m     17\u001b[0m         \u001b[0mX\u001b[0m\u001b[0;34m,\u001b[0m \u001b[0mY\u001b[0m \u001b[0;34m=\u001b[0m \u001b[0mnp\u001b[0m\u001b[0;34m.\u001b[0m\u001b[0mmeshgrid\u001b[0m\u001b[0;34m(\u001b[0m\u001b[0mx_range\u001b[0m\u001b[0;34m,\u001b[0m \u001b[0my_range\u001b[0m\u001b[0;34m)\u001b[0m\u001b[0;34m\u001b[0m\u001b[0;34m\u001b[0m\u001b[0m\n\u001b[1;32m     18\u001b[0m         \u001b[0mZ\u001b[0m \u001b[0;34m=\u001b[0m \u001b[0mnp\u001b[0m\u001b[0;34m.\u001b[0m\u001b[0marray\u001b[0m\u001b[0;34m(\u001b[0m\u001b[0;34m[\u001b[0m\u001b[0;34m[\u001b[0m\u001b[0mget_Z\u001b[0m\u001b[0;34m(\u001b[0m\u001b[0mx\u001b[0m\u001b[0;34m,\u001b[0m\u001b[0my\u001b[0m\u001b[0;34m)\u001b[0m \u001b[0;32mfor\u001b[0m \u001b[0mx\u001b[0m \u001b[0;32min\u001b[0m \u001b[0mx_range\u001b[0m\u001b[0;34m]\u001b[0m \u001b[0;32mfor\u001b[0m \u001b[0my\u001b[0m \u001b[0;32min\u001b[0m \u001b[0my_range\u001b[0m\u001b[0;34m]\u001b[0m\u001b[0;34m)\u001b[0m\u001b[0;34m\u001b[0m\u001b[0;34m\u001b[0m\u001b[0m\n\u001b[0;32m---> 19\u001b[0;31m         \u001b[0msurf\u001b[0m \u001b[0;34m=\u001b[0m \u001b[0max\u001b[0m\u001b[0;34m.\u001b[0m\u001b[0mimshow\u001b[0m\u001b[0;34m(\u001b[0m\u001b[0mnp\u001b[0m\u001b[0;34m.\u001b[0m\u001b[0mflip\u001b[0m\u001b[0;34m(\u001b[0m\u001b[0mZ\u001b[0m\u001b[0;34m,\u001b[0m\u001b[0;36m0\u001b[0m\u001b[0;34m)\u001b[0m\u001b[0;34m,\u001b[0m \u001b[0mcmap\u001b[0m\u001b[0;34m=\u001b[0m\u001b[0mplt\u001b[0m\u001b[0;34m.\u001b[0m\u001b[0mget_cmap\u001b[0m\u001b[0;34m(\u001b[0m\u001b[0;34m'Pastel2'\u001b[0m\u001b[0;34m,\u001b[0m \u001b[0;36m3\u001b[0m\u001b[0;34m)\u001b[0m\u001b[0;34m,\u001b[0m \u001b[0mvmin\u001b[0m\u001b[0;34m=\u001b[0m\u001b[0;36m0\u001b[0m\u001b[0;34m,\u001b[0m \u001b[0mvmax\u001b[0m\u001b[0;34m=\u001b[0m\u001b[0;36m2\u001b[0m\u001b[0;34m,\u001b[0m \u001b[0mextent\u001b[0m\u001b[0;34m=\u001b[0m\u001b[0;34m[\u001b[0m\u001b[0;34m-\u001b[0m\u001b[0;36m0.5\u001b[0m\u001b[0;34m,\u001b[0m \u001b[0;36m5.5\u001b[0m\u001b[0;34m,\u001b[0m \u001b[0;34m-\u001b[0m\u001b[0;36m0.5\u001b[0m\u001b[0;34m,\u001b[0m \u001b[0;36m10.5\u001b[0m\u001b[0;34m]\u001b[0m\u001b[0;34m)\u001b[0m\u001b[0;34m\u001b[0m\u001b[0;34m\u001b[0m\u001b[0m\n\u001b[0m\u001b[1;32m     20\u001b[0m         \u001b[0mplt\u001b[0m\u001b[0;34m.\u001b[0m\u001b[0mxticks\u001b[0m\u001b[0;34m(\u001b[0m\u001b[0mx_range\u001b[0m\u001b[0;34m)\u001b[0m\u001b[0;34m\u001b[0m\u001b[0;34m\u001b[0m\u001b[0m\n\u001b[1;32m     21\u001b[0m         \u001b[0mplt\u001b[0m\u001b[0;34m.\u001b[0m\u001b[0myticks\u001b[0m\u001b[0;34m(\u001b[0m\u001b[0my_range\u001b[0m\u001b[0;34m)\u001b[0m\u001b[0;34m\u001b[0m\u001b[0;34m\u001b[0m\u001b[0m\n",
      "\u001b[0;32m~/anaconda3/lib/python3.7/site-packages/matplotlib/__init__.py\u001b[0m in \u001b[0;36minner\u001b[0;34m(ax, data, *args, **kwargs)\u001b[0m\n\u001b[1;32m   1803\u001b[0m                         \u001b[0;34m\"the Matplotlib list!)\"\u001b[0m \u001b[0;34m%\u001b[0m \u001b[0;34m(\u001b[0m\u001b[0mlabel_namer\u001b[0m\u001b[0;34m,\u001b[0m \u001b[0mfunc\u001b[0m\u001b[0;34m.\u001b[0m\u001b[0m__name__\u001b[0m\u001b[0;34m)\u001b[0m\u001b[0;34m,\u001b[0m\u001b[0;34m\u001b[0m\u001b[0;34m\u001b[0m\u001b[0m\n\u001b[1;32m   1804\u001b[0m                         RuntimeWarning, stacklevel=2)\n\u001b[0;32m-> 1805\u001b[0;31m             \u001b[0;32mreturn\u001b[0m \u001b[0mfunc\u001b[0m\u001b[0;34m(\u001b[0m\u001b[0max\u001b[0m\u001b[0;34m,\u001b[0m \u001b[0;34m*\u001b[0m\u001b[0margs\u001b[0m\u001b[0;34m,\u001b[0m \u001b[0;34m**\u001b[0m\u001b[0mkwargs\u001b[0m\u001b[0;34m)\u001b[0m\u001b[0;34m\u001b[0m\u001b[0;34m\u001b[0m\u001b[0m\n\u001b[0m\u001b[1;32m   1806\u001b[0m \u001b[0;34m\u001b[0m\u001b[0m\n\u001b[1;32m   1807\u001b[0m         inner.__doc__ = _add_data_doc(inner.__doc__,\n",
      "\u001b[0;32m~/anaconda3/lib/python3.7/site-packages/matplotlib/axes/_axes.py\u001b[0m in \u001b[0;36mimshow\u001b[0;34m(self, X, cmap, norm, aspect, interpolation, alpha, vmin, vmax, origin, extent, shape, filternorm, filterrad, imlim, resample, url, **kwargs)\u001b[0m\n\u001b[1;32m   5481\u001b[0m                               resample=resample, **kwargs)\n\u001b[1;32m   5482\u001b[0m \u001b[0;34m\u001b[0m\u001b[0m\n\u001b[0;32m-> 5483\u001b[0;31m         \u001b[0mim\u001b[0m\u001b[0;34m.\u001b[0m\u001b[0mset_data\u001b[0m\u001b[0;34m(\u001b[0m\u001b[0mX\u001b[0m\u001b[0;34m)\u001b[0m\u001b[0;34m\u001b[0m\u001b[0;34m\u001b[0m\u001b[0m\n\u001b[0m\u001b[1;32m   5484\u001b[0m         \u001b[0mim\u001b[0m\u001b[0;34m.\u001b[0m\u001b[0mset_alpha\u001b[0m\u001b[0;34m(\u001b[0m\u001b[0malpha\u001b[0m\u001b[0;34m)\u001b[0m\u001b[0;34m\u001b[0m\u001b[0;34m\u001b[0m\u001b[0m\n\u001b[1;32m   5485\u001b[0m         \u001b[0;32mif\u001b[0m \u001b[0mim\u001b[0m\u001b[0;34m.\u001b[0m\u001b[0mget_clip_path\u001b[0m\u001b[0;34m(\u001b[0m\u001b[0;34m)\u001b[0m \u001b[0;32mis\u001b[0m \u001b[0;32mNone\u001b[0m\u001b[0;34m:\u001b[0m\u001b[0;34m\u001b[0m\u001b[0;34m\u001b[0m\u001b[0m\n",
      "\u001b[0;32m~/anaconda3/lib/python3.7/site-packages/matplotlib/image.py\u001b[0m in \u001b[0;36mset_data\u001b[0;34m(self, A)\u001b[0m\n\u001b[1;32m    644\u001b[0m         if not (self._A.ndim == 2\n\u001b[1;32m    645\u001b[0m                 or self._A.ndim == 3 and self._A.shape[-1] in [3, 4]):\n\u001b[0;32m--> 646\u001b[0;31m             \u001b[0;32mraise\u001b[0m \u001b[0mTypeError\u001b[0m\u001b[0;34m(\u001b[0m\u001b[0;34m\"Invalid dimensions for image data\"\u001b[0m\u001b[0;34m)\u001b[0m\u001b[0;34m\u001b[0m\u001b[0;34m\u001b[0m\u001b[0m\n\u001b[0m\u001b[1;32m    647\u001b[0m \u001b[0;34m\u001b[0m\u001b[0m\n\u001b[1;32m    648\u001b[0m         \u001b[0;32mif\u001b[0m \u001b[0mself\u001b[0m\u001b[0;34m.\u001b[0m\u001b[0m_A\u001b[0m\u001b[0;34m.\u001b[0m\u001b[0mndim\u001b[0m \u001b[0;34m==\u001b[0m \u001b[0;36m3\u001b[0m\u001b[0;34m:\u001b[0m\u001b[0;34m\u001b[0m\u001b[0;34m\u001b[0m\u001b[0m\n",
      "\u001b[0;31mTypeError\u001b[0m: Invalid dimensions for image data"
     ]
    },
    {
     "data": {
      "image/png": "[encoded data removed]",
      "text/plain": [
       "<Figure size 360x360 with 1 Axes>"
      ]
     },
     "metadata": {
      "needs_background": "light"
     },
     "output_type": "display_data"
    }
   ],
   "source": [
    "# plotear la politica\n",
    "plot_policy(policy)\n",
    "# Para Q y policy use diccionarios y una tupla del otro lado\n",
    "# TODO: Cambiar la tupla por el valor de la accion que toma, al menos para policy, para Q NO"
   ]
  },
  {
   "cell_type": "markdown",
   "metadata": {},
   "source": [
    "## SARSA"
   ]
  },
  {
   "cell_type": "code",
   "execution_count": 12,
   "metadata": {},
   "outputs": [
    {
     "ename": "IndentationError",
     "evalue": "expected an indented block (<ipython-input-12-8e1d0f36ecc6>, line 4)",
     "output_type": "error",
     "traceback": [
      "\u001b[0;36m  File \u001b[0;32m\"<ipython-input-12-8e1d0f36ecc6>\"\u001b[0;36m, line \u001b[0;32m4\u001b[0m\n\u001b[0;31m    def epsilon_greedy(Q, state, nA, eps):\u001b[0m\n\u001b[0m      ^\u001b[0m\n\u001b[0;31mIndentationError\u001b[0m\u001b[0;31m:\u001b[0m expected an indented block\n"
     ]
    }
   ],
   "source": [
    "def update_Q_sarsa(alpha, gamma, Q, state, action, reward, next_state=None, next_action=None):\n",
    "    # Completar\n",
    "    \n",
    "def epsilon_greedy(Q, state, nA, eps):\n",
    "    # Completar"
   ]
  },
  {
   "cell_type": "code",
   "execution_count": 13,
   "metadata": {},
   "outputs": [],
   "source": [
    "def sarsa(env, num_episodes, alpha, gamma=1.0, epsmin=0.01):\n",
    "    # Completar\n",
    "    return Q"
   ]
  },
  {
   "cell_type": "code",
   "execution_count": 14,
   "metadata": {},
   "outputs": [
    {
     "ename": "NameError",
     "evalue": "name 'Q' is not defined",
     "output_type": "error",
     "traceback": [
      "\u001b[0;31m---------------------------------------------------------------------------\u001b[0m",
      "\u001b[0;31mNameError\u001b[0m                                 Traceback (most recent call last)",
      "\u001b[0;32m<ipython-input-14-c74054673a15>\u001b[0m in \u001b[0;36m<module>\u001b[0;34m()\u001b[0m\n\u001b[1;32m      1\u001b[0m \u001b[0;31m# Calcular la politica optima y el value function\u001b[0m\u001b[0;34m\u001b[0m\u001b[0;34m\u001b[0m\u001b[0;34m\u001b[0m\u001b[0m\n\u001b[0;32m----> 2\u001b[0;31m \u001b[0mQ_sarsa\u001b[0m \u001b[0;34m=\u001b[0m \u001b[0msarsa\u001b[0m\u001b[0;34m(\u001b[0m\u001b[0menv\u001b[0m\u001b[0;34m,\u001b[0m \u001b[0;36m500000\u001b[0m\u001b[0;34m,\u001b[0m \u001b[0;36m0.009\u001b[0m\u001b[0;34m)\u001b[0m\u001b[0;34m\u001b[0m\u001b[0;34m\u001b[0m\u001b[0m\n\u001b[0m\u001b[1;32m      3\u001b[0m \u001b[0mV\u001b[0m \u001b[0;34m=\u001b[0m \u001b[0mdict\u001b[0m\u001b[0;34m(\u001b[0m\u001b[0;34m(\u001b[0m\u001b[0mk\u001b[0m\u001b[0;34m,\u001b[0m\u001b[0mnp\u001b[0m\u001b[0;34m.\u001b[0m\u001b[0mmax\u001b[0m\u001b[0;34m(\u001b[0m\u001b[0mv\u001b[0m\u001b[0;34m)\u001b[0m\u001b[0;34m)\u001b[0m \u001b[0;32mfor\u001b[0m \u001b[0mk\u001b[0m\u001b[0;34m,\u001b[0m \u001b[0mv\u001b[0m \u001b[0;32min\u001b[0m \u001b[0mQ_sarsa\u001b[0m\u001b[0;34m.\u001b[0m\u001b[0mitems\u001b[0m\u001b[0;34m(\u001b[0m\u001b[0;34m)\u001b[0m\u001b[0;34m)\u001b[0m\u001b[0;34m\u001b[0m\u001b[0;34m\u001b[0m\u001b[0m\n\u001b[1;32m      4\u001b[0m \u001b[0mplot_values\u001b[0m\u001b[0;34m(\u001b[0m\u001b[0mV\u001b[0m\u001b[0;34m)\u001b[0m\u001b[0;34m\u001b[0m\u001b[0;34m\u001b[0m\u001b[0m\n",
      "\u001b[0;32m<ipython-input-13-13e537c11bf6>\u001b[0m in \u001b[0;36msarsa\u001b[0;34m(env, num_episodes, alpha, gamma, epsmin)\u001b[0m\n\u001b[1;32m      1\u001b[0m \u001b[0;32mdef\u001b[0m \u001b[0msarsa\u001b[0m\u001b[0;34m(\u001b[0m\u001b[0menv\u001b[0m\u001b[0;34m,\u001b[0m \u001b[0mnum_episodes\u001b[0m\u001b[0;34m,\u001b[0m \u001b[0malpha\u001b[0m\u001b[0;34m,\u001b[0m \u001b[0mgamma\u001b[0m\u001b[0;34m=\u001b[0m\u001b[0;36m1.0\u001b[0m\u001b[0;34m,\u001b[0m \u001b[0mepsmin\u001b[0m\u001b[0;34m=\u001b[0m\u001b[0;36m0.01\u001b[0m\u001b[0;34m)\u001b[0m\u001b[0;34m:\u001b[0m\u001b[0;34m\u001b[0m\u001b[0;34m\u001b[0m\u001b[0m\n\u001b[1;32m      2\u001b[0m     \u001b[0;31m# Completar\u001b[0m\u001b[0;34m\u001b[0m\u001b[0;34m\u001b[0m\u001b[0;34m\u001b[0m\u001b[0m\n\u001b[0;32m----> 3\u001b[0;31m     \u001b[0;32mreturn\u001b[0m \u001b[0mQ\u001b[0m\u001b[0;34m\u001b[0m\u001b[0;34m\u001b[0m\u001b[0m\n\u001b[0m",
      "\u001b[0;31mNameError\u001b[0m: name 'Q' is not defined"
     ]
    }
   ],
   "source": [
    "# Calcular la politica optima y el value function\n",
    "Q_sarsa = sarsa(env, 500000, 0.009)\n",
    "V = dict((k,np.max(v)) for k, v in Q_sarsa.items())\n",
    "plot_values(V)"
   ]
  },
  {
   "cell_type": "code",
   "execution_count": 15,
   "metadata": {},
   "outputs": [
    {
     "ename": "NameError",
     "evalue": "name 'Q_sarsa' is not defined",
     "output_type": "error",
     "traceback": [
      "\u001b[0;31m---------------------------------------------------------------------------\u001b[0m",
      "\u001b[0;31mNameError\u001b[0m                                 Traceback (most recent call last)",
      "\u001b[0;32m<ipython-input-15-8835c2424f77>\u001b[0m in \u001b[0;36m<module>\u001b[0;34m()\u001b[0m\n\u001b[1;32m      1\u001b[0m \u001b[0;31m# plotear la politica\u001b[0m\u001b[0;34m\u001b[0m\u001b[0;34m\u001b[0m\u001b[0;34m\u001b[0m\u001b[0m\n\u001b[0;32m----> 2\u001b[0;31m \u001b[0mpolicy_sarsa\u001b[0m \u001b[0;34m=\u001b[0m \u001b[0mdict\u001b[0m\u001b[0;34m(\u001b[0m\u001b[0;34m(\u001b[0m\u001b[0mk\u001b[0m\u001b[0;34m,\u001b[0m\u001b[0mnp\u001b[0m\u001b[0;34m.\u001b[0m\u001b[0margmax\u001b[0m\u001b[0;34m(\u001b[0m\u001b[0mv\u001b[0m\u001b[0;34m)\u001b[0m\u001b[0;34m)\u001b[0m \u001b[0;32mfor\u001b[0m \u001b[0mk\u001b[0m\u001b[0;34m,\u001b[0m \u001b[0mv\u001b[0m \u001b[0;32min\u001b[0m \u001b[0mQ_sarsa\u001b[0m\u001b[0;34m.\u001b[0m\u001b[0mitems\u001b[0m\u001b[0;34m(\u001b[0m\u001b[0;34m)\u001b[0m\u001b[0;34m)\u001b[0m\u001b[0;34m\u001b[0m\u001b[0;34m\u001b[0m\u001b[0m\n\u001b[0m\u001b[1;32m      3\u001b[0m \u001b[0mplot_policy\u001b[0m\u001b[0;34m(\u001b[0m\u001b[0mpolicy_sarsa\u001b[0m\u001b[0;34m)\u001b[0m\u001b[0;34m\u001b[0m\u001b[0;34m\u001b[0m\u001b[0m\n",
      "\u001b[0;31mNameError\u001b[0m: name 'Q_sarsa' is not defined"
     ]
    }
   ],
   "source": [
    "# plotear la politica\n",
    "policy_sarsa = dict((k,np.argmax(v)) for k, v in Q_sarsa.items())\n",
    "plot_policy(policy_sarsa)"
   ]
  },
  {
   "cell_type": "markdown",
   "metadata": {},
   "source": [
    "## Q-learning"
   ]
  },
  {
   "cell_type": "code",
   "execution_count": 16,
   "metadata": {},
   "outputs": [],
   "source": [
    "def update_Q_sarsamax(alpha, gamma, Q, state, action, reward, next_state=None):\n",
    "    # Completar\n",
    "    return new_value"
   ]
  },
  {
   "cell_type": "code",
   "execution_count": 17,
   "metadata": {},
   "outputs": [],
   "source": [
    "def q_learning(env, num_episodes, alpha, gamma=1.0,epsmin=0.01):\n",
    "    # Completar\n",
    "    return Q"
   ]
  },
  {
   "cell_type": "code",
   "execution_count": 18,
   "metadata": {},
   "outputs": [
    {
     "ename": "NameError",
     "evalue": "name 'Q' is not defined",
     "output_type": "error",
     "traceback": [
      "\u001b[0;31m---------------------------------------------------------------------------\u001b[0m",
      "\u001b[0;31mNameError\u001b[0m                                 Traceback (most recent call last)",
      "\u001b[0;32m<ipython-input-18-870676654ced>\u001b[0m in \u001b[0;36m<module>\u001b[0;34m()\u001b[0m\n\u001b[1;32m      1\u001b[0m \u001b[0;31m# Calcular la politica optima y el value function\u001b[0m\u001b[0;34m\u001b[0m\u001b[0;34m\u001b[0m\u001b[0;34m\u001b[0m\u001b[0m\n\u001b[0;32m----> 2\u001b[0;31m \u001b[0mQ_sarsamax\u001b[0m \u001b[0;34m=\u001b[0m \u001b[0mq_learning\u001b[0m\u001b[0;34m(\u001b[0m\u001b[0menv\u001b[0m\u001b[0;34m,\u001b[0m \u001b[0;36m500000\u001b[0m\u001b[0;34m,\u001b[0m \u001b[0;36m0.01\u001b[0m\u001b[0;34m)\u001b[0m\u001b[0;34m\u001b[0m\u001b[0;34m\u001b[0m\u001b[0m\n\u001b[0m\u001b[1;32m      3\u001b[0m \u001b[0mV\u001b[0m \u001b[0;34m=\u001b[0m \u001b[0mdict\u001b[0m\u001b[0;34m(\u001b[0m\u001b[0;34m(\u001b[0m\u001b[0mk\u001b[0m\u001b[0;34m,\u001b[0m\u001b[0mnp\u001b[0m\u001b[0;34m.\u001b[0m\u001b[0mmax\u001b[0m\u001b[0;34m(\u001b[0m\u001b[0mv\u001b[0m\u001b[0;34m)\u001b[0m\u001b[0;34m)\u001b[0m \u001b[0;32mfor\u001b[0m \u001b[0mk\u001b[0m\u001b[0;34m,\u001b[0m \u001b[0mv\u001b[0m \u001b[0;32min\u001b[0m \u001b[0mQ_sarsamax\u001b[0m\u001b[0;34m.\u001b[0m\u001b[0mitems\u001b[0m\u001b[0;34m(\u001b[0m\u001b[0;34m)\u001b[0m\u001b[0;34m)\u001b[0m\u001b[0;34m\u001b[0m\u001b[0;34m\u001b[0m\u001b[0m\n\u001b[1;32m      4\u001b[0m \u001b[0mplot_values\u001b[0m\u001b[0;34m(\u001b[0m\u001b[0mV\u001b[0m\u001b[0;34m)\u001b[0m\u001b[0;34m\u001b[0m\u001b[0;34m\u001b[0m\u001b[0m\n",
      "\u001b[0;32m<ipython-input-17-accdbba01cad>\u001b[0m in \u001b[0;36mq_learning\u001b[0;34m(env, num_episodes, alpha, gamma, epsmin)\u001b[0m\n\u001b[1;32m      1\u001b[0m \u001b[0;32mdef\u001b[0m \u001b[0mq_learning\u001b[0m\u001b[0;34m(\u001b[0m\u001b[0menv\u001b[0m\u001b[0;34m,\u001b[0m \u001b[0mnum_episodes\u001b[0m\u001b[0;34m,\u001b[0m \u001b[0malpha\u001b[0m\u001b[0;34m,\u001b[0m \u001b[0mgamma\u001b[0m\u001b[0;34m=\u001b[0m\u001b[0;36m1.0\u001b[0m\u001b[0;34m,\u001b[0m\u001b[0mepsmin\u001b[0m\u001b[0;34m=\u001b[0m\u001b[0;36m0.01\u001b[0m\u001b[0;34m)\u001b[0m\u001b[0;34m:\u001b[0m\u001b[0;34m\u001b[0m\u001b[0;34m\u001b[0m\u001b[0m\n\u001b[1;32m      2\u001b[0m     \u001b[0;31m# Completar\u001b[0m\u001b[0;34m\u001b[0m\u001b[0;34m\u001b[0m\u001b[0;34m\u001b[0m\u001b[0m\n\u001b[0;32m----> 3\u001b[0;31m     \u001b[0;32mreturn\u001b[0m \u001b[0mQ\u001b[0m\u001b[0;34m\u001b[0m\u001b[0;34m\u001b[0m\u001b[0m\n\u001b[0m",
      "\u001b[0;31mNameError\u001b[0m: name 'Q' is not defined"
     ]
    }
   ],
   "source": [
    "# Calcular la politica optima y el value function\n",
    "Q_sarsamax = q_learning(env, 500000, 0.01)\n",
    "V = dict((k,np.max(v)) for k, v in Q_sarsamax.items())\n",
    "plot_values(V)"
   ]
  },
  {
   "cell_type": "code",
   "execution_count": 19,
   "metadata": {},
   "outputs": [
    {
     "ename": "NameError",
     "evalue": "name 'Q_sarsamax' is not defined",
     "output_type": "error",
     "traceback": [
      "\u001b[0;31m---------------------------------------------------------------------------\u001b[0m",
      "\u001b[0;31mNameError\u001b[0m                                 Traceback (most recent call last)",
      "\u001b[0;32m<ipython-input-19-17821de2ac64>\u001b[0m in \u001b[0;36m<module>\u001b[0;34m()\u001b[0m\n\u001b[1;32m      1\u001b[0m \u001b[0;31m# plotear la politica\u001b[0m\u001b[0;34m\u001b[0m\u001b[0;34m\u001b[0m\u001b[0;34m\u001b[0m\u001b[0m\n\u001b[0;32m----> 2\u001b[0;31m \u001b[0mpolicy_sarsamax\u001b[0m \u001b[0;34m=\u001b[0m \u001b[0mdict\u001b[0m\u001b[0;34m(\u001b[0m\u001b[0;34m(\u001b[0m\u001b[0mk\u001b[0m\u001b[0;34m,\u001b[0m\u001b[0mnp\u001b[0m\u001b[0;34m.\u001b[0m\u001b[0margmax\u001b[0m\u001b[0;34m(\u001b[0m\u001b[0mv\u001b[0m\u001b[0;34m)\u001b[0m\u001b[0;34m)\u001b[0m \u001b[0;32mfor\u001b[0m \u001b[0mk\u001b[0m\u001b[0;34m,\u001b[0m \u001b[0mv\u001b[0m \u001b[0;32min\u001b[0m \u001b[0mQ_sarsamax\u001b[0m\u001b[0;34m.\u001b[0m\u001b[0mitems\u001b[0m\u001b[0;34m(\u001b[0m\u001b[0;34m)\u001b[0m\u001b[0;34m)\u001b[0m\u001b[0;34m\u001b[0m\u001b[0;34m\u001b[0m\u001b[0m\n\u001b[0m\u001b[1;32m      3\u001b[0m \u001b[0mplot_policy\u001b[0m\u001b[0;34m(\u001b[0m\u001b[0mpolicy_sarsamax\u001b[0m\u001b[0;34m)\u001b[0m\u001b[0;34m\u001b[0m\u001b[0;34m\u001b[0m\u001b[0m\n",
      "\u001b[0;31mNameError\u001b[0m: name 'Q_sarsamax' is not defined"
     ]
    }
   ],
   "source": [
    "# plotear la politica\n",
    "policy_sarsamax = dict((k,np.argmax(v)) for k, v in Q_sarsamax.items())\n",
    "plot_policy(policy_sarsamax)"
   ]
  },
  {
   "cell_type": "code",
   "execution_count": null,
   "metadata": {},
   "outputs": [],
   "source": []
  },
  {
   "cell_type": "code",
   "execution_count": null,
   "metadata": {},
   "outputs": [],
   "source": []
  },
  {
   "cell_type": "code",
   "execution_count": null,
   "metadata": {},
   "outputs": [],
   "source": []
  },
  {
   "cell_type": "code",
   "execution_count": null,
   "metadata": {},
   "outputs": [],
   "source": []
  }
 ],
 "metadata": {
  "kernelspec": {
   "display_name": "Python 3",
   "language": "python",
   "name": "python3"
  },
  "language_info": {
   "codemirror_mode": {
    "name": "ipython",
    "version": 3
   },
   "file_extension": ".py",
   "mimetype": "text/x-python",
   "name": "python",
   "nbconvert_exporter": "python",
   "pygments_lexer": "ipython3",
   "version": "3.7.2"
  },
  "toc": {
   "base_numbering": 1,
   "nav_menu": {},
   "number_sections": true,
   "sideBar": true,
   "skip_h1_title": false,
   "title_cell": "Table of Contents",
   "title_sidebar": "Contents",
   "toc_cell": false,
   "toc_position": {
    "height": "calc(100% - 180px)",
    "left": "10px",
    "top": "150px",
    "width": "245.8px"
   },
   "toc_section_display": true,
   "toc_window_display": true
  }
 },
 "nbformat": 4,
 "nbformat_minor": 2
}
