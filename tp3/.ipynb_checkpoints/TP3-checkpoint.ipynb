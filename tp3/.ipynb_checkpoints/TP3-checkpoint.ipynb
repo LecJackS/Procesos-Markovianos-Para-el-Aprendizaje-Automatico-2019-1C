{
 "cells": [
  {
   "cell_type": "markdown",
   "metadata": {},
   "source": [
    "# TP3: Model Free"
   ]
  },
  {
   "cell_type": "markdown",
   "metadata": {},
   "source": [
    "### Descripción del código: \n",
    "\n",
    "En este Trabajo se les presenta un juego de mesa (una versión simplificada del Perudo: https://www.youtube.com/watch?v=die0n-eonl8, juego que aparece en la pelicula Piratas Del Caribe 2: El cofre de la Muerte). A partir de las reglas de dicho juego se construye un environment.\n",
    "\n",
    "Además se les brinda un breve código en donde se juega contra dicho environment de forma aleatoria.\n",
    "\n",
    "Por ultimo, también encontraran dos funciones para graficar la Value function y una política respectivamente.\n",
    "\n",
    "### Consignas:\n",
    "\n",
    "1. Implementar el método de Monte Carlo, SARSA y Q-learning para aprender la función valor.\n",
    "\n",
    " Nota: no es necesario, pero si recomendable, usar el esqueleto de funciones que aparecen abajo.\n",
    " \n",
    "\n",
    "2. Para cada uno de los 3 casos, graficar dicha función valor y la política optima encontrada.\n",
    "\n",
    "\n",
    "3. Crear un nuevo environment que tome como parámetro una política (dicho parámetro deberá ser la política realizada por la IA).\n",
    "\n",
    " Luego realizar iteraciones para cualquiera de los 3 métodos mencionados, en donde para cada iteración encuentre una política óptima para un jugador que se enfrenta contra la política óptima del paso anterior.\n",
    "\n",
    " Nuevamente graficar la función valor y la política optima final."
   ]
  },
  {
   "cell_type": "code",
   "execution_count": 1,
   "metadata": {
    "ExecuteTime": {
     "end_time": "2019-06-01T02:32:52.339775Z",
     "start_time": "2019-06-01T02:32:52.324636Z"
    }
   },
   "outputs": [
    {
     "data": {
      "text/html": [
       "<img src=\"https://i.ytimg.com/vi/gMGsAxuWozQ/maxresdefault.jpg\"/>"
      ],
      "text/plain": [
       "<IPython.core.display.Image object>"
      ]
     },
     "execution_count": 1,
     "metadata": {},
     "output_type": "execute_result"
    }
   ],
   "source": [
    "from IPython.display import Image\n",
    "from IPython.core.display import HTML \n",
    "Image(url= \"https://i.ytimg.com/vi/gMGsAxuWozQ/maxresdefault.jpg\")"
   ]
  },
  {
   "cell_type": "code",
   "execution_count": 2,
   "metadata": {
    "ExecuteTime": {
     "end_time": "2019-06-01T02:32:52.566593Z",
     "start_time": "2019-06-01T02:32:52.341391Z"
    }
   },
   "outputs": [],
   "source": [
    "import gym\n",
    "import numpy as np\n",
    "import random\n",
    "from gym import spaces\n",
    "from gym.utils import seeding\n",
    "import pprint"
   ]
  },
  {
   "cell_type": "markdown",
   "metadata": {},
   "source": [
    "## El juego"
   ]
  },
  {
   "cell_type": "markdown",
   "metadata": {},
   "source": [
    "Reglas:\n",
    "\n",
    "- 2 jugadores (uno sos vos y una IA)\n",
    "- Cada jugador cuenta con **5 monedas** (cara o cruz). Cada jugador solo ve sus monedas. \n",
    "- Después de tirar las monedas, empieza el juego.\n",
    "- El juego consiste en intentar adivinar al menos **cuantas caras hay en total** entre todas las monedas o en hacer que el **rival adivine incorrectamente**.\n",
    "- La apuesta empieza en 0 caras.\n",
    "- Se tira una moneda para ver quien de los dos jugadores empieza. \n",
    "- Acciones posibles:\n",
    "    * me quedo con la apuesta hasta ahora y paso.\n",
    "    * subo en 1 la cantidad de caras que creo que hay en total.\n",
    "- El juego termina cuando algún jugador pasa.\n",
    "- Si la apuesta fue **mayor** al numero real de caras, **el apostador pierde** (r=-1) y el otro gana.\n",
    "- Si la apuesta es **menor o igual** al numero real, **gana el apostador** (r=1) y pierde el otro.\n",
    "- IA inicial de la computadora: Si la apuesta es menor a 2 + cantidad de caras propias, la computadora apuesta. Sino pasa."
   ]
  },
  {
   "cell_type": "code",
   "execution_count": 3,
   "metadata": {
    "ExecuteTime": {
     "end_time": "2019-06-01T02:32:52.574915Z",
     "start_time": "2019-06-01T02:32:52.568071Z"
    }
   },
   "outputs": [],
   "source": [
    "# Defino nuestro propio environment con las reglas del juego\n",
    "\n",
    "def throw_coin(num_coin, np_random):\n",
    "    return np_random.rand(num_coin)>0.5\n",
    "\n",
    "def total_faces(list_players):\n",
    "    RV=0\n",
    "    for player in list_players:\n",
    "        RV += sum(player)\n",
    "    return RV\n",
    "\n",
    "class PerudoSimplificado(gym.Env):\n",
    "    def __init__(self):\n",
    "        \n",
    "        self.action_space = spaces.Discrete(2)\n",
    "        self.observation_space = spaces.Tuple((\n",
    "            spaces.Discrete(5), #mis monedas\n",
    "            spaces.Discrete(10))) #apuesta actual\n",
    "\n",
    "        self.seed()\n",
    "        # Empieza el juego\n",
    "        self.reset()\n",
    "\n",
    "    def seed(self, seed=None):\n",
    "        self.np_random, seed = seeding.np_random(seed)\n",
    "        return [seed]\n",
    "\n",
    "    def step(self, action):\n",
    "        assert self.action_space.contains(action)\n",
    "        \n",
    "        max_guess_player_2 = total_faces([self.player_2]) + int(len(self.player_1)/2)\n",
    "        faces_tot = total_faces([self.player_1, self.player_2])\n",
    "        \n",
    "        if self.guess > len(self.player_1) + len(self.player_2): #la apuesta es mayor que lo maximo posible\n",
    "            done = True\n",
    "            reward = -1\n",
    "\n",
    "        if action == 0: #action == 0, mantengo la apuesta y paso\n",
    "            done = True\n",
    "            if self.guess <= faces_tot: #tenia razon el rival\n",
    "                reward = -1\n",
    "            else: #tenia razon yo\n",
    "                reward = +1\n",
    "            \n",
    "        else: #action == 1, subo en 1 la apuesta\n",
    "            self.guess += 1\n",
    "            if self.guess < max_guess_player_2: #el rival sube 1 en su turno\n",
    "                self.guess += 1 \n",
    "                done = False\n",
    "                reward = 0\n",
    "            else: # el rival pasa\n",
    "                done = True\n",
    "                if self.guess <= faces_tot: \n",
    "                    reward = 1\n",
    "                else:\n",
    "                    reward = -1\n",
    "            \n",
    "        return self.get_obs(), reward, done, {}\n",
    "\n",
    "    def get_obs(self):\n",
    "        return (sum(self.player_1), self.guess)\n",
    "    \n",
    "    def reset(self):\n",
    "        self.player_1 = throw_coin(5,self.np_random)\n",
    "        self.player_2 = throw_coin(5,self.np_random)\n",
    "        self.guess = 1 if np.random.rand()>0.5 else 0 #al principio se tira una moneda para ver quien empieza. Por eso es 0 (uno empieza) o 1 (empezo el otro y subio)  \n",
    "        return self.get_obs()"
   ]
  },
  {
   "cell_type": "markdown",
   "metadata": {},
   "source": [
    "## Jugando al azar"
   ]
  },
  {
   "cell_type": "code",
   "execution_count": 4,
   "metadata": {
    "ExecuteTime": {
     "end_time": "2019-06-01T02:32:52.583504Z",
     "start_time": "2019-06-01T02:32:52.576797Z"
    }
   },
   "outputs": [
    {
     "name": "stdout",
     "output_type": "stream",
     "text": [
      "Tuple(Discrete(5), Discrete(10))\n",
      "Discrete(2)\n"
     ]
    }
   ],
   "source": [
    "env = PerudoSimplificado()\n",
    "print(env.observation_space)\n",
    "print(env.action_space)"
   ]
  },
  {
   "cell_type": "code",
   "execution_count": 5,
   "metadata": {
    "ExecuteTime": {
     "end_time": "2019-06-01T02:32:52.590674Z",
     "start_time": "2019-06-01T02:32:52.585112Z"
    }
   },
   "outputs": [
    {
     "name": "stdout",
     "output_type": "stream",
     "text": [
      "Starting at state: (5, 1)\n",
      "(5, 3) 1\n",
      "(5, 4) 1\n",
      "El juego ha terminado! Su reward:  1\n",
      "Ganaste :)\n",
      "\n"
     ]
    }
   ],
   "source": [
    "#Politica Random:\n",
    "for i_episode in range(1):\n",
    "    state = env.reset()\n",
    "    print(\"Starting at state:\", state)\n",
    "    while True:\n",
    "        #action = env.action_space.sample() # Selecciona una accion random dentro de las posibles\n",
    "        action = 1\n",
    "        state, reward, done, info = env.step(action) # Juega un paso\n",
    "        print(state, action)\n",
    "        if done:\n",
    "            print('El juego ha terminado! Su reward: ', reward)\n",
    "            print('Ganaste :)\\n') if reward > 0 else print('Perdiste :(\\n')\n",
    "            break"
   ]
  },
  {
   "cell_type": "markdown",
   "metadata": {},
   "source": [
    "## Graficos:"
   ]
  },
  {
   "cell_type": "code",
   "execution_count": 6,
   "metadata": {
    "ExecuteTime": {
     "end_time": "2019-06-01T02:32:52.842448Z",
     "start_time": "2019-06-01T02:32:52.593005Z"
    }
   },
   "outputs": [],
   "source": [
    "from mpl_toolkits.mplot3d import Axes3D\n",
    "import matplotlib.pyplot as plt\n",
    "from mpl_toolkits.axes_grid1 import make_axes_locatable\n",
    "\n",
    "def plot_values(V):\n",
    "    \"\"\"\n",
    "    Realiza un grafico en 3 dimensiones de la función valor.\n",
    "        \n",
    "    El parametro V es un diccionario cuyas keys son pares \"caras en mi mano\" \n",
    "    y \"apuesta actual\".\n",
    "    \"\"\"\n",
    "    def get_Z(x, y):\n",
    "        if (x,y) in V:\n",
    "            return V[x,y]\n",
    "        else:\n",
    "            return 0\n",
    "\n",
    "    def get_figure(ax):\n",
    "        x_range = np.arange(0, 6)\n",
    "        y_range = np.arange(1, 11)\n",
    "        X, Y = np.meshgrid(x_range, y_range)\n",
    "        \n",
    "        Z = np.array([get_Z(x,y) for x,y in zip(np.ravel(X), np.ravel(Y))]).reshape(X.shape)\n",
    "        surf = ax.plot_surface(X, Y, Z, rstride=1, cstride=1, cmap=plt.cm.coolwarm, vmin=-1.0, vmax=1.0)\n",
    "        ax.set_xlabel('caras en tu mano')\n",
    "        ax.set_ylabel('apuestas')\n",
    "        ax.set_zlabel('value')\n",
    "        ax.view_init(ax.elev, -120)\n",
    "    fig = plt.figure(figsize=(20, 20))\n",
    "    ax = fig.add_subplot(211, projection='3d')\n",
    "    get_figure(ax)\n",
    "    plt.show()"
   ]
  },
  {
   "cell_type": "code",
   "execution_count": 153,
   "metadata": {
    "ExecuteTime": {
     "end_time": "2019-06-01T05:21:06.551572Z",
     "start_time": "2019-06-01T05:21:06.543700Z"
    }
   },
   "outputs": [
    {
     "ename": "TypeError",
     "evalue": "object of type 'int' has no len()",
     "output_type": "error",
     "traceback": [
      "\u001b[0;31m---------------------------------------------------------------------------\u001b[0m",
      "\u001b[0;31mTypeError\u001b[0m                                 Traceback (most recent call last)",
      "\u001b[0;32m<ipython-input-153-1cf91bb60cc0>\u001b[0m in \u001b[0;36m<module>\u001b[0;34m()\u001b[0m\n\u001b[0;32m----> 1\u001b[0;31m \u001b[0mlen\u001b[0m\u001b[0;34m(\u001b[0m\u001b[0;36m1\u001b[0m\u001b[0;34m)\u001b[0m\u001b[0;34m\u001b[0m\u001b[0;34m\u001b[0m\u001b[0m\n\u001b[0m",
      "\u001b[0;31mTypeError\u001b[0m: object of type 'int' has no len()"
     ]
    }
   ],
   "source": [
    "len(1)"
   ]
  },
  {
   "cell_type": "code",
   "execution_count": 179,
   "metadata": {
    "ExecuteTime": {
     "end_time": "2019-06-01T05:31:27.103942Z",
     "start_time": "2019-06-01T05:31:27.092836Z"
    }
   },
   "outputs": [],
   "source": [
    "def plot_policy(policy):\n",
    "    \"\"\"\n",
    "    Realiza un grafico en 3 dimensiones de la función valor.\n",
    "    \n",
    "    El parametro policy es un diccionario cuyas keys son pares \"caras en mi mano\" \n",
    "    y \"apuesta actual\" y el valor es la acción a realizar.\n",
    "    \"\"\"\n",
    "    def get_Z(x, y):\n",
    "        if (x,y) in policy:\n",
    "            if np.isscalar(policy[x,y]):\n",
    "                # Action to take\n",
    "                return policy[x,y]\n",
    "            else:\n",
    "                # Policy: [actions_probabilities at state (x,y)]\n",
    "                return random_argmax(policy[x,y])\n",
    "            #\n",
    "        else:\n",
    "            return 25 # este valor \"25\" es para visualizar que la policy no tiene asignada una acción para dicho estado.\n",
    "\n",
    "    def get_figure(ax):\n",
    "        x_range = np.arange(0, 6)\n",
    "        y_range = np.arange(0, 11)\n",
    "        X, Y = np.meshgrid(x_range, y_range)\n",
    "        Z = np.array([[get_Z(x,y) for x in x_range] for y in y_range])\n",
    "\n",
    "        surf = ax.imshow(np.flip(Z,0), cmap=plt.get_cmap('Pastel2', 3), vmin=0, vmax=2, extent=[-0.5, 5.5, -0.5, 10.5])\n",
    "        plt.xticks(x_range)\n",
    "        plt.yticks(y_range)\n",
    "        plt.gca().invert_yaxis()\n",
    "        ax.set_xlabel('caras en mi mano')\n",
    "        ax.set_ylabel('apuestas')\n",
    "        ax.grid(color='w', linestyle='-', linewidth=1)\n",
    "        divider = make_axes_locatable(ax)\n",
    "        cax = divider.append_axes(\"right\", size=\"5%\", pad=0.1)\n",
    "        cbar = plt.colorbar(surf, ticks=[0,1,2], cax=cax)\n",
    "        cbar.ax.set_yticklabels(['0 (pasar)','1 (subir)', 'desconocido'])\n",
    "        print(Z)\n",
    "            \n",
    "    fig = plt.figure(figsize=(5, 5))\n",
    "    ax = fig.add_subplot(111)\n",
    "    get_figure(ax)\n",
    "    plt.show()"
   ]
  },
  {
   "cell_type": "markdown",
   "metadata": {},
   "source": [
    "# Monte Carlo"
   ]
  },
  {
   "cell_type": "markdown",
   "metadata": {
    "ExecuteTime": {
     "end_time": "2019-06-01T03:35:21.080331Z",
     "start_time": "2019-06-01T03:35:21.077270Z"
    }
   },
   "source": [
    "<img src=\"./img/generalized-policy-iteration.png\" width=\"200\" align=\"left\" /> <img src=\"./img/monte-carlo.png\" width=\"500\" align=\"left\" />"
   ]
  },
  {
   "cell_type": "markdown",
   "metadata": {},
   "source": [
    "#### Algorithm Pseudocode (from Sutton and Barto):"
   ]
  },
  {
   "cell_type": "markdown",
   "metadata": {},
   "source": [
    "<img src=\"./img/on-policy-first-visit-mc-control.png\" width=\"500\" align=\"left\" />"
   ]
  },
  {
   "cell_type": "markdown",
   "metadata": {},
   "source": [
    "#### On-policy first-visit Monte Carlo control"
   ]
  },
  {
   "cell_type": "code",
   "execution_count": 161,
   "metadata": {
    "ExecuteTime": {
     "end_time": "2019-06-01T05:26:21.091417Z",
     "start_time": "2019-06-01T05:26:21.081931Z"
    },
    "code_folding": [],
    "run_control": {
     "marked": true
    }
   },
   "outputs": [],
   "source": [
    "# Filling these ones was freaking fun!\n",
    "def get_probs(Q_s, epsilon, nA): \n",
    "    # Devuelve un array con las probas de cada accion, para un estado dado\n",
    "    # policy:   {(s,s): [r_a1, r_a2]}\n",
    "    # policy_s: [r_a1, r_a2]\n",
    "    policy_s = np.zeros(nA)\n",
    "    A_star = random_argmax(Q_s)\n",
    "    actions = np.arange(nA)\n",
    "    for a in actions:\n",
    "        if a == A_star:\n",
    "            policy_s[a] = 1-epsilon + epsilon/nA\n",
    "        else:\n",
    "            policy_s[a] = epsilon/nA\n",
    "    return policy_s\n",
    "  \n",
    "def generate_episode_from_Q(env, Q, epsilon, nA):\n",
    "    # episode = {(s, s):[action k taken, inmediate reward_a=k]}\n",
    "    verbose = False\n",
    "    episode = {}\n",
    "    state = env.reset()\n",
    "    actions = np.arange(nA)\n",
    "    while True:\n",
    "        # Generate entire episode (until terminal state)\n",
    "        action = np.random.choice(actions, p=get_probs(Q[state], epsilon, nA))\n",
    "        state, reward, done, info = env.step(action) # Juega un paso\n",
    "        if state not in episode:\n",
    "            # First Visit MC.\n",
    "            episode[state] = [action, reward]\n",
    "        if done:\n",
    "            #print('El juego ha terminado! Su reward: ', reward)\n",
    "            #print('Ganaste :)') if reward > 0 else print('Perdiste :(')\n",
    "            break\n",
    "    return episode\n",
    "\n",
    "def update_Q(env, episode, Q, alpha, gamma, MeanReturns): #Returns):\n",
    "    nA=2\n",
    "    use_cumulative_average = True # faster results, and memory don't blow up with number of episodes\n",
    "    G=0\n",
    "    for state in episode:\n",
    "        # Adding episode first values to list of past Returns\n",
    "        #for action,_ in enumerate(Returns[state]):\n",
    "        if not use_cumulative_average:\n",
    "            #Returns[state][idx] = np.append(Returns[state][idx], episode[state][idx])\n",
    "            #Returns[state][action].append(episode[state][action])\n",
    "            pass\n",
    "        else:\n",
    "            #NumReturns[state] : [[0, 0], [0, 0]]\n",
    "            action_taken  = episode[state][0]\n",
    "            action_reward = episode[state][1]\n",
    "            action_mean   = MeanReturns[state][action_taken][0]\n",
    "            action_count  = MeanReturns[state][action_taken][1]\n",
    "            G = G*gamma + action_reward\n",
    "            if action_count == 0:\n",
    "                new_mean = action_reward\n",
    "            else:\n",
    "                new_mean = (action_mean * action_count + G)/(action_count+1)\n",
    "            updated_returns = [new_mean, action_count+1]\n",
    "            MeanReturns[state][action_taken] = updated_returns\n",
    "        # Now Q(s,a) takes the mean of Returns(s,a);\n",
    "        # axis=1 to take mean separately by action\n",
    "        if not use_cumulative_average:\n",
    "            #Q[state] = np.mean(Returns[state], axis=1)\n",
    "            pass\n",
    "        else:\n",
    "            Q[state] = np.take(MeanReturns[state], [0,2]) #[0,2] indexes of action mean returns\n",
    "    return Q"
   ]
  },
  {
   "cell_type": "markdown",
   "metadata": {},
   "source": [
    "#### Cumulative Mean Error"
   ]
  },
  {
   "cell_type": "code",
   "execution_count": 162,
   "metadata": {
    "ExecuteTime": {
     "end_time": "2019-06-01T05:26:27.430997Z",
     "start_time": "2019-06-01T05:26:26.525857Z"
    }
   },
   "outputs": [
    {
     "name": "stdout",
     "output_type": "stream",
     "text": [
      "Array of size 5000000 :\n",
      "+ Numpy pi - Numpy mean : -4.3520742565306136e-14\n",
      "Error after 5000000 iterations:\n",
      "+ Numpy pi - Cumulative mean: 8.762146563867645e-11\n",
      "Relavive error: -0.0004966904199568184\n"
     ]
    }
   ],
   "source": [
    "# Simple test empírico para asegurar que el error que arrastra \n",
    "# el mean acumulativo sea despreciable:\n",
    "def test_cumulative_mean_error():\n",
    "    # Cumulative Mean vs Mean error to check correct usage\n",
    "    size = 5*10**6\n",
    "    # Array of irrational numbers\n",
    "    values = [np.pi,]*size\n",
    "    cumu_mean = np.pi\n",
    "\n",
    "    for i in range(1, size):\n",
    "        cumu_mean = (cumu_mean*i + values[i])/(i+1)\n",
    "\n",
    "    print(\"Array of size\", size, \":\")\n",
    "    print(\"+ Numpy pi - Numpy mean :\", np.pi - np.mean(values))\n",
    "    print(\"Error after\", size, \"iterations:\")\n",
    "    print(\"+ Numpy pi - Cumulative mean:\", np.pi - cumu_mean)\n",
    "    print(\"Relavive error:\", (np.pi - np.mean(values))/(np.pi - cumu_mean))\n",
    "    # cummulative produces an error greater than the actual mean,\n",
    "    # but still is 1*10**-9, which is pretty good for our case\n",
    "test_cumulative_mean_error()"
   ]
  },
  {
   "cell_type": "markdown",
   "metadata": {
    "ExecuteTime": {
     "end_time": "2019-06-01T02:26:46.917989Z",
     "start_time": "2019-06-01T02:26:46.853259Z"
    }
   },
   "source": [
    "#### Useful functions"
   ]
  },
  {
   "cell_type": "code",
   "execution_count": 163,
   "metadata": {
    "ExecuteTime": {
     "end_time": "2019-06-01T05:26:27.436655Z",
     "start_time": "2019-06-01T05:26:27.432949Z"
    }
   },
   "outputs": [],
   "source": [
    "def random_argmax(v):\n",
    "    \"\"\"Like np.argmax(), but if there are several \"best\" actions,\n",
    "       chooses and returns one randomly\"\"\"\n",
    "    arguments = np.argwhere(v == np.amax(v)).ravel()\n",
    "    arg = np.random.choice(arguments)\n",
    "    return arg\n",
    "\n",
    "def softmax_vect(v):\n",
    "    \"\"\"Returns a vector with all softmax values\"\"\"\n",
    "    exp_vect = np.exp(v)\n",
    "    return exp_vect/np.sum(exp_vect)"
   ]
  },
  {
   "cell_type": "code",
   "execution_count": 164,
   "metadata": {
    "ExecuteTime": {
     "end_time": "2019-06-01T05:26:27.441046Z",
     "start_time": "2019-06-01T05:26:27.438243Z"
    }
   },
   "outputs": [],
   "source": [
    "def initialize_dict(D, default_value, nA):\n",
    "    # Initialize dict for all possible states\n",
    "    # {(sx,sy):[default_value]} for all (sx,sy)\n",
    "    my_faces = np.arange(0, 6)\n",
    "    bets = np.arange(0, 11)\n",
    "    states = np.array(np.meshgrid(my_faces, bets)).T.reshape(-1,2)\n",
    "    keystates = tuple(map(tuple, states))\n",
    "    return dict.fromkeys(keystates, default_value)"
   ]
  },
  {
   "cell_type": "code",
   "execution_count": 167,
   "metadata": {
    "ExecuteTime": {
     "end_time": "2019-06-01T05:26:37.090209Z",
     "start_time": "2019-06-01T05:26:37.084556Z"
    }
   },
   "outputs": [],
   "source": [
    "def mc_control(env, num_episodes, alpha, gamma=1.0, eps_start=1.0, eps_decay=.99999, eps_min=0.05):\n",
    "    \"\"\" Q es un diccionario cuyas keys son pares \n",
    "        <\"caras en mi mano\" y \"apuesta actual\"> (state) \n",
    "        <y el valor de CADA acción en su posicion >(action-value)\n",
    "     Q{(st, ate): (v_a0, v_a1)}\"\"\"\n",
    "    nA = 2\n",
    "    Q = {}\n",
    "    policy = {}\n",
    "    # se podra hacer sin inicializar Q para TODO s,a?\n",
    "    default_value = [0,]*nA\n",
    "    Q=initialize_dict(Q, default_value, nA)\n",
    "    #\n",
    "    default_value = [1/nA,]*nA\n",
    "    policy = initialize_dict(policy, default_value, nA)\n",
    "    #\n",
    "#     Returns = {}\n",
    "#     default_value = [[],]*nA\n",
    "#     Returns = initialize_dict(Returns, default_value, nA)\n",
    "    #\n",
    "    MeanReturns = {}\n",
    "    #default_value = [mean, action_count]\n",
    "    default_value = [[0, 0],]*nA\n",
    "    \n",
    "    MeanReturns = initialize_dict(MeanReturns, default_value, nA)\n",
    "    #\n",
    "    epsilon = eps_start\n",
    "    for iteration in range(num_episodes):\n",
    "        epsilon = max(epsilon*eps_decay, eps_min)\n",
    "        episode = generate_episode_from_Q(env, Q, epsilon, nA)\n",
    "        Q = update_Q(env, episode, Q, alpha, gamma, MeanReturns)#Returns, )\n",
    "        for state in episode:\n",
    "            policy[state] = get_probs(Q[state], epsilon, nA)\n",
    "    return policy, Q"
   ]
  },
  {
   "cell_type": "code",
   "execution_count": 181,
   "metadata": {
    "ExecuteTime": {
     "end_time": "2019-06-01T05:31:47.556971Z",
     "start_time": "2019-06-01T05:31:44.613136Z"
    }
   },
   "outputs": [
    {
     "data": {
      "image/png": "[encoded data removed]",
      "text/plain": [
       "<Figure size 1440x1440 with 1 Axes>"
      ]
     },
     "metadata": {
      "needs_background": "light"
     },
     "output_type": "display_data"
    }
   ],
   "source": [
    "# Calcular la politica optima y el value function\n",
    "#policy, Q = mc_control(env, 500000, 0.015)\n",
    "policy, Q = mc_control(env, 10000, 0.015)\n",
    "V = dict((k, np.max(v)) for k, v in Q.items())\n",
    "plot_values(V)"
   ]
  },
  {
   "cell_type": "code",
   "execution_count": 182,
   "metadata": {
    "ExecuteTime": {
     "end_time": "2019-06-01T05:31:47.755087Z",
     "start_time": "2019-06-01T05:31:47.558550Z"
    }
   },
   "outputs": [
    {
     "name": "stdout",
     "output_type": "stream",
     "text": [
      "<class 'numpy.ndarray'>\n",
      "es numpy array!\n",
      "es numpy array!\n",
      "es numpy array!\n",
      "es numpy array!\n",
      "es numpy array!\n",
      "es numpy array!\n",
      "es numpy array!\n",
      "es numpy array!\n",
      "es numpy array!\n",
      "es numpy array!\n",
      "es numpy array!\n",
      "es numpy array!\n",
      "es numpy array!\n",
      "es numpy array!\n",
      "es numpy array!\n",
      "es numpy array!\n",
      "es numpy array!\n",
      "es numpy array!\n",
      "es numpy array!\n",
      "es numpy array!\n",
      "es numpy array!\n",
      "es numpy array!\n",
      "es numpy array!\n",
      "es numpy array!\n",
      "es numpy array!\n",
      "es numpy array!\n",
      "es numpy array!\n",
      "es numpy array!\n",
      "es numpy array!\n",
      "es numpy array!\n",
      "es numpy array!\n",
      "es numpy array!\n",
      "es numpy array!\n",
      "es numpy array!\n",
      "es numpy array!\n",
      "es numpy array!\n",
      "es numpy array!\n",
      "es numpy array!\n",
      "es numpy array!\n",
      "es numpy array!\n",
      "es numpy array!\n",
      "es numpy array!\n",
      "es numpy array!\n",
      "es numpy array!\n",
      "es numpy array!\n",
      "es numpy array!\n",
      "es numpy array!\n",
      "es numpy array!\n",
      "es numpy array!\n",
      "es numpy array!\n",
      "es numpy array!\n",
      "es numpy array!\n",
      "es numpy array!\n",
      "es numpy array!\n",
      "es numpy array!\n",
      "es numpy array!\n",
      "es numpy array!\n",
      "es numpy array!\n",
      "es numpy array!\n",
      "es numpy array!\n",
      "es numpy array!\n",
      "es numpy array!\n",
      "es numpy array!\n",
      "es numpy array!\n",
      "es numpy array!\n",
      "es numpy array!\n",
      "[[1 1 1 1 1 1]\n",
      " [1 1 1 1 1 1]\n",
      " [1 1 1 1 1 1]\n",
      " [1 1 1 1 1 1]\n",
      " [1 1 1 1 1 1]\n",
      " [1 1 1 1 1 1]\n",
      " [1 1 1 1 1 1]\n",
      " [1 1 1 1 1 1]\n",
      " [0 0 1 1 1 1]\n",
      " [1 1 0 1 1 1]\n",
      " [1 0 1 0 1 0]]\n"
     ]
    },
    {
     "data": {
      "image/png": "[encoded data removed]",
      "text/plain": [
       "<Figure size 360x360 with 2 Axes>"
      ]
     },
     "metadata": {
      "needs_background": "light"
     },
     "output_type": "display_data"
    }
   ],
   "source": [
    "# plotear la politica\n",
    "print(type(policy[(0,0)]))\n",
    "plot_policy(policy)"
   ]
  },
  {
   "cell_type": "markdown",
   "metadata": {},
   "source": [
    "## SARSA"
   ]
  },
  {
   "cell_type": "markdown",
   "metadata": {},
   "source": [
    "<img src=\"./img/sarsa.png\" width=\"500\" align=\"left\" />\n",
    "<img src=\"./img/sarsa-2.png\" width=\"500\" align=\"left\" />"
   ]
  },
  {
   "cell_type": "code",
   "execution_count": null,
   "metadata": {},
   "outputs": [],
   "source": []
  },
  {
   "cell_type": "markdown",
   "metadata": {
    "ExecuteTime": {
     "end_time": "2019-06-01T03:53:48.070422Z",
     "start_time": "2019-06-01T03:53:48.066001Z"
    }
   },
   "source": [
    "<img src=\"./img/sarsa-on-policy-td-control.png\" width=\"600\" align=\"left\" />"
   ]
  },
  {
   "cell_type": "code",
   "execution_count": 108,
   "metadata": {
    "ExecuteTime": {
     "end_time": "2019-06-01T04:43:57.298210Z",
     "start_time": "2019-06-01T04:43:57.293314Z"
    }
   },
   "outputs": [],
   "source": [
    "def update_Q_sarsa(alpha, gamma, Q, state, action, reward, next_state=None, next_action=None):\n",
    "    \"\"\"Returns the updated value of Q after one step on episode\"\"\"\n",
    "    return alpha*(reward + gamma*Q[next_state][next_action] - Q[state][action])\n",
    "    \n",
    "def epsilon_greedy(Q, state, nA, eps):\n",
    "    if np.random.rand()>eps:\n",
    "        # Act greedly wrt Q w/probability 1-epsilon\n",
    "        return np.argmax(Q[state])\n",
    "    else:\n",
    "        # Choose randomly w/probability epsilon\n",
    "        return np.random.choice(np.arange(nA))"
   ]
  },
  {
   "cell_type": "code",
   "execution_count": 139,
   "metadata": {
    "ExecuteTime": {
     "end_time": "2019-06-01T05:15:27.023942Z",
     "start_time": "2019-06-01T05:15:27.010994Z"
    }
   },
   "outputs": [],
   "source": [
    "def initialize_dict2(D, default_value, nA):\n",
    "    # Initialize dict for all possible states\n",
    "    # {(sx,sy):[default_value]} for all (sx,sy)\n",
    "    my_faces = np.arange(0, 6)\n",
    "    bets = np.arange(0, 11)\n",
    "    states = np.array(np.meshgrid(my_faces, bets)).T.reshape(-1,2)\n",
    "    keystates = tuple(map(tuple, states))\n",
    "    return {k:[0,]*nA for k in keystates}"
   ]
  },
  {
   "cell_type": "code",
   "execution_count": 143,
   "metadata": {
    "ExecuteTime": {
     "end_time": "2019-06-01T05:16:01.115514Z",
     "start_time": "2019-06-01T05:16:01.109987Z"
    }
   },
   "outputs": [],
   "source": [
    "def sarsa(env, num_episodes, alpha, gamma=1.0, epsmin=0.01):\n",
    "    nA=2\n",
    "    eps=0.1\n",
    "    \n",
    "    Q = {}\n",
    "    default_value = [1,]*nA\n",
    "    Q=initialize_dict2(Q, np.zeros(nA), nA)\n",
    "    \n",
    "    for i in range(num_episodes):\n",
    "        state = env.reset()\n",
    "        action = epsilon_greedy(Q, state, nA, eps)\n",
    "        while True:\n",
    "            # Generate entire episode (until terminal state)\n",
    "            prev_state = state\n",
    "            state, reward, done, info = env.step(action)\n",
    "            next_action = epsilon_greedy(Q, state, nA, eps)\n",
    "            #print(\"\\n1\", Q[state][action])\n",
    "            #print(Q)\n",
    "            next_Q_sa = update_Q_sarsa(alpha, gamma, Q,\n",
    "                                       prev_state, action, reward,\n",
    "                                       state, next_action)\n",
    "            actions_values = Q[prev_state]\n",
    "            actions_values[action] = next_Q_sa\n",
    "            Q[prev_state] = actions_values\n",
    "            #print(\"2\",Q[state][action])\n",
    "            #print(Q[state])\n",
    "            #print(Q)\n",
    "            action = next_action\n",
    "\n",
    "            if done:\n",
    "                #print('El juego ha terminado! Su reward: ', reward)\n",
    "                #print('Ganaste :)') if reward > 0 else print('Perdiste :(')\n",
    "                break\n",
    "    \n",
    "    return Q"
   ]
  },
  {
   "cell_type": "code",
   "execution_count": 180,
   "metadata": {
    "ExecuteTime": {
     "end_time": "2019-06-01T05:31:43.353127Z",
     "start_time": "2019-06-01T05:31:35.281460Z"
    }
   },
   "outputs": [
    {
     "ename": "KeyboardInterrupt",
     "evalue": "",
     "output_type": "error",
     "traceback": [
      "\u001b[0;31m---------------------------------------------------------------------------\u001b[0m",
      "\u001b[0;31mKeyboardInterrupt\u001b[0m                         Traceback (most recent call last)",
      "\u001b[0;32m<ipython-input-180-44b2a8e1842b>\u001b[0m in \u001b[0;36m<module>\u001b[0;34m()\u001b[0m\n\u001b[1;32m      2\u001b[0m \u001b[0;31m#Q_sarsa = sarsa(env, 500000, 0.009)\u001b[0m\u001b[0;34m\u001b[0m\u001b[0;34m\u001b[0m\u001b[0;34m\u001b[0m\u001b[0m\n\u001b[1;32m      3\u001b[0m \u001b[0;34m\u001b[0m\u001b[0m\n\u001b[0;32m----> 4\u001b[0;31m \u001b[0mQ_sarsa\u001b[0m \u001b[0;34m=\u001b[0m \u001b[0msarsa\u001b[0m\u001b[0;34m(\u001b[0m\u001b[0menv\u001b[0m\u001b[0;34m,\u001b[0m \u001b[0;36m50000\u001b[0m\u001b[0;34m,\u001b[0m \u001b[0;36m0.009\u001b[0m\u001b[0;34m)\u001b[0m\u001b[0;34m\u001b[0m\u001b[0;34m\u001b[0m\u001b[0m\n\u001b[0m\u001b[1;32m      5\u001b[0m \u001b[0mprint\u001b[0m\u001b[0;34m(\u001b[0m\u001b[0mQ_sarsa\u001b[0m\u001b[0;34m)\u001b[0m\u001b[0;34m\u001b[0m\u001b[0;34m\u001b[0m\u001b[0m\n\u001b[1;32m      6\u001b[0m \u001b[0mV\u001b[0m \u001b[0;34m=\u001b[0m \u001b[0mdict\u001b[0m\u001b[0;34m(\u001b[0m\u001b[0;34m(\u001b[0m\u001b[0mk\u001b[0m\u001b[0;34m,\u001b[0m\u001b[0mnp\u001b[0m\u001b[0;34m.\u001b[0m\u001b[0mmax\u001b[0m\u001b[0;34m(\u001b[0m\u001b[0mv\u001b[0m\u001b[0;34m)\u001b[0m\u001b[0;34m)\u001b[0m \u001b[0;32mfor\u001b[0m \u001b[0mk\u001b[0m\u001b[0;34m,\u001b[0m \u001b[0mv\u001b[0m \u001b[0;32min\u001b[0m \u001b[0mQ_sarsa\u001b[0m\u001b[0;34m.\u001b[0m\u001b[0mitems\u001b[0m\u001b[0;34m(\u001b[0m\u001b[0;34m)\u001b[0m\u001b[0;34m)\u001b[0m\u001b[0;34m\u001b[0m\u001b[0;34m\u001b[0m\u001b[0m\n",
      "\u001b[0;32m<ipython-input-143-da091a19b127>\u001b[0m in \u001b[0;36msarsa\u001b[0;34m(env, num_episodes, alpha, gamma, epsmin)\u001b[0m\n\u001b[1;32m      8\u001b[0m \u001b[0;34m\u001b[0m\u001b[0m\n\u001b[1;32m      9\u001b[0m     \u001b[0;32mfor\u001b[0m \u001b[0mi\u001b[0m \u001b[0;32min\u001b[0m \u001b[0mrange\u001b[0m\u001b[0;34m(\u001b[0m\u001b[0mnum_episodes\u001b[0m\u001b[0;34m)\u001b[0m\u001b[0;34m:\u001b[0m\u001b[0;34m\u001b[0m\u001b[0;34m\u001b[0m\u001b[0m\n\u001b[0;32m---> 10\u001b[0;31m         \u001b[0mstate\u001b[0m \u001b[0;34m=\u001b[0m \u001b[0menv\u001b[0m\u001b[0;34m.\u001b[0m\u001b[0mreset\u001b[0m\u001b[0;34m(\u001b[0m\u001b[0;34m)\u001b[0m\u001b[0;34m\u001b[0m\u001b[0;34m\u001b[0m\u001b[0m\n\u001b[0m\u001b[1;32m     11\u001b[0m         \u001b[0maction\u001b[0m \u001b[0;34m=\u001b[0m \u001b[0mepsilon_greedy\u001b[0m\u001b[0;34m(\u001b[0m\u001b[0mQ\u001b[0m\u001b[0;34m,\u001b[0m \u001b[0mstate\u001b[0m\u001b[0;34m,\u001b[0m \u001b[0mnA\u001b[0m\u001b[0;34m,\u001b[0m \u001b[0meps\u001b[0m\u001b[0;34m)\u001b[0m\u001b[0;34m\u001b[0m\u001b[0;34m\u001b[0m\u001b[0m\n\u001b[1;32m     12\u001b[0m         \u001b[0;32mwhile\u001b[0m \u001b[0;32mTrue\u001b[0m\u001b[0;34m:\u001b[0m\u001b[0;34m\u001b[0m\u001b[0;34m\u001b[0m\u001b[0m\n",
      "\u001b[0;32m<ipython-input-3-21cc582c9aeb>\u001b[0m in \u001b[0;36mreset\u001b[0;34m(self)\u001b[0m\n\u001b[1;32m     65\u001b[0m         \u001b[0mself\u001b[0m\u001b[0;34m.\u001b[0m\u001b[0mplayer_2\u001b[0m \u001b[0;34m=\u001b[0m \u001b[0mthrow_coin\u001b[0m\u001b[0;34m(\u001b[0m\u001b[0;36m5\u001b[0m\u001b[0;34m,\u001b[0m\u001b[0mself\u001b[0m\u001b[0;34m.\u001b[0m\u001b[0mnp_random\u001b[0m\u001b[0;34m)\u001b[0m\u001b[0;34m\u001b[0m\u001b[0;34m\u001b[0m\u001b[0m\n\u001b[1;32m     66\u001b[0m         \u001b[0mself\u001b[0m\u001b[0;34m.\u001b[0m\u001b[0mguess\u001b[0m \u001b[0;34m=\u001b[0m \u001b[0;36m1\u001b[0m \u001b[0;32mif\u001b[0m \u001b[0mnp\u001b[0m\u001b[0;34m.\u001b[0m\u001b[0mrandom\u001b[0m\u001b[0;34m.\u001b[0m\u001b[0mrand\u001b[0m\u001b[0;34m(\u001b[0m\u001b[0;34m)\u001b[0m\u001b[0;34m>\u001b[0m\u001b[0;36m0.5\u001b[0m \u001b[0;32melse\u001b[0m \u001b[0;36m0\u001b[0m \u001b[0;31m#al principio se tira una moneda para ver quien empieza. Por eso es 0 (uno empieza) o 1 (empezo el otro y subio)\u001b[0m\u001b[0;34m\u001b[0m\u001b[0;34m\u001b[0m\u001b[0m\n\u001b[0;32m---> 67\u001b[0;31m         \u001b[0;32mreturn\u001b[0m \u001b[0mself\u001b[0m\u001b[0;34m.\u001b[0m\u001b[0mget_obs\u001b[0m\u001b[0;34m(\u001b[0m\u001b[0;34m)\u001b[0m\u001b[0;34m\u001b[0m\u001b[0;34m\u001b[0m\u001b[0m\n\u001b[0m",
      "\u001b[0;32m<ipython-input-3-21cc582c9aeb>\u001b[0m in \u001b[0;36mget_obs\u001b[0;34m(self)\u001b[0m\n\u001b[1;32m     59\u001b[0m \u001b[0;34m\u001b[0m\u001b[0m\n\u001b[1;32m     60\u001b[0m     \u001b[0;32mdef\u001b[0m \u001b[0mget_obs\u001b[0m\u001b[0;34m(\u001b[0m\u001b[0mself\u001b[0m\u001b[0;34m)\u001b[0m\u001b[0;34m:\u001b[0m\u001b[0;34m\u001b[0m\u001b[0;34m\u001b[0m\u001b[0m\n\u001b[0;32m---> 61\u001b[0;31m         \u001b[0;32mreturn\u001b[0m \u001b[0;34m(\u001b[0m\u001b[0msum\u001b[0m\u001b[0;34m(\u001b[0m\u001b[0mself\u001b[0m\u001b[0;34m.\u001b[0m\u001b[0mplayer_1\u001b[0m\u001b[0;34m)\u001b[0m\u001b[0;34m,\u001b[0m \u001b[0mself\u001b[0m\u001b[0;34m.\u001b[0m\u001b[0mguess\u001b[0m\u001b[0;34m)\u001b[0m\u001b[0;34m\u001b[0m\u001b[0;34m\u001b[0m\u001b[0m\n\u001b[0m\u001b[1;32m     62\u001b[0m \u001b[0;34m\u001b[0m\u001b[0m\n\u001b[1;32m     63\u001b[0m     \u001b[0;32mdef\u001b[0m \u001b[0mreset\u001b[0m\u001b[0;34m(\u001b[0m\u001b[0mself\u001b[0m\u001b[0;34m)\u001b[0m\u001b[0;34m:\u001b[0m\u001b[0;34m\u001b[0m\u001b[0;34m\u001b[0m\u001b[0m\n",
      "\u001b[0;31mKeyboardInterrupt\u001b[0m: "
     ]
    }
   ],
   "source": [
    "# Calcular la politica optima y el value function\n",
    "#Q_sarsa = sarsa(env, 500000, 0.009)\n",
    "\n",
    "Q_sarsa = sarsa(env, 50000, 0.009)\n",
    "print(Q_sarsa)\n",
    "V = dict((k,np.max(v)) for k, v in Q_sarsa.items())\n",
    "plot_values(V)\n"
   ]
  },
  {
   "cell_type": "code",
   "execution_count": null,
   "metadata": {
    "ExecuteTime": {
     "end_time": "2019-06-01T05:31:43.354078Z",
     "start_time": "2019-06-01T05:31:36.302Z"
    }
   },
   "outputs": [],
   "source": [
    "# plotear la politica\n",
    "policy_sarsa = dict((k,np.argmax(v)) for k, v in Q_sarsa.items())\n",
    "plot_policy(policy_sarsa)\n",
    "policy_sarsa"
   ]
  },
  {
   "cell_type": "markdown",
   "metadata": {},
   "source": [
    "## Q-learning"
   ]
  },
  {
   "cell_type": "code",
   "execution_count": null,
   "metadata": {},
   "outputs": [],
   "source": [
    "def update_Q_sarsamax(alpha, gamma, Q, state, action, reward, next_state=None):\n",
    "    # Completar\n",
    "    return new_value"
   ]
  },
  {
   "cell_type": "code",
   "execution_count": null,
   "metadata": {},
   "outputs": [],
   "source": [
    "def q_learning(env, num_episodes, alpha, gamma=1.0,epsmin=0.01):\n",
    "    # Completar\n",
    "    return Q"
   ]
  },
  {
   "cell_type": "code",
   "execution_count": null,
   "metadata": {},
   "outputs": [],
   "source": [
    "# Calcular la politica optima y el value function\n",
    "Q_sarsamax = q_learning(env, 500000, 0.01)\n",
    "V = dict((k,np.max(v)) for k, v in Q_sarsamax.items())\n",
    "plot_values(V)"
   ]
  },
  {
   "cell_type": "code",
   "execution_count": null,
   "metadata": {},
   "outputs": [],
   "source": [
    "# plotear la politica\n",
    "policy_sarsamax = dict((k,np.argmax(v)) for k, v in Q_sarsamax.items())\n",
    "plot_policy(policy_sarsamax)"
   ]
  },
  {
   "cell_type": "code",
   "execution_count": null,
   "metadata": {},
   "outputs": [],
   "source": []
  },
  {
   "cell_type": "code",
   "execution_count": null,
   "metadata": {},
   "outputs": [],
   "source": []
  },
  {
   "cell_type": "code",
   "execution_count": null,
   "metadata": {},
   "outputs": [],
   "source": []
  },
  {
   "cell_type": "code",
   "execution_count": null,
   "metadata": {},
   "outputs": [],
   "source": []
  }
 ],
 "metadata": {
  "kernelspec": {
   "display_name": "Python 3",
   "language": "python",
   "name": "python3"
  },
  "language_info": {
   "codemirror_mode": {
    "name": "ipython",
    "version": 3
   },
   "file_extension": ".py",
   "mimetype": "text/x-python",
   "name": "python",
   "nbconvert_exporter": "python",
   "pygments_lexer": "ipython3",
   "version": "3.7.2"
  },
  "toc": {
   "base_numbering": 1,
   "nav_menu": {},
   "number_sections": true,
   "sideBar": true,
   "skip_h1_title": false,
   "title_cell": "Table of Contents",
   "title_sidebar": "Contents",
   "toc_cell": false,
   "toc_position": {
    "height": "calc(100% - 180px)",
    "left": "10px",
    "top": "150px",
    "width": "245.8px"
   },
   "toc_section_display": true,
   "toc_window_display": true
  }
 },
 "nbformat": 4,
 "nbformat_minor": 2
}
