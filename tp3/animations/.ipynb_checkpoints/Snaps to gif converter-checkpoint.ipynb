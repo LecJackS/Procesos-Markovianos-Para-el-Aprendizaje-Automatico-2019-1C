{
 "cells": [
  {
   "cell_type": "code",
   "execution_count": 2,
   "metadata": {
    "ExecuteTime": {
     "end_time": "2019-06-03T02:53:16.840217Z",
     "start_time": "2019-06-03T02:53:08.208050Z"
    }
   },
   "outputs": [
    {
     "name": "stdout",
     "output_type": "stream",
     "text": [
      "0\n"
     ]
    }
   ],
   "source": [
    "# For converting images in right order\n",
    "from subprocess import call\n",
    "\n",
    "# Suppose your files are like 1.jpeg, 2.jpeg etc. upto 100.jpeg\n",
    "\n",
    "files = []\n",
    "for i in range(0, 69):\n",
    "    files.append('plot_step_00{}.png'.format(i))\n",
    "command = 'convert -delay 20 {} animated.gif'.format(' '.join(files))\n",
    "#command = 'convert -delay 20 plot_step_00*.png animated.gif'\n",
    "\n",
    "print(call(command, shell=True))"
   ]
  },
  {
   "cell_type": "code",
   "execution_count": 10,
   "metadata": {},
   "outputs": [
    {
     "data": {
      "text/plain": [
       "1"
      ]
     },
     "execution_count": 10,
     "metadata": {},
     "output_type": "execute_result"
    }
   ],
   "source": []
  },
  {
   "cell_type": "code",
   "execution_count": null,
   "metadata": {},
   "outputs": [],
   "source": []
  }
 ],
 "metadata": {
  "kernelspec": {
   "display_name": "Python 3",
   "language": "python",
   "name": "python3"
  },
  "language_info": {
   "codemirror_mode": {
    "name": "ipython",
    "version": 3
   },
   "file_extension": ".py",
   "mimetype": "text/x-python",
   "name": "python",
   "nbconvert_exporter": "python",
   "pygments_lexer": "ipython3",
   "version": "3.7.2"
  },
  "toc": {
   "base_numbering": 1,
   "nav_menu": {},
   "number_sections": true,
   "sideBar": true,
   "skip_h1_title": false,
   "title_cell": "Table of Contents",
   "title_sidebar": "Contents",
   "toc_cell": false,
   "toc_position": {},
   "toc_section_display": true,
   "toc_window_display": false
  }
 },
 "nbformat": 4,
 "nbformat_minor": 2
}
